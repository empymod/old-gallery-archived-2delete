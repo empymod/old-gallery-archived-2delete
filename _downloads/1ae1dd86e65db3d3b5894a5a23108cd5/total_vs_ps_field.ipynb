{
  "cells": [
    {
      "cell_type": "code",
      "execution_count": null,
      "metadata": {
        "collapsed": false
      },
      "outputs": [],
      "source": [
        "%matplotlib notebook"
      ]
    },
    {
      "cell_type": "markdown",
      "metadata": {},
      "source": [
        "\n5. Total vs primary/secondary field\n===================================\n\nWe usually use ``emg3d`` for total field computations. However, we can also use\nit in a primary-secondary field formulation, where we compute the primary\nfield with a (semi-)analytical solution.\n\nIn this example we use ``emg3d`` to compute\n\n- Total field\n- Primary field\n- Secondary field\n\nand compare the total field to the primary+secondary field.\n\nThe primary-field computation could be replaced by a 1D modeller such as\n``empymod``. You can play around with the required computation-domain: Using a\nprimary-secondary formulation makes it possible to restrict the required\ncomputation domain for the scatterer a lot, therefore speeding up the\ncomputation. However, we do not dive into that in this example.\n\nBackground\n----------\n\nThe total field is given by\n\n\\begin{align}:label: totalfield\n\n    s \\mu \\sigma \\mathbf{\\hat{E}} + \\nabla \\times\n    \\nabla \\times \\mathbf{\\hat{E}} =\n    -s\\mu\\mathbf{\\hat{J}}_s .\\end{align}\n\nWe can split it up into a primary field $\\mathbf{\\hat{E}}^p$ and a\nsecondary field $\\mathbf{\\hat{E}}^s$,\n\n\\begin{align}:label: fieldsplit\n\n    \\mathbf{\\hat{E}} =  \\mathbf{\\hat{E}}^p + \\mathbf{\\hat{E}}^s,\\end{align}\n\nwhere we also have to split our conductivity model into\n\n\\begin{align}:label: modelsplit\n\n    \\sigma = \\sigma^p + \\Delta\\sigma.\\end{align}\n\nThe primary field could be just the direct field, or the direct field plus the\nair layer, or an entire 1D background, something that can be computed\n(semi-)analytically. The secondary field is everything that is not included in\nthe primary field.\n\nThe primary field is then given by\n\n\\begin{align}:label: primaryfield\n\n    s \\mu \\sigma^p \\mathbf{\\hat{E}}^p + \\nabla \\times\n    \\nabla \\times \\mathbf{\\hat{E}}^p =\n    -s\\mu\\mathbf{\\hat{J}}_s ,\\end{align}\n\nand the secondary field can be computed using the primary field as source,\n\n\\begin{align}:label: secondaryfield\n\n    s \\mu \\sigma \\mathbf{\\hat{E}}^s + \\nabla \\times\n    \\nabla \\times \\mathbf{\\hat{E}}^s =\n    -s\\mu\\Delta\\sigma\\mathbf{\\hat{E}}^p .\\end{align}\n"
      ]
    },
    {
      "cell_type": "code",
      "execution_count": null,
      "metadata": {
        "collapsed": false
      },
      "outputs": [],
      "source": [
        "import emg3d\nimport numpy as np\nimport matplotlib.pyplot as plt\nfrom matplotlib.colors import LogNorm\nplt.style.use('ggplot')"
      ]
    },
    {
      "cell_type": "markdown",
      "metadata": {},
      "source": [
        "Survey\n------\n\n"
      ]
    },
    {
      "cell_type": "code",
      "execution_count": null,
      "metadata": {
        "collapsed": false
      },
      "outputs": [],
      "source": [
        "src = [0, 0, -950, 0, 0]    # x-dir. source at the origin, 50 m above seafloor\noff = np.arange(5, 81)*100  # Offsets\nrec = [off, off*0, -1000]   # In-line receivers on the seafloor\nres = [1e10, 0.3, 1]        # 1D resistivities (Ohm.m): [air, water, backgr.]\nfreq = 1.0                  # Frequency (Hz)"
      ]
    },
    {
      "cell_type": "markdown",
      "metadata": {},
      "source": [
        "Mesh\n----\n\nWe create quite a coarse grid (100 m minimum cell width), to have reasonable\nfast computation times.\n\nAlso note that the mesh here includes a large boundary because of the air\nlayer. If you use a semi-analytical solution for the 1D background you could\nrestrict that domain a lot.\n\n"
      ]
    },
    {
      "cell_type": "code",
      "execution_count": null,
      "metadata": {
        "collapsed": false
      },
      "outputs": [],
      "source": [
        "meshinp = {'freq': freq, 'min_width': 100, 'verb': 0}\nxx, x0 = emg3d.meshes.get_hx_h0(\n    res=[res[1], 100.], fixed=src[0], domain=[-100, 8100], **meshinp)\nyy, y0 = emg3d.meshes.get_hx_h0(\n    res=[res[1], 100.], fixed=src[1], domain=[-500, 500], **meshinp)\nzz, z0 = emg3d.meshes.get_hx_h0(\n    res=[res[1], res[2], 100.], domain=[-2500, 0], fixed=[-1000, 0, -2000],\n    **meshinp)\n\ngrid = emg3d.TensorMesh([xx, yy, zz], x0=np.array([x0, y0, z0]))\ngrid"
      ]
    },
    {
      "cell_type": "markdown",
      "metadata": {},
      "source": [
        "Create model\n------------\n\n"
      ]
    },
    {
      "cell_type": "code",
      "execution_count": null,
      "metadata": {
        "collapsed": false
      },
      "outputs": [],
      "source": [
        "# Layered_background\nres_x = np.ones(grid.nC)*res[0]            # Air resistivity\nres_x[grid.gridCC[:, 2] < 0] = res[1]      # Water resistivity\nres_x[grid.gridCC[:, 2] < -1000] = res[2]  # Background resistivity\n\n# Background model\nmodel_pf = emg3d.Model(grid, property_x=res_x.copy(), mapping='Resistivity')\n\n# Include the target\nxx = (grid.gridCC[:, 0] >= 0) & (grid.gridCC[:, 0] <= 6000)\nyy = abs(grid.gridCC[:, 1]) <= 500\nzz = (grid.gridCC[:, 2] > -2500)*(grid.gridCC[:, 2] < -2000)\n\nres_x[xx*yy*zz] = 100.  # Target resistivity\n\n# Create target model\nmodel = emg3d.Model(grid, property_x=res_x, mapping='Resistivity')\n\n# Plot a slice\ngrid.plot_3d_slicer(\n        model.property_x, zslice=-2250, clim=[0.3, 200],\n        xlim=(-1000, 8000), ylim=(-4000, 4000), zlim=(-3000, 500),\n        pcolor_opts={'norm': LogNorm()}\n)"
      ]
    },
    {
      "cell_type": "markdown",
      "metadata": {},
      "source": [
        "Compute total field with ``emg3d``\n----------------------------------\n\n"
      ]
    },
    {
      "cell_type": "code",
      "execution_count": null,
      "metadata": {
        "collapsed": false
      },
      "outputs": [],
      "source": [
        "modparams = {\n        'verb': -1, 'sslsolver': True,\n        'semicoarsening': True, 'linerelaxation': True\n}\n\nsfield_tf = emg3d.get_source_field(grid, src, freq, strength=0)\nem3_tf = emg3d.solve(grid, model, sfield_tf, **modparams)"
      ]
    },
    {
      "cell_type": "markdown",
      "metadata": {},
      "source": [
        "Compute primary field (1D background) with ``emg3d``\n----------------------------------------------------\n\nHere we use ``emg3d`` to compute the primary field. This could be replaced\nby a (semi-)analytical solution.\n\n"
      ]
    },
    {
      "cell_type": "code",
      "execution_count": null,
      "metadata": {
        "collapsed": false
      },
      "outputs": [],
      "source": [
        "sfield_pf = emg3d.get_source_field(grid, src, freq, strength=0)\nem3_pf = emg3d.solve(grid, model_pf, sfield_pf, **modparams)"
      ]
    },
    {
      "cell_type": "markdown",
      "metadata": {},
      "source": [
        "Compute secondary field (scatterer) with ``emg3d``\n--------------------------------------------------\n\nDefine the secondary source\n```````````````````````````\n\n"
      ]
    },
    {
      "cell_type": "code",
      "execution_count": null,
      "metadata": {
        "collapsed": false
      },
      "outputs": [],
      "source": [
        "# Get the difference of conductivity as volume-average values\ndiff = 1/model.property_x-1/model_pf.property_x\ndsigma = grid.vol.reshape(grid.vnC, order='F')*diff\n\n# Here we use the primary field computed with emg3d. This could be done\n# with a 1D modeller such as empymod instead.\nfx = em3_pf.fx.copy()\nfy = em3_pf.fy.copy()\nfz = em3_pf.fz.copy()\n\n# Average delta sigma to the corresponding edges\nfx[:, 1:-1, 1:-1] *= 0.25*(dsigma[:, :-1, :-1] + dsigma[:, 1:, :-1] +\n                           dsigma[:, :-1, 1:] + dsigma[:, 1:, 1:])\nfy[1:-1, :, 1:-1] *= 0.25*(dsigma[:-1, :, :-1] + dsigma[1:, :, :-1] +\n                           dsigma[:-1, :, 1:] + dsigma[1:, :, 1:])\nfz[1:-1, 1:-1, :] *= 0.25*(dsigma[:-1, :-1, :] + dsigma[1:, :-1, :] +\n                           dsigma[:-1, 1:, :] + dsigma[1:, 1:, :])\n\n# Create field instance iwu dsigma E\nsfield_sf = sfield_pf.smu0*emg3d.Field(fx, fy, fz, freq=freq)\nsfield_sf.ensure_pec"
      ]
    },
    {
      "cell_type": "markdown",
      "metadata": {},
      "source": [
        "Plot the secondary source\n`````````````````````````\n\nOur secondary source is the entire target, the scatterer. Here we look at the\n$E_x$ secondary source field. But note that the secondary source has\nall three components $E_x$, $E_y$, and $E_z$, even though\nour primary source was purely $x$-directed. (Change ``fx`` to ``fy`` or\n``fz`` in the command below, and simultaneously ``Ex`` to ``Ey`` or ``Ez``,\nto show the other source fields.)\n\n"
      ]
    },
    {
      "cell_type": "code",
      "execution_count": null,
      "metadata": {
        "collapsed": false
      },
      "outputs": [],
      "source": [
        "grid.plot_3d_slicer(\n        sfield_sf.fx.ravel('F'), view='abs', v_type='Ex',\n        zslice=-2250, clim=[1e-17, 1e-9],\n        xlim=(-1000, 8000), ylim=(-4000, 4000), zlim=(-3000, 500),\n        pcolor_opts={'norm': LogNorm()}\n)"
      ]
    },
    {
      "cell_type": "markdown",
      "metadata": {},
      "source": [
        "Compute the secondary source\n````````````````````````````\n\n"
      ]
    },
    {
      "cell_type": "code",
      "execution_count": null,
      "metadata": {
        "collapsed": false
      },
      "outputs": [],
      "source": [
        "em3_sf = emg3d.solve(grid, model, sfield_sf, **modparams)"
      ]
    },
    {
      "cell_type": "markdown",
      "metadata": {},
      "source": [
        "Plot result\n-----------\n\n"
      ]
    },
    {
      "cell_type": "code",
      "execution_count": null,
      "metadata": {
        "collapsed": false
      },
      "outputs": [],
      "source": [
        "# E = E^p + E^s\nem3_ps = em3_pf + em3_sf\n\n# Get the responses at receiver locations\nrectuple = (rec[0], rec[1], rec[2])\nem3_pf_rec = emg3d.get_receiver(grid, em3_pf.fx, rectuple)\nem3_tf_rec = emg3d.get_receiver(grid, em3_tf.fx, rectuple)\nem3_sf_rec = emg3d.get_receiver(grid, em3_sf.fx, rectuple)\nem3_ps_rec = emg3d.get_receiver(grid, em3_ps.fx, rectuple)"
      ]
    },
    {
      "cell_type": "code",
      "execution_count": null,
      "metadata": {
        "collapsed": false
      },
      "outputs": [],
      "source": [
        "plt.figure(figsize=(9, 5))\n\nax1 = plt.subplot(121)\nplt.title('|Real part|')\nplt.plot(off/1e3, abs(em3_pf_rec.real), 'k',\n         label='Primary Field (1D Background)')\nplt.plot(off/1e3, abs(em3_sf_rec.real), '.4', ls='--',\n         label='Secondary Field (Scatterer)')\nplt.plot(off/1e3, abs(em3_ps_rec.real))\nplt.plot(off[::2]/1e3, abs(em3_tf_rec[::2].real), '.')\nplt.plot(off/1e3, abs(em3_ps_rec.real-em3_tf_rec.real))\nplt.xlabel('Offset (km)')\nplt.ylabel('$E_x$ (V/m)')\nplt.yscale('log')\nplt.legend()\n\nax2 = plt.subplot(122, sharey=ax1)\nplt.title('|Imaginary part|')\nplt.plot(off/1e3, abs(em3_pf_rec.imag), 'k')\nplt.plot(off/1e3, abs(em3_sf_rec.imag), '.4', ls='--')\nplt.plot(off/1e3, abs(em3_ps_rec.imag), label='P/S Field')\nplt.plot(off[::2]/1e3, abs(em3_tf_rec[::2].imag), '.', label='Total Field')\nplt.plot(off/1e3, abs(em3_ps_rec.imag-em3_tf_rec.imag),\n         label=r'$\\Delta$|P/S-Total|')\nplt.xlabel('Offset (km)')\nplt.ylabel('$E_x$ (V/m)')\nplt.yscale('log')\nax2.yaxis.tick_right()\nax2.yaxis.set_label_position(\"right\")\nplt.legend()\n\nplt.tight_layout()\nplt.show()"
      ]
    },
    {
      "cell_type": "code",
      "execution_count": null,
      "metadata": {
        "collapsed": false
      },
      "outputs": [],
      "source": [
        "emg3d.Report()"
      ]
    }
  ],
  "metadata": {
    "kernelspec": {
      "display_name": "Python 3",
      "language": "python",
      "name": "python3"
    },
    "language_info": {
      "codemirror_mode": {
        "name": "ipython",
        "version": 3
      },
      "file_extension": ".py",
      "mimetype": "text/x-python",
      "name": "python",
      "nbconvert_exporter": "python",
      "pygments_lexer": "ipython3",
      "version": "3.8.3"
    }
  },
  "nbformat": 4,
  "nbformat_minor": 0
}