{
  "cells": [
    {
      "cell_type": "code",
      "execution_count": null,
      "metadata": {
        "collapsed": false
      },
      "outputs": [],
      "source": [
        "%matplotlib notebook"
      ]
    },
    {
      "cell_type": "markdown",
      "metadata": {},
      "source": [
        "\n1. CPU and RAM usage\n====================\n\nMeasuring and estimating runtime and memory usage of ``emg3d`` as a function of\nmodel size.\n\nThe actually computed results further down are only for relatively small\nmodels, as these examples in the gallery are run very often. Here therefore the\nresults of two larger runs that were run on a cluster:\n\nExample CPU\n-----------\n\n.. figure:: ../../_static/images/CPU.png\n   :scale: 66 %\n   :align: center\n   :alt: Runtime\n   :name: cpu-usage\n\nExample RAM\n-----------\n\n.. figure:: ../../_static/images/RAM.png\n   :scale: 66 %\n   :align: center\n   :alt: RAM\n   :name: ram-usage\n\nCheck-out the old versions for more information with regards to the above\nfigures:\n\n- `4a_RAM-requirements.ipynb\n  <https://github.com/empymod/emg3d-examples/blob/master/4a_RAM-requirements.ipynb>`_,\n- `4b_Runtime.ipynb\n  <https://github.com/empymod/emg3d-examples/blob/master/4b_Runtime.ipynb>`_.\n"
      ]
    },
    {
      "cell_type": "code",
      "execution_count": null,
      "metadata": {
        "collapsed": false
      },
      "outputs": [],
      "source": [
        "import emg3d\nimport numpy as np\nimport matplotlib.pyplot as plt\nfrom memory_profiler import memory_usage\nplt.style.use('ggplot')"
      ]
    },
    {
      "cell_type": "markdown",
      "metadata": {},
      "source": [
        "Model\n-----\n\nThis is the actual model it runs. Adjust this to your needs.\n\n"
      ]
    },
    {
      "cell_type": "code",
      "execution_count": null,
      "metadata": {
        "collapsed": false
      },
      "outputs": [],
      "source": [
        "def compute(nx):\n    \"\"\"Simple computation routine.\n\n    - Model size is nx * nx * nx, centered around the origin.\n    - Source is at the origin, x-directed.\n    - Frequency is 1 Hz.\n    - Homogenous space of 1 Ohm.m.\n\n    \"\"\"\n\n    # Grid\n    hx = np.ones(nx)*50\n    x0 = -nx//2*50\n    grid = emg3d.TensorMesh([hx, hx, hx], x0=(x0, x0, x0))\n\n    # Source location and frequency\n    src = [0, 0, 0, 0, 0]\n    freq = 1.0\n\n    # Resistivity model\n    res = 1.\n\n    # Model and source field\n    model = emg3d.Model(grid, property_x=res, mapping='Resistivity')\n    sfield = emg3d.get_source_field(grid, src, freq=freq, strength=0)\n\n    # Compute the field\n    _, inf = emg3d.solve(grid, model, sfield, verb=1, return_info=True)\n\n    return inf['time']"
      ]
    },
    {
      "cell_type": "markdown",
      "metadata": {},
      "source": [
        "Loop over model sizes\n---------------------\n\nThese are the actual ``nx``-sizes it tests. Adjust to your needs.\n\n"
      ]
    },
    {
      "cell_type": "code",
      "execution_count": null,
      "metadata": {
        "collapsed": false
      },
      "outputs": [],
      "source": [
        "nsizes = np.array([32, 48, 64, 96, 128, 192])  # , 256, 384, 512, 768, 1024])\nmemory = np.zeros(nsizes.shape)\nruntime = np.zeros(nsizes.shape)\n\n# Loop over nx\nfor i, nx in enumerate(nsizes):\n    print(f\"  => {nx}^3 = {nx**3:12,d} cells\")\n    mem, time = memory_usage((compute, (nx, ), {}), retval=True)\n    memory[i] = max(mem)\n    runtime[i] = time"
      ]
    },
    {
      "cell_type": "markdown",
      "metadata": {},
      "source": [
        "Plot CPU\n````````\n\n"
      ]
    },
    {
      "cell_type": "code",
      "execution_count": null,
      "metadata": {
        "collapsed": false
      },
      "outputs": [],
      "source": [
        "plt.figure()\nplt.title('Runtime')\nplt.loglog(nsizes**3/1e6, runtime, '.-')\nplt.xlabel('Number of cells (in millions)')\nplt.ylabel('CPU (s)')\nplt.axis('equal')\nplt.show()"
      ]
    },
    {
      "cell_type": "markdown",
      "metadata": {},
      "source": [
        "Plot RAM\n````````\n\n"
      ]
    },
    {
      "cell_type": "code",
      "execution_count": null,
      "metadata": {
        "collapsed": false
      },
      "outputs": [],
      "source": [
        "plt.figure()\nplt.title('Memory')\nplt.loglog(nsizes**3/1e6, memory/1e3, '-', zorder=10)\nplt.xlabel('Number of cells (in millions)')\nplt.ylabel('RAM (GB)')\nplt.axis('equal')\nplt.show()"
      ]
    },
    {
      "cell_type": "code",
      "execution_count": null,
      "metadata": {
        "collapsed": false
      },
      "outputs": [],
      "source": [
        "emg3d.Report('memory_profiler')"
      ]
    }
  ],
  "metadata": {
    "kernelspec": {
      "display_name": "Python 3",
      "language": "python",
      "name": "python3"
    },
    "language_info": {
      "codemirror_mode": {
        "name": "ipython",
        "version": 3
      },
      "file_extension": ".py",
      "mimetype": "text/x-python",
      "name": "python",
      "nbconvert_exporter": "python",
      "pygments_lexer": "ipython3",
      "version": "3.8.3"
    }
  },
  "nbformat": 4,
  "nbformat_minor": 0
}