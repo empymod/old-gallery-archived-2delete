{
  "cells": [
    {
      "cell_type": "code",
      "execution_count": null,
      "metadata": {
        "collapsed": false
      },
      "outputs": [],
      "source": [
        "%matplotlib notebook"
      ]
    },
    {
      "cell_type": "markdown",
      "metadata": {},
      "source": [
        "\n1. SEG-EAGE 3D Salt Model\n=========================\n\n\nIn this example we reproduce the results by [Muld07]_, which uses the SEG/EAGE\nsalt model from [AmBK97]_.\n\nVelocity to resistivity transform\n---------------------------------\n\nQuoting here the description of the velocity-to-resistivity transform used by\n[Muld07]_:\n\n    \"The SEG/EAGE salt model (Aminzadeh et al. 1997), originally designed for\n    seismic simulations, served as a template for a realistic subsurface model.\n    Its dimensions are 13500 by 13480 by 4680 m. The seismic velocities of the\n    model were replaced by resistivity values. The water velocity of 1.5 km/s\n    was replaced by a resistivity of 0.3 Ohm m. Velocities above 4 km/s,\n    indicative of salt, were replaced by 30 Ohm m. Basement, beyond 3660 m\n    depth, was set to 0.002 Ohm m. The resistivity of the sediments was\n    determined by $(v/1700)^{3.88}$ Ohm m, with the velocity v in m/s\n    (Meju et al. 2003). For air, the resistivity was set to $10^8$ Ohm\n    m.\"\n\nEquation 1 of [MeGM03]_, is given by\n\n\\begin{align}:label: meju\n\n    \\log_{10}\\rho = m \\log_{10}V_P + c \\ ,\\end{align}\n\nwhere $\\rho$ is resistivity, $V_P$ is P-wave velocity, and for\n$m$ and $c$ 3.88 and -11 were used, respectively.\n\nThe velocity-to-resistivity transform uses therefore a Faust model ([Faus53]_)\nwith some additional constraints for water, salt, and basement.\n"
      ]
    },
    {
      "cell_type": "code",
      "execution_count": null,
      "metadata": {
        "collapsed": false
      },
      "outputs": [],
      "source": [
        "import emg3d\nimport joblib\nimport zipfile\nimport pyvista\nimport numpy as np\nimport matplotlib.pyplot as plt\nfrom matplotlib.colors import LogNorm\nplt.style.use('ggplot')"
      ]
    },
    {
      "cell_type": "markdown",
      "metadata": {},
      "source": [
        "Velocity-to-resistivity transform\n---------------------------------\n\nThe following cell loads the resistivity model ``res-model.lzma`` (~14 MB),\nif it already exists in ``../data/SEG/``, or alternatively loads the velocity\nmodel ``Saltf@@``, carries out the velocity-to-resistivity transform, and\nstores the resistivity model.\n\nYou can get the data from the `SEG-website\n<https://wiki.seg.org/wiki/SEG/EAGE_Salt_and_Overthrust_Models>`_ or via this\n`direct link\n<https://s3.amazonaws.com/open.source.geoscience/open_data/seg_eage_models_cd/Salt_Model_3D.tar.gz>`_.\nThe zip-file is 513.1 MB big. Unzip the archive, and place the file\n``Salt_Model_3D/3-D_Salt_Model/VEL_GRIDS/SALTF.ZIP`` (20.0 MB) into\n``../data/SEG/`` (or adjust the path in the following cell).\n\n"
      ]
    },
    {
      "cell_type": "code",
      "execution_count": null,
      "metadata": {
        "collapsed": false
      },
      "outputs": [],
      "source": [
        "path = '../data/SEG/'\ntry:\n    # Get resistivities if we already computed them\n    res = joblib.load(path+'res-model.lzma')\n\n    # Get dimension\n    nx, ny, nz = res.shape\n\nexcept FileNotFoundError:  # THE ORIGINAL DATA ARE REQUIRED!\n\n    # Dimensions\n    nx, ny, nz = 676, 676, 210\n\n    # Extract Saltf@@ from SALTF.ZIP\n    zipfile.ZipFile(path+'SALTF.ZIP', 'r').extract('Saltf@@', path=path)\n\n    # Load data\n    with open(path+'Saltf@@', 'r') as file:\n        v = np.fromfile(file, dtype=np.dtype('float32').newbyteorder('>'))\n        v = v.reshape(nx, ny, nz, order='F')\n\n    # Velocity to resistivity transform for whole cube\n    res = (v/1700)**3.88  # Sediment resistivity = 1\n\n    # Overwrite basement resistivity from 3660 m onwards\n    res[:, :, np.arange(nz)*20 > 3660] = 500.  # Resistivity of basement\n\n    # Set sea-water to 0.3\n    res[:, :, :15][v[:, :, :15] <= 1500] = 0.3\n\n    # Fix salt resistivity\n    res[v == 4482] = 30.\n\n    # Save it in compressed form\n    # THE SEG/EAGE salt-model uses positive z downwards; discretize positive\n    # upwards. Hence:\n    # => for res, use np.flip(res, 2) to flip the z-direction\n    res = np.flip(res, 2)\n\n    # Very fast, but not so effective (118.6 MB).\n    # joblib.dump(res, './res-model', compress=True)\n\n    # lzma: very slow, but very effective (~ 18.6 MB).\n    joblib.dump(res, path+'res-model.lzma')\n\n# Create a discretize-mesh\nmesh = emg3d.TensorMesh(\n        [np.ones(nx)*20., np.ones(ny)*20., np.ones(nz)*20.], x0='00N')\nmodels = {'res': np.log10(res.ravel('F'))}\n\n# Limit colour-range\n# We're cutting here the colour-spectrum at 50 Omega.m (affects only\n# the basement) to have a better resolution in the sediments.\nclim = np.log10([np.nanmin(res), 50])\n\nmesh"
      ]
    },
    {
      "cell_type": "markdown",
      "metadata": {},
      "source": [
        "3D-slicer\n---------\n\n"
      ]
    },
    {
      "cell_type": "code",
      "execution_count": null,
      "metadata": {
        "collapsed": false
      },
      "outputs": [],
      "source": [
        "mesh.plot_3d_slicer(models['res'], zslice=-2000, clim=clim)"
      ]
    },
    {
      "cell_type": "markdown",
      "metadata": {},
      "source": [
        "PyVista plot\n------------\n\nCreate an interactive 3D render of the data.\n\n"
      ]
    },
    {
      "cell_type": "code",
      "execution_count": null,
      "metadata": {
        "collapsed": false
      },
      "outputs": [],
      "source": [
        "dataset = mesh.toVTK(models)\n\n# Create the rendering scene and add a grid axes\np = pyvista.Plotter(notebook=True)\np.show_grid(location='outer')\n\ndparams = {'rng': clim, 'cmap': 'viridis', 'show_edges': False}\n# Add spatially referenced data to the scene\nxyz = (5000, 6000, -3200)\np.add_mesh(dataset.slice('x', xyz), name='x-slice', **dparams)\np.add_mesh(dataset.slice('y', xyz), name='y-slice', **dparams)\np.add_mesh(dataset.slice('z', xyz), name='z-slice', **dparams)\n\n# Get the salt body\np.add_mesh(dataset.threshold([1.47, 1.48]), name='vol', **dparams)\n\n# Show the scene!\np.camera_position = [(27000, 37000, 5800), (6600, 6600, -3300), (0, 0, 1)]\np.show()"
      ]
    },
    {
      "cell_type": "markdown",
      "metadata": {},
      "source": [
        "Forward modelling\n-----------------\n\nSurvey parameters\n`````````````````\n\n"
      ]
    },
    {
      "cell_type": "code",
      "execution_count": null,
      "metadata": {
        "collapsed": false
      },
      "outputs": [],
      "source": [
        "src = [6400, 6600, 6500, 6500, -50, -50]  # source location\nfreq = 1.0                                # Frequency"
      ]
    },
    {
      "cell_type": "markdown",
      "metadata": {},
      "source": [
        "Initialize computation mesh\n```````````````````````````\n\n"
      ]
    },
    {
      "cell_type": "code",
      "execution_count": null,
      "metadata": {
        "collapsed": false
      },
      "outputs": [],
      "source": [
        "# Get computation domain as a function of frequency (resp., skin depth)\nhx_min, xdomain = emg3d.meshes.get_domain(\n        x0=6500, freq=freq, limits=[0, 13500], min_width=[5, 100])\nhz_min, zdomain = emg3d.meshes.get_domain(\n        freq=freq, limits=[-4180, 0], min_width=[5, 20], fact_pos=40)\n\n# Create stretched grid\nnx = 2**7\nhx = emg3d.meshes.get_stretched_h(hx_min, xdomain, nx, 6500)\nhy = emg3d.meshes.get_stretched_h(hx_min, xdomain, nx, 6500)\nhz = emg3d.meshes.get_stretched_h(hz_min, zdomain, nx, x0=-100, x1=0)\ngrid = emg3d.TensorMesh(\n        [hx, hy, hz], x0=(xdomain[0], xdomain[0], zdomain[0]))\ngrid"
      ]
    },
    {
      "cell_type": "markdown",
      "metadata": {},
      "source": [
        "Put the salt model onto the modelling mesh\n``````````````````````````````````````````\n\n"
      ]
    },
    {
      "cell_type": "code",
      "execution_count": null,
      "metadata": {
        "collapsed": false
      },
      "outputs": [],
      "source": [
        "# Interpolate resistivities from fine mesh to coarser grid\ncres = emg3d.maps.grid2grid(mesh, res, grid, 'volume')\n\n# Create model\nmodel = emg3d.Model(grid, property_x=cres, mapping='Resistivity')\n\n# Set air resistivity\niz = np.argmin(np.abs(grid.vectorNz))\nmodel.property_x[:, :, iz:] = 1e8\n\n# Ensure at least top layer is water\nmodel.property_x[:, :, iz] = 0.3\n\ncmodels = {'res': np.log10(model.property_x.ravel('F'))}\n\ngrid.plot_3d_slicer(\n        cmodels['res'], zslice=-2000, zlim=(-4180, 500),\n        clim=np.log10([np.nanmin(model.property_x), 50]))"
      ]
    },
    {
      "cell_type": "markdown",
      "metadata": {},
      "source": [
        "Solve the system\n````````````````\n\n"
      ]
    },
    {
      "cell_type": "code",
      "execution_count": null,
      "metadata": {
        "collapsed": false
      },
      "outputs": [],
      "source": [
        "# Source field\nsfield = emg3d.get_source_field(grid, src, freq, 0)\n\npfield = emg3d.solve(\n    grid, model, sfield,\n    sslsolver=True,\n    semicoarsening=False,\n    linerelaxation=False,\n    verb=3)"
      ]
    },
    {
      "cell_type": "code",
      "execution_count": null,
      "metadata": {
        "collapsed": false
      },
      "outputs": [],
      "source": [
        "grid.plot_3d_slicer(\n    pfield.fx.ravel('F'), zslice=-2000, zlim=(-4180, 500),\n    view='abs', v_type='Ex',\n    clim=[1e-16, 1e-9], pcolor_opts={'norm': LogNorm()})"
      ]
    },
    {
      "cell_type": "code",
      "execution_count": null,
      "metadata": {
        "collapsed": false
      },
      "outputs": [],
      "source": [
        "# Interpolate for a \"more detailed\" image\nx = grid.vectorCCx\ny = grid.vectorCCy\nrx = np.repeat([x, ], np.size(x), axis=0)\nry = rx.transpose()\nrz = -2000\ndata = emg3d.get_receiver(grid, pfield.fx, (rx, ry, rz))\n\n# Colour limits\nvmin, vmax = -16, -10.5\n\n# Create a figure\nfig, axs = plt.subplots(figsize=(8, 5), nrows=1, ncols=2)\naxs = axs.ravel()\nplt.subplots_adjust(hspace=0.3, wspace=0.3)\n\ntitles = [r'|Real|', r'|Imaginary|']\ndat = [np.log10(np.abs(data.real)), np.log10(np.abs(data.imag))]\n\nfor i in range(2):\n    plt.sca(axs[i])\n    axs[i].set_title(titles[i])\n    axs[i].set_xlim(min(x)/1000, max(x)/1000)\n    axs[i].set_ylim(min(x)/1000, max(x)/1000)\n    axs[i].axis('equal')\n    cs = axs[i].pcolormesh(x/1000, x/1000, dat[i], vmin=vmin, vmax=vmax,\n                           linewidth=0, rasterized=True,)\n    plt.xlabel('Inline Offset (km)')\n    plt.ylabel('Crossline Offset (km)')\n\n# Colorbar\n# fig.colorbar(cf0, ax=axs[0], label=r'$\\log_{10}$ Amplitude (V/m)')\n\n# Plot colorbar\ncax, kw = plt.matplotlib.colorbar.make_axes(\n        axs, location='bottom', fraction=.05, pad=0.2, aspect=30)\ncb = plt.colorbar(cs, cax=cax, label=r\"$\\log_{10}$ Amplitude (V/m)\", **kw)\n\n# Title\nfig.suptitle(f\"SEG/EAGE Salt Model, depth = {rz/1e3} km.\", y=1, fontsize=16)\n\nplt.show()"
      ]
    },
    {
      "cell_type": "code",
      "execution_count": null,
      "metadata": {
        "collapsed": false
      },
      "outputs": [],
      "source": [
        "emg3d.Report(pyvista)"
      ]
    }
  ],
  "metadata": {
    "kernelspec": {
      "display_name": "Python 3",
      "language": "python",
      "name": "python3"
    },
    "language_info": {
      "codemirror_mode": {
        "name": "ipython",
        "version": 3
      },
      "file_extension": ".py",
      "mimetype": "text/x-python",
      "name": "python",
      "nbconvert_exporter": "python",
      "pygments_lexer": "ipython3",
      "version": "3.8.3"
    }
  },
  "nbformat": 4,
  "nbformat_minor": 0
}