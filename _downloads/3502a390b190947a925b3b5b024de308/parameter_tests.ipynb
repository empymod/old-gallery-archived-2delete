{
  "cells": [
    {
      "cell_type": "code",
      "execution_count": null,
      "metadata": {
        "collapsed": false
      },
      "outputs": [],
      "source": [
        "%matplotlib notebook"
      ]
    },
    {
      "cell_type": "markdown",
      "metadata": {},
      "source": [
        "\n6. Parameter tests\n==================\n\nThe modeller ``emg3d`` has quite a few parameters which can influence the speed\nof a computation. It can be difficult to estimate which is the best setting. In\nthe case that speed is of utmost importance, and a lot of similar models are\ngoing to be computed (e.g. for inversions), it might be worth to do some\ninput parameter testing.\n\n**IMPORTANT:** None of the conclusions you can draw from these figures are\napplicable to other models. What is faster depends on your input. Influence has\nparticularly the degree of anisotropy and of grid stretching. These are simply\nexamples that you can adjust for your problem at hand.\n"
      ]
    },
    {
      "cell_type": "code",
      "execution_count": null,
      "metadata": {
        "collapsed": false
      },
      "outputs": [],
      "source": [
        "import emg3d\nimport numpy as np\nimport matplotlib.pyplot as plt\nfrom matplotlib.colors import LogNorm\nplt.style.use('ggplot')"
      ]
    },
    {
      "cell_type": "code",
      "execution_count": null,
      "metadata": {
        "collapsed": false
      },
      "outputs": [],
      "source": [
        "def plotit(infos, labels):\n    \"\"\"Simple plotting routine for the tests.\"\"\"\n\n    plt.figure()\n\n    # Loop over infos.\n    for i, info in enumerate(infos):\n        plt.plot(info['runtime_at_cycle'],\n                 info['error_at_cycle']/info1['ref_error'],\n                 '.-', label=labels[i])\n\n    plt.legend()\n    plt.xlabel('Time (s)')\n    plt.ylabel('Rel. Error $(-)$')\n    plt.yscale('log')\n\n    plt.show()"
      ]
    },
    {
      "cell_type": "code",
      "execution_count": null,
      "metadata": {
        "collapsed": false
      },
      "outputs": [],
      "source": [
        "# Survey\nzwater = 1000                  # Water depth.\nsrc = [0, 0, 50-zwater, 0, 0]  # Source at origin, 50 m above seafloor.\nfreq = 1.0                     # Frequency (Hz).\n\n# Mesh\nginp = {'min_width': 100, 'verb': 0}\nxx, x0 = emg3d.meshes.get_hx_h0(\n    freq=freq, res=[0.3, 1.], fixed=src[0], domain=[-1000, 5000], **ginp)\nyy, y0 = emg3d.meshes.get_hx_h0(\n    freq=freq, res=[0.3, 1.], fixed=src[1], domain=[-500, 500], **ginp)\nzz, z0 = emg3d.meshes.get_hx_h0(\n    freq=freq, res=[0.3, 1., 0.3], domain=[-2500, 0],\n    fixed=[-1000, 0, -2100], **ginp)\ngrid = emg3d.TensorMesh([xx, yy, zz], x0=np.array([x0, y0, z0]))\nprint(grid)\n\n# Source-field\nsfield = emg3d.get_source_field(grid, src=src, freq=freq)\n\n# Create a simple marine model for the tests.\n\n# Layered_background\nres_x = 1e8*np.ones(grid.vnC)              # Air\nres_x[:, :, grid.vectorCCz <= 0] = 0.3     # Water\nres_x[:, :, grid.vectorCCz <= -1000] = 1.  # Background\n\n# Target\nxt = np.nonzero((grid.vectorCCx >= -500) & (grid.vectorCCx <= 5000))[0]\nyt = np.nonzero((grid.vectorCCy >= -1000) & (grid.vectorCCy <= 1000))[0]\nzt = np.nonzero((grid.vectorCCz >= -2100) & (grid.vectorCCz <= -1800))[0]\nres_x[xt[0]:xt[-1]+1, yt[0]:yt[-1]+1, zt[0]:zt[-1]+1] = 100\n\n# Create a model instance\nmodel_iso = emg3d.Model(grid, property_x=res_x, mapping='Resistivity')\n\n# Plot it for QC\ngrid.plot_3d_slicer(model_iso.property_x.ravel('F'),\n                    pcolor_opts={'norm': LogNorm()})"
      ]
    },
    {
      "cell_type": "markdown",
      "metadata": {},
      "source": [
        "Test 1: F, W, and V MG cycles\n-----------------------------\n\n"
      ]
    },
    {
      "cell_type": "code",
      "execution_count": null,
      "metadata": {
        "collapsed": false
      },
      "outputs": [],
      "source": [
        "inp = {'grid': grid, 'model': model_iso, 'sfield': sfield,\n       'verb': 1, 'return_info': True}\n\n_, info1 = emg3d.solve(cycle='F', **inp)\n_, info2 = emg3d.solve(cycle='W', **inp)\n_, info3 = emg3d.solve(cycle='V', **inp)\n\nplotit([info1, info2, info3], ['F-cycle', 'W-cycle', 'V-cycle'])"
      ]
    },
    {
      "cell_type": "markdown",
      "metadata": {},
      "source": [
        "Test 2: semicoarsening, line-relaxation\n---------------------------------------\n\n"
      ]
    },
    {
      "cell_type": "code",
      "execution_count": null,
      "metadata": {
        "collapsed": false
      },
      "outputs": [],
      "source": [
        "inp = {'grid': grid, 'model': model_iso, 'sfield': sfield,\n       'verb': 1, 'return_info': True}\n\n_, info1 = emg3d.solve(**inp)\n_, info2 = emg3d.solve(semicoarsening=True, **inp)\n_, info3 = emg3d.solve(linerelaxation=True, **inp)\n_, info4 = emg3d.solve(semicoarsening=True, linerelaxation=True, **inp)\n\nplotit([info1, info2, info3, info4], ['MG', 'MG+SC', 'MG+LR', 'MG+SC+LR'])"
      ]
    },
    {
      "cell_type": "markdown",
      "metadata": {},
      "source": [
        "Test 3: MG and BiCGstab\n-----------------------\n\n"
      ]
    },
    {
      "cell_type": "code",
      "execution_count": null,
      "metadata": {
        "collapsed": false
      },
      "outputs": [],
      "source": [
        "inp = {'grid': grid, 'model': model_iso, 'sfield': sfield,\n       'semicoarsening': True, 'verb': 1, 'return_info': True, 'maxit': 500}\n\n_, info1 = emg3d.solve(cycle='F', sslsolver=False, **inp)\n_, info2 = emg3d.solve(cycle='F', sslsolver=True, **inp)\n_, info3 = emg3d.solve(cycle=None, sslsolver=True, **inp)\n\nplotit([info1, info2, info3], ['MG', 'MG+BiCGStab', 'BiCGStab'])"
      ]
    },
    {
      "cell_type": "markdown",
      "metadata": {},
      "source": [
        "Test 4: `nu_init`, `nu_pre`, `nu_coarse`, `nu_post`\n---------------------------------------------------\n\n"
      ]
    },
    {
      "cell_type": "code",
      "execution_count": null,
      "metadata": {
        "collapsed": false
      },
      "outputs": [],
      "source": [
        "inp = {'grid': grid, 'model': model_iso, 'sfield': sfield,\n       'semicoarsening': True, 'verb': 1, 'return_info': True}\n\n_, info1 = emg3d.solve(**inp)\n_, info2 = emg3d.solve(nu_pre=0, **inp)\n_, info3 = emg3d.solve(nu_post=0, **inp)\n_, info4 = emg3d.solve(nu_init=2, **inp)\n\nplotit([info1, info2, info3, info4],\n       ['{0,2,1,2} (default)', '{0,0,1,2}', '{0,2,1,0}', '{2,1,2,1}'])"
      ]
    },
    {
      "cell_type": "code",
      "execution_count": null,
      "metadata": {
        "collapsed": false
      },
      "outputs": [],
      "source": [
        "emg3d.Report()"
      ]
    }
  ],
  "metadata": {
    "kernelspec": {
      "display_name": "Python 3",
      "language": "python",
      "name": "python3"
    },
    "language_info": {
      "codemirror_mode": {
        "name": "ipython",
        "version": 3
      },
      "file_extension": ".py",
      "mimetype": "text/x-python",
      "name": "python",
      "nbconvert_exporter": "python",
      "pygments_lexer": "ipython3",
      "version": "3.8.3"
    }
  },
  "nbformat": 4,
  "nbformat_minor": 0
}