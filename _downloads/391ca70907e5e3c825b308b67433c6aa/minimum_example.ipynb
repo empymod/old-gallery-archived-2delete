{
  "cells": [
    {
      "cell_type": "code",
      "execution_count": null,
      "metadata": {
        "collapsed": false
      },
      "outputs": [],
      "source": [
        "%matplotlib notebook"
      ]
    },
    {
      "cell_type": "markdown",
      "metadata": {},
      "source": [
        "\n1. Minimum working example\n==========================\n\nThis is a simple minimum working example to use the multigrid solver `emg3d`,\nalong the lines of the one provided in the manual as `\"Basic Example\"\n<https://emg3d.readthedocs.io/en/stable/usage.html#basic-example>`_.\n\nTo see some more realistic computations have a look at the other examples in\nthis gallery. In particularly at\n`sphx_glr_gallery_tutorials_simulation.py` to see how to use `emg3d` for a\ncomplex survey with many sources and frequencies.\n\nThis example uses advanced tools of meshing including plotting, for which you\nneed to install additionally ``discretize`` and ``matplotlib``. If you are\ninterested in a basic example that only requires ``emg3d`` and its mandatory\ndependencies here it is:\n\n.. code-block:: python\n\n    import emg3d\n    import numpy as np\n\n    # Create a simple grid, 8 cells of length 1 in each direction,\n    # starting at the origin.\n    hx = np.ones(8)\n    grid = emg3d.TensorMesh(h=[hx, hx, hx], x0=np.array([0, 0, 0]))\n\n    # The model is a fullspace with tri-axial anisotropy.\n    model = emg3d.Model(grid=grid, property_x=1.5, property_y=1.8,\n                        property_z=3.3, mapping='Resistivity')\n\n    # The source is an x-directed, horizontal dipole at (4, 4, 4),\n    # frequency is 10 Hz.\n    sfield = emg3d.get_source_field(grid=grid, src=[4, 4, 4, 0, 0], freq=10.0)\n\n    # Compute the electric signal.\n    efield = emg3d.solve(grid=grid, model=model, sfield=sfield, verb=3)\n\n    # Get the corresponding magnetic signal.\n    hfield = emg3d.get_h_field(grid=grid, model=model, field=efield)\n\n\nLet's start by loading the required modules:\n"
      ]
    },
    {
      "cell_type": "code",
      "execution_count": null,
      "metadata": {
        "collapsed": false
      },
      "outputs": [],
      "source": [
        "import emg3d\nimport numpy as np\nimport matplotlib.pyplot as plt\nfrom matplotlib.colors import LogNorm\nplt.style.use('ggplot')"
      ]
    },
    {
      "cell_type": "markdown",
      "metadata": {},
      "source": [
        "1. Mesh\n-------\n\nFirst we define the mesh (see :class:`emg3d.meshes.TensorMesh` for more\ninfo). In reality, this task requires some careful considerations. E.g., to\navoid edge effects, the mesh should be large enough in order for the fields\nto dissipate, yet fine enough around source and receiver to accurately model\nthem. This grid is too small by any means, but serves as a minimal example.\n(Note that in order to define a mesh in such a way you must have `discretize`\ninstalled; see above for more info.)\n\n"
      ]
    },
    {
      "cell_type": "code",
      "execution_count": null,
      "metadata": {
        "collapsed": false
      },
      "outputs": [],
      "source": [
        "grid = emg3d.TensorMesh(\n        [[(25, 10, -1.04), (25, 28), (25, 10, 1.04)],\n         [(50, 8, -1.03), (50, 16), (50, 8, 1.03)],\n         [(30, 8, -1.05), (30, 16), (30, 8, 1.05)]],\n        x0='CCC')\ngrid"
      ]
    },
    {
      "cell_type": "markdown",
      "metadata": {},
      "source": [
        "2. Model\n--------\n\nNext we define a very simple fullspace resistivity model with\n$\\rho_x=1.5\\,\\Omega\\,\\rm{m}$, $\\rho_y=1.8\\,\\Omega\\,\\rm{m}$, and\n$\\rho_z=3.3\\,\\Omega\\,\\rm{m}$.\n\n"
      ]
    },
    {
      "cell_type": "code",
      "execution_count": null,
      "metadata": {
        "collapsed": false
      },
      "outputs": [],
      "source": [
        "model = emg3d.Model(grid, property_x=1.5, property_y=1.8,\n                    property_z=3.3, mapping='Resistivity')"
      ]
    },
    {
      "cell_type": "markdown",
      "metadata": {},
      "source": [
        "Here we define the model in terms of resistivity. Have a look at the example\n`sphx_glr_gallery_tutorials_mapping.py` to see how to define models\nin terms of conductivity or their logarithms.\n\nPlotting this model results in an obviously rather boring plot, as it simply\nshows a homogeneous space. Here we plot the x-directed resistivity:\n\n"
      ]
    },
    {
      "cell_type": "code",
      "execution_count": null,
      "metadata": {
        "collapsed": false
      },
      "outputs": [],
      "source": [
        "grid.plot_3d_slicer(np.ones(grid.vnC)*model.property_x)  # x-resistivity"
      ]
    },
    {
      "cell_type": "markdown",
      "metadata": {},
      "source": [
        "3. Source field\n---------------\n\nThe source is an x-directed dipole at the origin, with a 10 Hz signal of 1 A\n(``src`` is defined either as ``[x, y, z, dip, azimuth]`` or ``[x0, x1, y0,\ny1, z0, z1]``; the strength can be set via the ``strength`` parameter).\n\n"
      ]
    },
    {
      "cell_type": "code",
      "execution_count": null,
      "metadata": {
        "collapsed": false
      },
      "outputs": [],
      "source": [
        "sfield = emg3d.get_source_field(grid=grid, src=[0, 0, 0, 0, 0], freq=10)"
      ]
    },
    {
      "cell_type": "markdown",
      "metadata": {},
      "source": [
        "4. Compute the electric field\n-----------------------------\n\nFinally we can compute the electric field with ``emg3d``:\n\n"
      ]
    },
    {
      "cell_type": "code",
      "execution_count": null,
      "metadata": {
        "collapsed": false
      },
      "outputs": [],
      "source": [
        "efield = emg3d.solve(grid=grid, model=model, sfield=sfield, verb=3)"
      ]
    },
    {
      "cell_type": "markdown",
      "metadata": {},
      "source": [
        "The computation requires in this case seven multigrid F-cycles and takes just\na few seconds. It was able to coarsen in each dimension four times, where the\ninput grid had 49,152 cells, and the coarsest grid had 12 cells.\n\n5. Plot the result\n------------------\n\nWe can again utilize the in-built functions of a ``discretize``-grid to plot,\ne.g., the x-directed electric field.\n\n"
      ]
    },
    {
      "cell_type": "code",
      "execution_count": null,
      "metadata": {
        "collapsed": false
      },
      "outputs": [],
      "source": [
        "grid.plot_3d_slicer(\n        efield.fx.ravel('F'), view='abs', v_type='Ex',\n        pcolor_opts={'norm': LogNorm()}\n)"
      ]
    },
    {
      "cell_type": "markdown",
      "metadata": {},
      "source": [
        "6. Compute and plot the magnetic field\n--------------------------------------\n\nWe can also get the magnetic field and plot it (note that `v_type='Fx'` now,\nnot `Ex`, as the magnetic fields lives on the faces of the Yee grid):\n\n"
      ]
    },
    {
      "cell_type": "code",
      "execution_count": null,
      "metadata": {
        "collapsed": false
      },
      "outputs": [],
      "source": [
        "hfield = emg3d.get_h_field(grid=grid, model=model, field=efield)\ngrid.plot_3d_slicer(\n        hfield.fx.ravel('F'), view='abs', v_type='Fx',\n        pcolor_opts={'norm': LogNorm()}\n)"
      ]
    },
    {
      "cell_type": "code",
      "execution_count": null,
      "metadata": {
        "collapsed": false
      },
      "outputs": [],
      "source": [
        "emg3d.Report()"
      ]
    }
  ],
  "metadata": {
    "kernelspec": {
      "display_name": "Python 3",
      "language": "python",
      "name": "python3"
    },
    "language_info": {
      "codemirror_mode": {
        "name": "ipython",
        "version": 3
      },
      "file_extension": ".py",
      "mimetype": "text/x-python",
      "name": "python",
      "nbconvert_exporter": "python",
      "pygments_lexer": "ipython3",
      "version": "3.8.3"
    }
  },
  "nbformat": 4,
  "nbformat_minor": 0
}