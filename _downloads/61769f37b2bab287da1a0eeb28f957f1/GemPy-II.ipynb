{
  "cells": [
    {
      "cell_type": "code",
      "execution_count": null,
      "metadata": {
        "collapsed": false
      },
      "outputs": [],
      "source": [
        "%matplotlib notebook"
      ]
    },
    {
      "cell_type": "markdown",
      "metadata": {},
      "source": [
        "\n2. GemPy-II: *Perth Basin*\n==========================\n\nThis example is mainly about building a deep marine resistivity model that can\nbe used in other examples. There is not a lot of explanation. For more details\nregarding the integration of `GemPy` and `emg3d` see the\n`sphx_glr_gallery_interactions_gempy-i.py`, and make sure to consult the\nmany useful information over at `GemPy <https://www.gempy.org>`_.\n\nThe model is based on the `Perth Basin Model\n<https://docs.gempy.org/examples/real/Perth_basin.html>`_ from GemPy. We take\nthe model, assign resistivities to the lithologies, create a random topography,\nmove it 2 km down, fill it up with sea water, and add an air layer. The result\nis what is referred to in other examples as model `GemPy-II`, a synthetic,\ndeep-marine resistivity model.\n\n**Note:** The original model (*Perth_Basin*) hosted on\nhttps://github.com/cgre-aachen/gempy_data is released under the `LGPL-3.0\nLicense <https://www.gnu.org/licenses/lgpl-3.0.en.html>`_.\n"
      ]
    },
    {
      "cell_type": "code",
      "execution_count": null,
      "metadata": {
        "collapsed": false
      },
      "outputs": [],
      "source": [
        "import emg3d\nimport pyvista\nimport numpy as np\nimport gempy as gempy\nimport matplotlib.pyplot as plt\nfrom matplotlib.colors import LogNorm\nplt.style.use('ggplot')"
      ]
    },
    {
      "cell_type": "markdown",
      "metadata": {},
      "source": [
        "Get and initiate the *Perth Basin*\n----------------------------------\n\n"
      ]
    },
    {
      "cell_type": "code",
      "execution_count": null,
      "metadata": {
        "collapsed": false
      },
      "outputs": [],
      "source": [
        "# Initiate a model\ngeo_model = gempy.create_model('GemPy-II')\n\nurl_path = 'https://raw.githubusercontent.com/cgre-aachen/gempy_data/'\nurl_path += 'master/data/input_data/Perth_basin/'\n\n# Define the grid\nnx, ny, nz = 50, 50, 100\nextent = [337000, 400000, 6640000, 6710000, -12000, 1000]\n\n# Importing the data from CSV-files and setting extent and resolution\ngempy.init_data(\n    geo_model,\n    extent=extent,\n    resolution=[nx, ny, nz],\n    path_i=url_path+\"Paper_GU2F_sc_faults_topo_Points.csv\",\n    path_o=url_path+\"Paper_GU2F_sc_faults_topo_Foliations.csv\",\n)"
      ]
    },
    {
      "cell_type": "markdown",
      "metadata": {},
      "source": [
        "Initiate the stratigraphies and faults\n------------------------------------------------------------\n\n\n\n"
      ]
    },
    {
      "cell_type": "code",
      "execution_count": null,
      "metadata": {
        "collapsed": false
      },
      "outputs": [],
      "source": [
        "# We just follow the example here\ndel_surfaces = ['Cadda', 'Woodada_Kockatea', 'Cattamarra']\ngeo_model.delete_surfaces(del_surfaces)\n\n# Map the different series\ngempy.map_series_to_surfaces(\n    geo_model,\n    {\n        \"fault_Abrolhos_Transfer\": [\"Abrolhos_Transfer\"],\n        \"fault_Coomallo\": [\"Coomallo\"],\n        \"fault_Eneabba_South\": [\"Eneabba_South\"],\n        \"fault_Hypo_fault_W\": [\"Hypo_fault_W\"],\n        \"fault_Hypo_fault_E\": [\"Hypo_fault_E\"],\n        \"fault_Urella_North\": [\"Urella_North\"],\n        \"fault_Urella_South\": [\"Urella_South\"],\n        \"fault_Darling\": [\"Darling\"],\n        \"Sedimentary_Series\": ['Cretaceous', 'Yarragadee', 'Eneabba',\n                               'Lesueur', 'Permian']\n    }\n)\n\norder_series = [\"fault_Abrolhos_Transfer\",\n                \"fault_Coomallo\",\n                \"fault_Eneabba_South\",\n                \"fault_Hypo_fault_W\",\n                \"fault_Hypo_fault_E\",\n                \"fault_Urella_North\",\n                \"fault_Darling\",\n                \"fault_Urella_South\",\n                \"Sedimentary_Series\",\n                \"Basement\"]\n\n_ = geo_model.reorder_series(order_series)\n\n# Drop input data from the deleted series:\ngeo_model.surface_points.df.dropna(inplace=True)\ngeo_model.orientations.df.dropna(inplace=True)\n\n# Set faults\ngeo_model.set_is_fault([\"fault_Abrolhos_Transfer\",\n                        \"fault_Coomallo\",\n                        \"fault_Eneabba_South\",\n                        \"fault_Hypo_fault_W\",\n                        \"fault_Hypo_fault_E\",\n                        \"fault_Urella_North\",\n                        \"fault_Darling\",\n                        \"fault_Urella_South\"])\nfr = geo_model.faults.faults_relations_df.values\nfr[:, :-2] = False\n_ = geo_model.set_fault_relation(fr)"
      ]
    },
    {
      "cell_type": "markdown",
      "metadata": {},
      "source": [
        "Compute the model with GemPy\n----------------------------\n\n"
      ]
    },
    {
      "cell_type": "code",
      "execution_count": null,
      "metadata": {
        "collapsed": false
      },
      "outputs": [],
      "source": [
        "# Set the interpolator.\ngempy.set_interpolator(\n    geo_model,\n    compile_theano=True,\n    theano_optimizer='fast_run',\n    gradient=False,\n    dtype='float32',\n    verbose=[]\n)\n\n# Compute it.\nsol = gempy.compute_model(geo_model, compute_mesh=True)\n\n# Get the solution at the internal grid points.\nsol = gempy.compute_model(geo_model)"
      ]
    },
    {
      "cell_type": "markdown",
      "metadata": {},
      "source": [
        "Assign resistivities to the id's\n--------------------------------\n\nWe define here a discretize mesh identical to the mesh used by GemPy, and\nsubsequently assign resistivities to the different lithologies.\n\nPlease note that these resistivities are made up, and do not necessarily\nrelate to the actual lithologies.\n\n"
      ]
    },
    {
      "cell_type": "code",
      "execution_count": null,
      "metadata": {
        "collapsed": false
      },
      "outputs": [],
      "source": [
        "# We create a mesh 20 km x 20 km x 5 km, starting at the origin.\n# As long as we have the same number of cells we can trick the original grid\n# into any grid we want.\nhx = np.ones(nx)*20000/nx\nhy = np.ones(ny)*20000/ny\nhz = np.ones(nz)*5000/nz\ngrid = emg3d.TensorMesh([hx, hy, hz], x0=[0, 0, -5000])\n\n# Make up some resistivities that might be interesting to model.\nids = np.round(sol.lith_block)\nres = np.ones(grid.nC)\nres[ids == 9] = 2.0    # Cretaceous\nres[ids == 10] = 1.0   # Yarragadee\nres[ids == 11] = 4.0   # Eneabba\nres[ids == 12] = 50.0  # Lesueur\nres[ids == 13] = 7.0   # Permian\nres[ids == 14] = 10.0  # Basement"
      ]
    },
    {
      "cell_type": "markdown",
      "metadata": {},
      "source": [
        "Topography\n----------\n\nCalls to ``geo_model.set_topography(source='random')`` create a random\ntopography every time. In order to have it reproducible we saved it once and\nload it now.\n\nOriginally it was created and stored like this:\n\n.. code::\n\n    out = geo_model.set_topography(source='random')\n    np.savetxt('../data/GemPy/GemPy-II-topo.txt', out.ravel('F'))\n\n"
      ]
    },
    {
      "cell_type": "code",
      "execution_count": null,
      "metadata": {
        "collapsed": false
      },
      "outputs": [],
      "source": [
        "# Load the stored topography.\ntopo_path = 'https://raw.githubusercontent.com/empymod/emg3d-gallery/'\ntopo_path += 'master/examples/data/GemPy/GemPy-II-topo.txt'\ntopo = np.loadtxt(topo_path).reshape((nx, ny, -1), order='F')\nnp.save('GemPy-II-topo', topo)\nout = geo_model.set_topography(source='saved', filepath='GemPy-II-topo.npy')\ntopo = out.topography.values_2d\n\n# Apply the topography to our resistivity cube.\nres = res.reshape(grid.vnC, order='C')\n\n# Get the scaling factor between the original extent and our made-up extent.\nfact = 5000/np.diff(extent[4:])\n\n# Loop over all x-y-values and convert cells above topography to water.\nfor ix in range(nx):\n    for iy in range(ny):\n        res[ix, iy, grid.vectorCCz > topo[ix, iy, 2]*fact] = 0.3"
      ]
    },
    {
      "cell_type": "markdown",
      "metadata": {},
      "source": [
        "Extend the model by sea water and air\n-------------------------------------\n\n"
      ]
    },
    {
      "cell_type": "code",
      "execution_count": null,
      "metadata": {
        "collapsed": false
      },
      "outputs": [],
      "source": [
        "# Create an emg3d-model.\nmodel = emg3d.Model(grid, property_x=res.ravel('F'), mapping='Resistivity')\n\n# Add 2 km water and 500 m air.\nfhz = np.r_[np.ones(nz)*5000/nz, 2000, 500]\nz0 = -7000\n\n# Make the full mesh\nfullgrid = emg3d.TensorMesh([hx, hy, fhz], x0=[0, 0, z0])\n\n# Extend the model.\nfullmodel = emg3d.Model(fullgrid, np.ones(fullgrid.vnC), mapping='Resistivity')\nfullmodel.property_x[:, :, :-2] = model.property_x\nfullmodel.property_x[:, :, -2] = 0.3\nfullmodel.property_x[:, :, -1] = 1e8\n\nfullgrid"
      ]
    },
    {
      "cell_type": "markdown",
      "metadata": {},
      "source": [
        "Plot the model\n------------------------------\n\n"
      ]
    },
    {
      "cell_type": "code",
      "execution_count": null,
      "metadata": {
        "collapsed": false
      },
      "outputs": [],
      "source": [
        "# With discretize\nfullgrid.plot_3d_slicer(\n    fullmodel.property_x, zslice=-3000, clim=[0.3, 100],\n    pcolor_opts={'cmap': 'viridis', 'norm': LogNorm()}\n)\n\n\n# With PyVista\ndataset = fullgrid.toVTK({'res': np.log10(fullmodel.property_x.ravel('F'))})\n\n# Create the rendering scene and add a grid axes\np = pyvista.Plotter(notebook=True)\np.show_grid(location='outer')\n\n# Add spatially referenced data to the scene\ndparams = {'rng': np.log10([0.3, 500]), 'cmap': 'viridis', 'show_edges': False}\nxyz = (17500, 17500, -1500)\np.add_mesh(dataset.slice('x', xyz), name='x-slice', **dparams)\np.add_mesh(dataset.slice('y', xyz), name='y-slice', **dparams)\n\n# Add a layer as 3D\np.add_mesh(dataset.threshold(\n    [np.log10(49.9), np.log10(50.1)]), name='vol', **dparams)\n\n# Show the scene!\np.camera_position = [(-10000, -41000, 8500), (10000, 10000, -3250), (0, 0, 1)]\np.show()"
      ]
    },
    {
      "cell_type": "markdown",
      "metadata": {},
      "source": [
        "Store the grid and the model for use in other examples.\nemg3d.save('../data/models/GemPy-II.h5', model=fullmodel, mesh=fullgrid)\n\n"
      ]
    },
    {
      "cell_type": "code",
      "execution_count": null,
      "metadata": {
        "collapsed": false
      },
      "outputs": [],
      "source": [
        "emg3d.Report([gempy, pyvista, 'pandas'])"
      ]
    }
  ],
  "metadata": {
    "kernelspec": {
      "display_name": "Python 3",
      "language": "python",
      "name": "python3"
    },
    "language_info": {
      "codemirror_mode": {
        "name": "ipython",
        "version": 3
      },
      "file_extension": ".py",
      "mimetype": "text/x-python",
      "name": "python",
      "nbconvert_exporter": "python",
      "pygments_lexer": "ipython3",
      "version": "3.8.3"
    }
  },
  "nbformat": 4,
  "nbformat_minor": 0
}