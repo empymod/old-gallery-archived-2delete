{
  "cells": [
    {
      "cell_type": "code",
      "execution_count": null,
      "metadata": {
        "collapsed": false
      },
      "outputs": [],
      "source": [
        "%matplotlib notebook"
      ]
    },
    {
      "cell_type": "markdown",
      "metadata": {},
      "source": [
        "\n2. Transient CSEM for a marine model\n====================================\n\nExample how to use ``emg3d`` to model time-domain data using FFTLog.\n"
      ]
    },
    {
      "cell_type": "code",
      "execution_count": null,
      "metadata": {
        "collapsed": false
      },
      "outputs": [],
      "source": [
        "import emg3d\nimport empymod\nimport numpy as np\nimport matplotlib.pyplot as plt\nplt.style.use('ggplot')\nclim = np.log10([0.2, 200])\n\n# Name is used to store the data for each frequency.\nname = 'Marine-1D'"
      ]
    },
    {
      "cell_type": "markdown",
      "metadata": {},
      "source": [
        "Model and Survey\n----------------\n\nModel\n`````\n- 1 km water depth, 0.3 Ohm.m.\n- Target of 100 Ohm.m, 500 m thick, 1 km below seafloor.\n- Air set to 1e8 Ohm.m, background is 1 Ohm.m.\n\nSurvey\n``````\n- Source at origin, 50 m above seafloor.\n- Receiver on the seafloor at an inline-offset of 4 km.\n- Both source and receiver are x-directed electric dipoles.\n\n"
      ]
    },
    {
      "cell_type": "code",
      "execution_count": null,
      "metadata": {
        "collapsed": false
      },
      "outputs": [],
      "source": [
        "src = [0, 0, -950]\nrec = [4000, 0, -1000]\nres = np.array([1, 100, 1, 0.3, 1e8])\ndepth = np.array([-2500, -2000, -1000, 0])"
      ]
    },
    {
      "cell_type": "markdown",
      "metadata": {},
      "source": [
        "Here we create a dummy mesh with one cell in x- and y-directions, and our 1D\nmodel in z-direction. From this, we can interpolate the model to our varying\nmeshes afterwards.\n\n"
      ]
    },
    {
      "cell_type": "code",
      "execution_count": null,
      "metadata": {
        "collapsed": false
      },
      "outputs": [],
      "source": [
        "# Create the mesh.\norig_mesh = emg3d.TensorMesh(\n    [[1, ], [1, ], np.r_[1000, np.diff(depth), 1000]],\n    x0=('C', 'C', depth[0]-1000))\n\n# Create a resistivity model using the 1D model and the above mesh.\norig_model = emg3d.Model(\n        orig_mesh, property_x=np.array(res), mapping='Resistivity')\n\n# QC.\norig_mesh.plot_3d_slicer(\n        np.log10(orig_model.property_x), zlim=[-3000, 500], clim=clim)\n\n# Get figure and axes\nfig = plt.gcf()\naxs = fig.get_children()\n\nfig.suptitle(r'Resistivity model')\n\n# Adjust the y-labels on the first subplot (XY)\naxs[1].set_yticks([-0.4, -0.2, 0, 0.2, 0.4])\naxs[1].set_yticklabels(['', '', '0.0', '', ''])\naxs[1].set_ylabel('y-direction (m)')\n\n# Adjust x- and y-labels on the second subplot (XZ)\naxs[2].set_xticks([-0.4, -0.2, 0, 0.2, 0.4])\naxs[2].set_xticklabels(['', '', '0.0', '', ''])\naxs[2].set_xlabel('Easting (m)')\n\n# plt.setp(axs[2].yaxis.get_majorticklabels(), rotation=90)\naxs[2].set_yticks([0, -1000, -2000, -2500])\naxs[2].set_yticklabels(['$0.0$', '-1.0', '-2.0', '-2.5'])\naxs[2].set_ylabel('Elevation (km)')\n\n# Adjust x-labels on the third subplot (ZY)\naxs[3].set_xticks([400, 0, -1000, -2000, -2500, -3000])\naxs[3].set_xticklabels(['', '$0.0$', '-1.0', '-2.0', '-2.5'])\n\n# Adjust colorbar\naxs[4].set_ylabel(r'$\\rm{log}_{10}-$resistivity ($\\Omega\\,$m)')\n\n# Ensure sufficient margins so nothing is clipped\nplt.subplots_adjust(bottom=0.1, top=0.9, left=0.1, right=0.9)"
      ]
    },
    {
      "cell_type": "markdown",
      "metadata": {},
      "source": [
        "Fourier Transform parameters\n----------------------------\n\nWe only compute frequencies $0.003 < f < 5$ Hz, which yields enough\nprecision for our purpose.\n\nThis means, instead of 30 frequencies from 0.00002 - 12.6 Hz, we only need 16\nfrequencies from 0.003 - 3.2 Hz.\n\n"
      ]
    },
    {
      "cell_type": "code",
      "execution_count": null,
      "metadata": {
        "collapsed": false
      },
      "outputs": [],
      "source": [
        "# Define desired times.\ntime = np.logspace(-1, 2, 201)\n\n# Initiate a Fourier instance\nFourier = emg3d.Fourier(\n    time=time,\n    fmin=0.003,\n    fmax=5,\n    ft='fftlog',  # Fourier transform to use\n    ftarg={'pts_per_dec': 5, 'add_dec': [-2, 1], 'q': 0},\n)\n\n# Dense frequencies for comparison reasons\nfreq_dense = np.logspace(\n        np.log10(Fourier.freq_req.min()),\n        np.log10(Fourier.freq_req.max()),\n        301\n)"
      ]
    },
    {
      "cell_type": "markdown",
      "metadata": {},
      "source": [
        "Frequency-domain computation\n----------------------------\n\n"
      ]
    },
    {
      "cell_type": "code",
      "execution_count": null,
      "metadata": {
        "collapsed": false
      },
      "outputs": [],
      "source": [
        "# To store the info of each frequency.\nvalues = {}\n\ngridinput = {\n    'min_width': 100,    # Fix cell width within the survey domain to 100 m.\n    'return_info': True,  # To get back some information for later.\n    'max_domain': 50000,\n    'verb': 0,\n}\n\n# Start the timer.\nruntime = emg3d.utils.Time()\n\n# Loop over frequencies, going from high to low.\nfor fi, frq in enumerate(Fourier.freq_calc[::-1]):\n    print(f\"  {fi+1:2}/{Fourier.freq_calc.size} :: {frq:10.6f} Hz\")\n\n    # Key is used to store the data etc.\n    key = int(frq*1e6)\n\n    # Initiate log for this frequency.\n    values[key] = {}\n    values[key]['freq'] = frq\n\n    # Get cell widths and origin in each direction\n    xx, x0, hix = emg3d.meshes.get_hx_h0(\n        freq=frq, res=[0.3, 1e5], fixed=src[0], domain=[-100, 7100],\n        **gridinput)\n    yy, y0, hiy = emg3d.meshes.get_hx_h0(\n        freq=frq, res=[0.3, 1e5], fixed=src[1], domain=[400, 400], **gridinput)\n    zz, z0, hiz = emg3d.meshes.get_hx_h0(\n        freq=frq, res=[0.3, 1., 1e5], domain=[-2300, 0], **gridinput,\n        fixed=[depth[2], depth[3], depth[0]])\n\n    # Store values in log.\n    values[key]['alpha'] = [np.min([hix['amin'], hiy['amin'], hiz['amin']]),\n                            np.max([hix['amax'], hiy['amax'], hiz['amax']])]\n    values[key]['dminmax'] = [np.min([hix['dmin'], hiy['dmin'], hiz['dmin']]),\n                              np.max([hix['dmax'], hiy['dmax'], hiz['dmax']])]\n\n    # Initiate mesh.\n    grid = emg3d.TensorMesh([xx, yy, zz], x0=np.array([x0, y0, z0]))\n    # print(grid)\n    values[key]['nC'] = grid.nC  # Store number of cells in log.\n\n    # Generate model (interpolate on log-scale from our coarse model).\n    res_x = 10**emg3d.maps.grid2grid(\n            orig_mesh, np.log10(orig_model.property_x), grid, 'volume')\n    model = emg3d.Model(grid, property_x=res_x, mapping='Resistivity')\n\n    # QC\n    # grid.plot_3d_slicer(np.log10(model.property_x),\n    #                     zlim=[-3000, 500], clim=clim)\n\n    # Define source.\n    sfield = emg3d.get_source_field(\n        grid, [src[0], src[1], src[2], 0, 0], frq, strength=0)\n\n    # Solve the system.\n    efield, info = emg3d.solve(\n        grid, model, sfield, verb=-1, return_info=True,\n        sslsolver=True,  semicoarsening=True, linerelaxation=True,\n    )\n\n    # Store info\n    values[key]['info'] = info\n\n    # Store value\n    values[key]['data'] = emg3d.get_receiver(\n            grid, efield.fx, (rec[0], rec[1], rec[2]))\n\n# Stop the timer.\ntotal_time = runtime.runtime\n\n# Store data and info to disk\nemg3d.save(name+'.npz', values=values)"
      ]
    },
    {
      "cell_type": "code",
      "execution_count": null,
      "metadata": {
        "collapsed": false
      },
      "outputs": [],
      "source": [
        "# Load info and data\nvalues = emg3d.load(name+'.npz')['values']\n\nruntime = 0\nfor key, value in values.items():\n    print(f\"  {value['freq']:7.3f} Hz: \"\n          f\"{value['info']['it_mg']:2g}/{value['info']['it_ssl']:g} it; \"\n          f\"{value['info']['time']:4.0f} s; \"\n          f\"a: {value['alpha'][0]:.3f} / {value['alpha'][1]:.3f} ; \"\n          f\"nC: {value['nC']:8,.0f}; \"\n          f\"a: {value['dminmax'][0]:5.0f} / {value['dminmax'][1]:7.0f}\")\n    runtime += value['info']['time']\n\nprint(f\"\\n                **** TOTAL RUNTIME :: \"\n      f\"{runtime//60:.0f} min {runtime%60:.1f} s ****\\n\")"
      ]
    },
    {
      "cell_type": "markdown",
      "metadata": {},
      "source": [
        "Load data, interpolate at receiver location\n```````````````````````````````````````````\n\n"
      ]
    },
    {
      "cell_type": "code",
      "execution_count": null,
      "metadata": {
        "collapsed": false
      },
      "outputs": [],
      "source": [
        "# Initiate data with zeros.\ndata = np.zeros((Fourier.freq_calc.size), dtype=complex)\n\n# Loop over frequencies.\nfor fi, frq in enumerate(Fourier.freq_calc):\n    key = str(int(frq*1e6))\n    data[fi] = values[key]['data']"
      ]
    },
    {
      "cell_type": "markdown",
      "metadata": {},
      "source": [
        "Interpolate missing frequencies and compute analytical result\n`````````````````````````````````````````````````````````````\n\n"
      ]
    },
    {
      "cell_type": "code",
      "execution_count": null,
      "metadata": {
        "collapsed": false
      },
      "outputs": [],
      "source": [
        "data_int = Fourier.interpolate(data)\n\n# Compute analytical result using empymod (epm)\nepm_req = empymod.dipole(src, rec, depth, res, Fourier.freq_req, verb=1)\nepm_calc = empymod.dipole(src, rec, depth, res, Fourier.freq_calc, verb=1)\nepm_dense = empymod.dipole(src, rec, depth, res, freq_dense, verb=1)"
      ]
    },
    {
      "cell_type": "markdown",
      "metadata": {},
      "source": [
        "Plot frequency-domain result\n````````````````````````````\n\n"
      ]
    },
    {
      "cell_type": "code",
      "execution_count": null,
      "metadata": {
        "collapsed": false
      },
      "outputs": [],
      "source": [
        "plt.figure(figsize=(10, 7))\n\n# Real, log-lin\nax1 = plt.subplot(321)\nplt.title('(a) log-lin Real')\nplt.plot(freq_dense, 1e9*epm_dense.real, 'C1')\nplt.plot(Fourier.freq_req, 1e9*data_int.real, 'k.', label='interpolated')\nplt.plot(Fourier.freq_calc, 1e9*data.real, 'C0*')\nplt.ylabel('$E_x$ (nV/m)')\nplt.xscale('log')\n\n# Real, log-symlog\nax3 = plt.subplot(323, sharex=ax1)\nplt.title('(c) log-symlog Real')\nplt.plot(freq_dense, 1e9*epm_dense.real, 'C1')\nplt.plot(Fourier.freq_req, 1e9*data_int.real, 'k.')\nplt.plot(Fourier.freq_calc, 1e9*data.real, 'C0*')\nplt.ylabel('$E_x$ (nV/m)')\nplt.xscale('log')\nplt.yscale('symlog', linthreshy=1e-5)\n\n# Real, error\nax5 = plt.subplot(325, sharex=ax3)\nplt.title('(e) clipped 0.01-10')\n\n# Compute the error\nerr_int_r = np.clip(100*abs((data_int.real-epm_req.real) /\n                            epm_req.real), 0.01, 10)\nerr_cal_r = np.clip(100*abs((data.real-epm_calc.real) /\n                            epm_calc.real), 0.01, 10)\n\nplt.ylabel('Rel. error %')\nplt.plot(Fourier.freq_req, err_int_r, 'k.')\nplt.plot(Fourier.freq_calc, err_cal_r, 'C0*')\nplt.axhline(1, color='.4')\n\nplt.xscale('log')\nplt.yscale('log')\nplt.ylim([0.008, 12])\nplt.xlabel('Frequency (Hz)')\n\n# Imaginary, log-lin\nax2 = plt.subplot(322)\nplt.title('(b) log-lin Imag')\nplt.plot(freq_dense, 1e9*epm_dense.imag, 'C1')\nplt.plot(Fourier.freq_req, 1e9*data_int.imag, 'k.', label='interpolated')\nplt.plot(Fourier.freq_calc, 1e9*data.imag, 'C0*')\nplt.xscale('log')\n\n# Imaginary, log-symlog\nax4 = plt.subplot(324, sharex=ax2)\nplt.title('(d) log-symlog Imag')\nplt.plot(freq_dense, 1e9*epm_dense.imag, 'C1')\nplt.plot(Fourier.freq_req, 1e9*data_int.imag, 'k.')\nplt.plot(Fourier.freq_calc, 1e9*data.imag, 'C0*')\n\nplt.xscale('log')\nplt.yscale('symlog', linthreshy=1e-5)\n\n# Imaginary, error\nax6 = plt.subplot(326, sharex=ax2)\nplt.title('(f) clipped 0.01-10')\n\n# Compute error\nerr_int_i = np.clip(100*abs((data_int.imag-epm_req.imag) /\n                            epm_req.imag), 0.01, 10)\nerr_cal_i = np.clip(100*abs((data.imag-epm_calc.imag) /\n                            epm_calc.imag), 0.01, 10)\n\nplt.plot(Fourier.freq_req, err_int_i, 'k.')\nplt.plot(Fourier.freq_calc, err_cal_i, 'C0*')\nplt.axhline(1, color='.4')\n\nplt.xscale('log')\nplt.yscale('log')\nplt.ylim([0.008, 12])\nplt.xlabel('Frequency (Hz)')\n\nplt.tight_layout()\nplt.show()"
      ]
    },
    {
      "cell_type": "markdown",
      "metadata": {},
      "source": [
        "Fourier Transform\n-----------------\n\nCarry-out Fourier transform, compute analytical result\n\n"
      ]
    },
    {
      "cell_type": "code",
      "execution_count": null,
      "metadata": {
        "collapsed": false
      },
      "outputs": [],
      "source": [
        "# Compute corresponding time-domain signal.\ndata_time = Fourier.freq2time(data, rec[0])\n\n# Analytical result\nepm_time_precise = empymod.dipole(src, rec, depth, res, time, signal=0, verb=1)\nepm_time = empymod.dipole(\n        src, rec, depth, res, time, signal=0,\n        ft=Fourier.ft, ftarg=Fourier.ftarg, verb=1)"
      ]
    },
    {
      "cell_type": "markdown",
      "metadata": {},
      "source": [
        "Plot time-domain result\n```````````````````````\n\n"
      ]
    },
    {
      "cell_type": "code",
      "execution_count": null,
      "metadata": {
        "collapsed": false
      },
      "outputs": [],
      "source": [
        "fig = plt.figure(figsize=(8, 6))\n\n# lin-lin\nplt.subplot(221)\nplt.title('(a) lin-lin')\nplt.plot(time, epm_time_precise*1e9, 'k', lw=2)\nplt.plot(time, epm_time*1e9, 'C1')\nplt.plot(time, data_time*1e9, 'C0')\nplt.ylabel('$E_x$ (nV/m)')\nplt.xlim([-0.1, 12])\nplt.xlabel('Time (s)')\n\n# log-log\nax2 = plt.subplot(222)\nplt.title('(b) log-log')\nplt.plot(time, epm_time_precise*1e9, 'k', lw=2, label='empymod, analytical')\nplt.plot(time, epm_time*1e9, 'C1', label='empymod, same FT as emg3d')\nplt.plot(time, data_time*1e9, 'C0', label='emg3d, FFTLog')\nperr = 100*(max(data_time)-max(epm_time_precise))/max(epm_time_precise)\nplt.plot(-1, 1e9, 'k>', label=f\"Peak error: {perr:.2f} %\")\nplt.ylim([1e-8, 1e-3])\nplt.xscale('log')\nplt.yscale('log')\n\n# Error\nax4 = plt.subplot(224, sharex=ax2)\nplt.title('(c) clipped 0.01-10 %')\n\n# Compute error\nerr = np.clip(100*abs((data_time-epm_time_precise)/epm_time_precise), 0.01, 10)\nerr2 = np.clip(100*abs((epm_time-epm_time_precise)/epm_time_precise), 0.01, 10)\n\nplt.loglog(time, err2, 'C1.')\nplt.loglog(time, err, 'C0.')\nplt.hlines(1, 0, 100)\nplt.xlabel('Time (s)')\nplt.ylabel('Rel. error %')\nplt.ylim([0.008, 12])\n\nplt.tight_layout()\n\n# Plot peak error\nax2.legend(bbox_to_anchor=(-0.5, -0.5))\n\nplt.show()"
      ]
    },
    {
      "cell_type": "markdown",
      "metadata": {},
      "source": [
        "Further explanations to the results in the above figure:\n````````````````````````````````````````````````````````\n\n- The black line is a very accurate result using ``empymod`` and the\n  following characteristics for the Fourier transform:\n\n  - Filter: Key 201 CosSin (2012)\n  - DLF type: Lagged Convolution\n  - Required frequencies: 251, from 1.5e-9 to 1.8e6 Hz\n\n- The blue result was equally obtained with ``empymod``, but with the\n  Fourier-transform parameters as used for ``emg3d``, hence FFTLog with 5 pts\n  per decade. However, in contrary to the red response, all frequencies are\n  computed, with a very high precision.\n- The red result is the result obtain with ``emg3d``.\n\n\n"
      ]
    },
    {
      "cell_type": "code",
      "execution_count": null,
      "metadata": {
        "collapsed": false
      },
      "outputs": [],
      "source": [
        "emg3d.Report()"
      ]
    }
  ],
  "metadata": {
    "kernelspec": {
      "display_name": "Python 3",
      "language": "python",
      "name": "python3"
    },
    "language_info": {
      "codemirror_mode": {
        "name": "ipython",
        "version": 3
      },
      "file_extension": ".py",
      "mimetype": "text/x-python",
      "name": "python",
      "nbconvert_exporter": "python",
      "pygments_lexer": "ipython3",
      "version": "3.8.3"
    }
  },
  "nbformat": 4,
  "nbformat_minor": 0
}