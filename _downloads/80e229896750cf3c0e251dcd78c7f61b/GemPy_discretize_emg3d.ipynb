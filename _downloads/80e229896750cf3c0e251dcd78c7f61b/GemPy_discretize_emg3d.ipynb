{
  "cells": [
    {
      "cell_type": "code",
      "execution_count": null,
      "metadata": {
        "collapsed": false
      },
      "outputs": [],
      "source": [
        "%matplotlib notebook"
      ]
    },
    {
      "cell_type": "markdown",
      "metadata": {},
      "source": [
        "\n1. GemPy\n========\n\nUse GemPy to create a geological model as input to emg3d.\n\nA simple example how you can use `GemPy <https://www.gempy.org>`_ to create a\ngeological model, move it onto `discretize <http://discretize.simpeg.xyz>`_,\nand compute CSEM data with `emg3d <https://empymod.github.io>`_. Having it in\ndiscretize allows us to plot it with `PyVista <https://github.com/pyvista>`_.\n"
      ]
    },
    {
      "cell_type": "code",
      "execution_count": null,
      "metadata": {
        "collapsed": false
      },
      "outputs": [],
      "source": [
        "import emg3d\nimport pyvista\nimport numpy as np\nimport gempy as gempy\nimport matplotlib.pyplot as plt\nfrom matplotlib.colors import LogNorm\nplt.style.use('ggplot')"
      ]
    },
    {
      "cell_type": "markdown",
      "metadata": {},
      "source": [
        "Creating a geological model\n---------------------------\n\nWe start by using the model given in `Chapter 1.1\n<https://docs.gempy.org/tutorials/ch1_fundamentals/ch1_1_basics.html>`_ of\nthe GemPy documentation. It is a nice, made-up model of a folded structure\nwith a fault.\n\n**Changes made:** We load the csv-files from the above example in Chapter\n1.1. I changed the stratigraphic unit names, and moved the model 2 km down.\n\nInstead of reading a csv-file we could initiate an empty instance and then\nadd points and orientations after that by, e.g., providing numpy arrays.\n\n"
      ]
    },
    {
      "cell_type": "code",
      "execution_count": null,
      "metadata": {
        "collapsed": false
      },
      "outputs": [],
      "source": [
        "# Initiate a model\ngeo_model = gempy.create_model('gempy-discretize-emg3d')\n\n# Location of data files.\ndata_url = 'https://raw.githubusercontent.com/empymod/emg3d-gallery/'\ndata_url += 'master/examples/interactions/data/'\n\n# Importing the data from CSV-files and setting extent and resolution\n# This is a regular grid, mainly for plotting purposes\ngempy.init_data(\n    geo_model,\n    [0, 2000., 0, 2000., -2000, 40.], [50, 50, 51],\n    path_o=data_url+\"simple_fault_model_orientations.csv\",\n    path_i=data_url+\"simple_fault_model_points.csv\",\n)"
      ]
    },
    {
      "cell_type": "markdown",
      "metadata": {},
      "source": [
        "Initiate the stratigraphies and faults, and add resistivities to lithology\n--------------------------------------------------------------------------\n\n"
      ]
    },
    {
      "cell_type": "code",
      "execution_count": null,
      "metadata": {
        "collapsed": false
      },
      "outputs": [],
      "source": [
        "# Add an air-layer: Horizontal layer at z=0m\ngeo_model.add_surfaces('air')\ngeo_model.add_surface_points(0, 0, 0, 'air')\ngeo_model.add_surface_points(0, 0, 0, 'air')\ngeo_model.add_orientations(0, 0, 0, 'air', [0, 0, 1])\n\n# Add a Series for the air layer; this series will not be cut by the fault\ngeo_model.add_series('Air_Series')\ngeo_model.modify_order_series(2, 'Air_Series')\ngempy.map_series_to_surfaces(geo_model, {'Air_Series': 'air'})\n\n# Map the different series\ngempy.map_series_to_surfaces(\n    geo_model,\n    {\n        \"Fault_Series\": 'fault',\n        \"Air_Series\": ('air'),\n        \"Strat_Series\": ('seawater', 'overburden', 'target',\n                         'underburden', 'basement')\n    },\n    remove_unused_series=True\n)\n\ngeo_model.rename_series({'Main_Fault': 'Fault_Series'})"
      ]
    },
    {
      "cell_type": "code",
      "execution_count": null,
      "metadata": {
        "collapsed": false
      },
      "outputs": [],
      "source": [
        "# Set which series the fault series is cutting\ngeo_model.set_is_fault('Fault_Series')\ngeo_model.faults.faults_relations_df"
      ]
    },
    {
      "cell_type": "markdown",
      "metadata": {},
      "source": [
        "Model generation\n----------------\n\n"
      ]
    },
    {
      "cell_type": "code",
      "execution_count": null,
      "metadata": {
        "collapsed": false
      },
      "outputs": [],
      "source": [
        "gempy.set_interpolator(\n    geo_model,\n    compile_theano=True,\n    theano_optimizer='fast_compile',\n    verbose=[]\n)"
      ]
    },
    {
      "cell_type": "code",
      "execution_count": null,
      "metadata": {
        "collapsed": false
      },
      "outputs": [],
      "source": [
        "sol = gempy.compute_model(geo_model, compute_mesh=True)"
      ]
    },
    {
      "cell_type": "code",
      "execution_count": null,
      "metadata": {
        "collapsed": false
      },
      "outputs": [],
      "source": [
        "# Plot lithologies (colour-code corresponds to lithologies)\n_ = gempy.plot_2d(geo_model, cell_number=25, direction='y', show_data=True)"
      ]
    },
    {
      "cell_type": "markdown",
      "metadata": {},
      "source": [
        "Let's start with a discretize mesh for a CSEM survey.\n\nSource location and frequency\n\n"
      ]
    },
    {
      "cell_type": "code",
      "execution_count": null,
      "metadata": {
        "collapsed": false
      },
      "outputs": [],
      "source": [
        "src = [1000, 1000, -500, 0, 0]  # x-directed e-source at (1000, 1000, -500)\nfreq = 1.0                      # Frequency"
      ]
    },
    {
      "cell_type": "code",
      "execution_count": null,
      "metadata": {
        "collapsed": false
      },
      "outputs": [],
      "source": [
        "# Get computation domain as a function of frequency (resp., skin depth)\nhx_min, xdomain = emg3d.meshes.get_domain(\n        x0=src[0], freq=freq, limits=[0, 2000], min_width=[5, 100])\nhz_min, zdomain = emg3d.meshes.get_domain(\n        freq=freq, limits=[-2000, 0], min_width=[5, 20], fact_pos=40)\n\n# Create stretched grid\nnx = 2**6\nhx = emg3d.meshes.get_stretched_h(hx_min, xdomain, nx, src[0])\nhy = emg3d.meshes.get_stretched_h(hx_min, xdomain, nx, src[1])\nhz = emg3d.meshes.get_stretched_h(hz_min, zdomain, nx*2, x0=src[2], x1=0)\ngrid = emg3d.TensorMesh(\n        [hx, hy, hz], x0=(xdomain[0], xdomain[0], zdomain[0]))\ngrid"
      ]
    },
    {
      "cell_type": "markdown",
      "metadata": {},
      "source": [
        "Put resistivities to stratigraphic units\n----------------------------------------\n\nWe could define the resistivities before, but currently it is difficult for\nGemPy to interpolate for something like resistivities with a very wide range\nof values (several orders of magnitudes). So we can simply map it here to the\n``id`` (Note: GemPy does not do interpolation for cells which lie in\ndifferent stratigraphies).\n\n"
      ]
    },
    {
      "cell_type": "code",
      "execution_count": null,
      "metadata": {
        "collapsed": false
      },
      "outputs": [],
      "source": [
        "# First, we have to get the id's for our mesh\nsol = gempy.compute_model(geo_model, at=grid.gridCC)"
      ]
    },
    {
      "cell_type": "code",
      "execution_count": null,
      "metadata": {
        "collapsed": false
      },
      "outputs": [],
      "source": [
        "geo_model.surfaces"
      ]
    },
    {
      "cell_type": "code",
      "execution_count": null,
      "metadata": {
        "collapsed": false
      },
      "outputs": [],
      "source": [
        "# Now, we convert the id's to resistivities\nres = sol.custom[0][0, :grid.nC]\n\nres[res == 1] = 1e8  # air\n# id=2 is the fault\nres[np.round(res) == 3] = 0.3  # sea water\nres[np.round(res) == 4] = 1    # overburden\nres[np.round(res) == 5] = 50   # target\nres[np.round(res) == 6] = 1.5  # underburden\nres[np.round(res) == 7] = 200  # basement"
      ]
    },
    {
      "cell_type": "markdown",
      "metadata": {},
      "source": [
        "Plot the input model\n--------------------\n\n"
      ]
    },
    {
      "cell_type": "code",
      "execution_count": null,
      "metadata": {
        "collapsed": false
      },
      "outputs": [],
      "source": [
        "dataset = grid.toVTK({'res': np.log10(res)})\ndataset = dataset.clip_box(bounds=(0, 2000, 0, 2000, -2000, 0), invert=False)\n\n# Create the rendering scene and add a grid axes\np = pyvista.Plotter(notebook=True)\np.show_grid(location='outer')\n\n# Add spatially referenced data to the scene\ndparams = {'rng': np.log10([0.3, 200]), 'cmap': 'viridis', 'show_edges': False}\nxyz = (1500, 500, -1500)\np.add_mesh(dataset.slice('x', xyz), name='x-slice', **dparams)\np.add_mesh(dataset.slice('y', xyz), name='y-slice', **dparams)\n# p.add_mesh(dataset.slice('z', xyz), name='z-slice', **dparams)\n\n# Add a layer as 3D\np.add_mesh(dataset.threshold([1.69, 1.7]), name='vol', **dparams)\n\n# Show the scene!\np.show()"
      ]
    },
    {
      "cell_type": "markdown",
      "metadata": {},
      "source": [
        "Compute the resistivities\n-------------------------\n\n"
      ]
    },
    {
      "cell_type": "code",
      "execution_count": null,
      "metadata": {
        "collapsed": false
      },
      "outputs": [],
      "source": [
        "# Create model\nmodel = emg3d.Model(grid, property_x=res, mapping='Resistivity')\n\n# Source field\nsfield = emg3d.get_source_field(grid, src, freq, 0)\n\n# Compute the efield\npfield = emg3d.solve(grid, model, sfield, sslsolver=True, verb=3)"
      ]
    },
    {
      "cell_type": "code",
      "execution_count": null,
      "metadata": {
        "collapsed": false
      },
      "outputs": [],
      "source": [
        "grid.plot_3d_slicer(\n    pfield.fx.ravel('F'), zslice=-1000, zlim=(-2000, 50),\n    view='abs', v_type='Ex', clim=[1e-13, 1e-8],\n    pcolor_opts={'cmap': 'viridis', 'norm': LogNorm()})"
      ]
    },
    {
      "cell_type": "markdown",
      "metadata": {},
      "source": [
        "Store so we can use it in other examples.\n\n"
      ]
    },
    {
      "cell_type": "code",
      "execution_count": null,
      "metadata": {
        "collapsed": false
      },
      "outputs": [],
      "source": [
        "emg3d.save('./data/GemPyI.h5', model=model, mesh=grid)"
      ]
    },
    {
      "cell_type": "code",
      "execution_count": null,
      "metadata": {
        "collapsed": false
      },
      "outputs": [],
      "source": [
        "emg3d.Report([gempy, pyvista, 'pandas'])"
      ]
    }
  ],
  "metadata": {
    "kernelspec": {
      "display_name": "Python 3",
      "language": "python",
      "name": "python3"
    },
    "language_info": {
      "codemirror_mode": {
        "name": "ipython",
        "version": 3
      },
      "file_extension": ".py",
      "mimetype": "text/x-python",
      "name": "python",
      "nbconvert_exporter": "python",
      "pygments_lexer": "ipython3",
      "version": "3.8.3"
    }
  },
  "nbformat": 4,
  "nbformat_minor": 0
}