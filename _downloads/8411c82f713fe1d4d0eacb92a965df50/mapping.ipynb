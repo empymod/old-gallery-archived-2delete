{
  "cells": [
    {
      "cell_type": "code",
      "execution_count": null,
      "metadata": {
        "collapsed": false
      },
      "outputs": [],
      "source": [
        "%matplotlib notebook"
      ]
    },
    {
      "cell_type": "markdown",
      "metadata": {},
      "source": [
        "\n3. Model property mapping\n=========================\n\n\nPhysical rock properties (and their units) can be a tricky thing. And `emg3d`\nis no difference in this respect. It was first developed for oil and gas,\nhaving resistive bodies in mind. You will therefore find that the documentation\noften talks about resistivity (Ohm.m). However, internally the computation is\ncarried out in conductivities (S/m), so resistivities are converted into\nconductivities internally. For the simple forward model this is not a big\nissue, as the output is simply the electromagnetic field. However, moving over\nto optimization makes things more complicated, as the gradient of the misfit\nfunction, for instance, depends on the parametrization.\n\nSince `emg3d v0.12.0` it is therefore possible to define a\n:class:`emg3d.models.Model` in different ways, thanks to different maps,\ndefined with the parameter ``mapping``. Currently implemented are six different\nmaps:\n\n- ``'Resistivity'``: $\\rho$ (Ohm.m), the default;\n- ``'LgResistivity'``: $\\log_{10}(\\rho)$;\n- ``'LnResistivity'``: $\\log_e(\\rho)$;\n- ``'Conductivity'``: $\\sigma$ (S/m);\n- ``'LgConductivity'``: $\\log_{10}(\\sigma)$;\n- ``'LnConductivity'``: $\\log_e(\\sigma)$.\n\nWe take here the model from\n`sphx_glr_gallery_tutorials_total_vs_ps_field.py` and map it once as\n``'LgResistivity'`` and once as ``'LgConductivity'``, and verify that the\nresulting electric field is the same.\n"
      ]
    },
    {
      "cell_type": "code",
      "execution_count": null,
      "metadata": {
        "collapsed": false
      },
      "outputs": [],
      "source": [
        "import emg3d\nimport numpy as np\nimport matplotlib.pyplot as plt\nplt.style.use('ggplot')"
      ]
    },
    {
      "cell_type": "markdown",
      "metadata": {},
      "source": [
        "Survey\n------\n\n"
      ]
    },
    {
      "cell_type": "code",
      "execution_count": null,
      "metadata": {
        "collapsed": false
      },
      "outputs": [],
      "source": [
        "src = [0, 0, -950, 0, 0]    # x-dir. source at the origin, 50 m above seafloor\noff = np.arange(5, 81)*100  # Offsets\nrec = [off, off*0, -1000]   # In-line receivers on the seafloor\nres = [1e10, 0.3, 1]        # 1D resistivities (Ohm.m): [air, water, backgr.]\nfreq = 1.0                  # Frequency (Hz)"
      ]
    },
    {
      "cell_type": "markdown",
      "metadata": {},
      "source": [
        "Mesh\n----\n\nWe create quite a coarse grid (100 m minimum cell width), to have reasonable\nfast computation times.\n\n"
      ]
    },
    {
      "cell_type": "code",
      "execution_count": null,
      "metadata": {
        "collapsed": false
      },
      "outputs": [],
      "source": [
        "meshinp = {'freq': freq, 'min_width': 100, 'verb': 0}\nxx, x0 = emg3d.meshes.get_hx_h0(\n    res=[res[1], 100.], fixed=src[0], domain=[-100, 8100], **meshinp)\nyy, y0 = emg3d.meshes.get_hx_h0(\n    res=[res[1], 100.], fixed=src[1], domain=[-500, 500], **meshinp)\nzz, z0 = emg3d.meshes.get_hx_h0(\n    res=[res[1], res[2], 100.], domain=[-2500, 0], fixed=[-1000, 0, -2000],\n    **meshinp)\n\ngrid = emg3d.TensorMesh([xx, yy, zz], x0=np.array([x0, y0, z0]))\ngrid"
      ]
    },
    {
      "cell_type": "markdown",
      "metadata": {},
      "source": [
        "Define resistivities\n--------------------\n\n"
      ]
    },
    {
      "cell_type": "code",
      "execution_count": null,
      "metadata": {
        "collapsed": false
      },
      "outputs": [],
      "source": [
        "# Layered_background\nres_x = np.ones(grid.nC)*res[0]            # Air resistivity\nres_x[grid.gridCC[:, 2] < 0] = res[1]      # Water resistivity\nres_x[grid.gridCC[:, 2] < -1000] = res[2]  # Background resistivity\n\n# Include the target\nxx = (grid.gridCC[:, 0] >= 0) & (grid.gridCC[:, 0] <= 6000)\nyy = abs(grid.gridCC[:, 1]) <= 500\nzz = (grid.gridCC[:, 2] > -2500)*(grid.gridCC[:, 2] < -2000)\n\nres_x[xx*yy*zz] = 100.  # Target resistivity"
      ]
    },
    {
      "cell_type": "markdown",
      "metadata": {},
      "source": [
        "Create ``LgResistivity`` and ``LgConductivity`` models\n------------------------------------------------------\n\n"
      ]
    },
    {
      "cell_type": "code",
      "execution_count": null,
      "metadata": {
        "collapsed": false
      },
      "outputs": [],
      "source": [
        "# Create log10-res model\nmodel_lg_res = emg3d.Model(\n        grid, property_x=np.log10(res_x), mapping='LgResistivity')\n\n# Create log10-con model\nmodel_lg_con = emg3d.Model(\n        grid, property_x=np.log10(1/res_x), mapping='LgConductivity')\n\n# Plot the models\nfig, axs = plt.subplots(figsize=(9, 6), nrows=1, ncols=2)\n\n# log10-res\nf0 = grid.plotSlice(model_lg_res.property_x, v_type='CC',\n                    normal='Y', ind=20, ax=axs[0], clim=[-3, 3])\naxs[0].set_title(r'Resistivity (Ohm.m); $\\log_{10}$-scale')\naxs[0].set_xlim([-1000, 8000])\naxs[0].set_ylim([-3000, 500])\n\n# log10-con\nf1 = grid.plotSlice(model_lg_con.property_x, v_type='CC',\n                    normal='Y', ind=20, ax=axs[1], clim=[-3, 3])\naxs[1].set_title(r'Conductivity (S/m); $\\log_{10}$-scale')\naxs[1].set_xlim([-1000, 8000])\naxs[1].set_ylim([-3000, 500])\n\nplt.tight_layout()\nfig.colorbar(f0[0], ax=axs, orientation='horizontal', fraction=0.05)\nplt.show()"
      ]
    },
    {
      "cell_type": "markdown",
      "metadata": {},
      "source": [
        "Compute electric fields\n-----------------------\n\n"
      ]
    },
    {
      "cell_type": "code",
      "execution_count": null,
      "metadata": {
        "collapsed": false
      },
      "outputs": [],
      "source": [
        "modparams = {\n        'verb': -1, 'sslsolver': True,\n        'semicoarsening': True, 'linerelaxation': True\n}\n\nsfield = emg3d.get_source_field(grid, src, freq, strength=0)\nefield_lg_res = emg3d.solve(grid, model_lg_res, sfield, **modparams)\nefield_lg_con = emg3d.solve(grid, model_lg_con, sfield, **modparams)\n\n# Extract responses at receiver locations.\nrectuple = (rec[0], rec[1], rec[2])\nrec_lg_res = emg3d.get_receiver(grid, efield_lg_res.fx, rectuple)\nrec_lg_con = emg3d.get_receiver(grid, efield_lg_con.fx, rectuple)"
      ]
    },
    {
      "cell_type": "markdown",
      "metadata": {},
      "source": [
        "Compare the two results\n-----------------------\n\n"
      ]
    },
    {
      "cell_type": "code",
      "execution_count": null,
      "metadata": {
        "collapsed": false
      },
      "outputs": [],
      "source": [
        "plt.figure(figsize=(9, 5))\nplt.title('Comparison')\n\n# Log_10(resistivity)-model.\nplt.plot(off/1e3, rec_lg_res.real, 'k',\n         label=r'$\\Re[\\log_{10}(\\rho)]$-model')\nplt.plot(off/1e3, rec_lg_res.imag, 'C1-',\n         label=r'$\\Im[\\log_{10}(\\rho)]$-model')\n\n# Log_10(conductivity)-model.\nplt.plot(off/1e3, rec_lg_con.real, 'C0-.',\n         label=r'$\\Re[\\log_{10}(\\sigma)]$-model')\nplt.plot(off/1e3, rec_lg_con.imag, 'C4-.',\n         label=r'$\\Im[\\log_{10}(\\sigma)]$-model')\n\nplt.xlabel('Offset (km)')\nplt.ylabel('$E_x$ (V/m)')\nplt.yscale('symlog', linthreshy=1e-17)\nplt.legend()\n\nplt.tight_layout()\nplt.show()"
      ]
    },
    {
      "cell_type": "code",
      "execution_count": null,
      "metadata": {
        "collapsed": false
      },
      "outputs": [],
      "source": [
        "emg3d.Report()"
      ]
    }
  ],
  "metadata": {
    "kernelspec": {
      "display_name": "Python 3",
      "language": "python",
      "name": "python3"
    },
    "language_info": {
      "codemirror_mode": {
        "name": "ipython",
        "version": 3
      },
      "file_extension": ".py",
      "mimetype": "text/x-python",
      "name": "python",
      "nbconvert_exporter": "python",
      "pygments_lexer": "ipython3",
      "version": "3.8.3"
    }
  },
  "nbformat": 4,
  "nbformat_minor": 0
}