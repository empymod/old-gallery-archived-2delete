{
  "cells": [
    {
      "cell_type": "code",
      "execution_count": null,
      "metadata": {
        "collapsed": false
      },
      "outputs": [],
      "source": [
        "%matplotlib notebook"
      ]
    },
    {
      "cell_type": "markdown",
      "metadata": {},
      "source": [
        "\n1. Transient CSEM for a homogeneous space\n=========================================\n\nExample how to use ``emg3d`` to model time-domain data, using FFTLog and DLF.\n\nThis example is based on the first example (Figures 3-4) of [MuWS08]_, those\noriginal results are shown at the bottom of this example.\n"
      ]
    },
    {
      "cell_type": "code",
      "execution_count": null,
      "metadata": {
        "collapsed": false
      },
      "outputs": [],
      "source": [
        "import emg3d\nimport empymod\nimport numpy as np\nimport matplotlib.pyplot as plt\nplt.style.use('ggplot')\n\n# Name is used to store the data for each frequency.\nname = 'Fullspace'"
      ]
    },
    {
      "cell_type": "markdown",
      "metadata": {},
      "source": [
        "Model and Survey\n----------------\n\nModel\n`````\n\n- Homogeneous fullspace of 1 Ohm.m.\n\nSurvey\n``````\n- Source at origin.\n- Receiver at an inline-offset of 900 m.\n- Both source and receiver are x-directed electric dipoles.\n\n"
      ]
    },
    {
      "cell_type": "code",
      "execution_count": null,
      "metadata": {
        "collapsed": false
      },
      "outputs": [],
      "source": [
        "src = [0, 0, 0]\nrec = [900, 0, 0]\nres = 1                  # Fullspace resistivity\ndepth = []"
      ]
    },
    {
      "cell_type": "markdown",
      "metadata": {},
      "source": [
        "Fourier Transforms parameters\n-----------------------------\n\nWe only compute frequencies $0.05 < f < 21$ Hz, which yields enough\nprecision for our purpose.\n\nThis means, instead of 30 frequencies from 0.0002 - 126.4 Hz, we only need 14\nfrequencies from 0.05 - 20.0 Hz.\n\n"
      ]
    },
    {
      "cell_type": "code",
      "execution_count": null,
      "metadata": {
        "collapsed": false
      },
      "outputs": [],
      "source": [
        "# Define desired times.\ntime = np.logspace(-2, 1, 201)\n\n# Initiate a Fourier instance\nFourier = emg3d.Fourier(\n    time=time,\n    fmin=0.05,\n    fmax=21,\n    ft='fftlog',  # Fourier transform to use\n    ftarg={'pts_per_dec': 5, 'add_dec': [-2, 1], 'q': 0},\n)\n\n# Dense frequencies for comparison reasons\nfreq_dense = np.logspace(\n        np.log10(Fourier.freq_req.min()),\n        np.log10(Fourier.freq_req.max()),\n        301\n)"
      ]
    },
    {
      "cell_type": "markdown",
      "metadata": {},
      "source": [
        "Frequency-domain computation\n----------------------------\n\n"
      ]
    },
    {
      "cell_type": "code",
      "execution_count": null,
      "metadata": {
        "collapsed": false
      },
      "outputs": [],
      "source": [
        "# To store the info of each frequency.\nvalues = {}\n#\ngridinput = {\n    'res': res,               # Fullspace resistivity.\n    'min_width': [20., 40.],  # Restr. the cell width within the survey domain.\n    'return_info': True,      # To get back some information for later.\n    'pps': 12,                # Many points, to have a small min cell width.\n    'alpha': [1, 1.3, 0.01],  # Lower the alpha will improve the result, but\n    'verb': 0,                # slow down computation.\n}\n#\n# Start the timer.\nruntime = emg3d.utils.Time()\n#\n# Loop over frequencies, going from high to low.\nold_grid = None\nfor fi, frq in enumerate(Fourier.freq_calc[::-1]):\n    print(f\"  {fi+1:2}/{Fourier.freq_calc.size} :: {frq:10.6f} Hz\")\n\n    # Initiate log for this frequency.\n    thislog = {}\n    thislog['freq'] = frq\n\n    # Get cell widths and origin in each direction\n    xx, x0, hix = emg3d.meshes.get_hx_h0(\n        freq=frq, fixed=src[0], domain=[-200, 1100], **gridinput)\n    yz, yz0, hiyz = emg3d.meshes.get_hx_h0(\n        freq=frq, fixed=src[1], domain=[-50, 50], **gridinput)\n\n    # Store values in log.\n    thislog['alpha'] = [np.min([hix['amin'], hiyz['amin']]),\n                        np.max([hix['amax'], hiyz['amax']])]\n    thislog['dminmax'] = [np.min([hix['dmin'], hiyz['dmin']]),\n                          np.max([hix['dmax'], hiyz['dmax']])]\n\n    # Initiate mesh.\n    grid = emg3d.TensorMesh([xx, yz, yz], x0=np.array([x0, yz0, yz0]))\n    # print(grid)\n    thislog['nC'] = grid.nC  # Store number of cells in log.\n\n    # Interpolate the starting electric field from the last one (can speed-up\n    # the computation).\n    if fi == 0:\n        efield = emg3d.Field(grid, freq=frq)\n    else:\n        efield = emg3d.maps.grid2grid(old_grid, efield, grid,\n                                      method='cubic', extrapolate=False)\n        efield = emg3d.Field(grid, efield, freq=frq)\n\n    # Generate model\n    model = emg3d.Model(grid, property_x=res, mapping='Resistivity')\n\n    # Define source.\n    sfield = emg3d.get_source_field(\n        grid, [src[0], src[1], src[2], 0, 0], frq, strength=0)\n\n    # Solve the system.\n    info = emg3d.solve(\n        grid, model, sfield, efield=efield,\n        verb=-1, return_info=True,\n        sslsolver=True,  semicoarsening=True, linerelaxation=True,\n    )\n\n    # Store info\n    thislog['info'] = info\n\n    # Store value\n    thislog['data'] = emg3d.get_receiver(\n            grid, efield.fx, (rec[0], rec[1], rec[2]))\n\n    # Store thislog in values.\n    values[int(frq*1e6)] = thislog\n\n    # Store the grid for the interpolation.\n    old_grid = grid\n\n# Stop the timer.\ntotal_time = runtime.runtime\n\n# Store data and info to disk\nemg3d.save(name+'.npz', values=values)"
      ]
    },
    {
      "cell_type": "code",
      "execution_count": null,
      "metadata": {
        "collapsed": false
      },
      "outputs": [],
      "source": [
        "# Load info and data\nvalues = emg3d.load(name+'.npz')['values']\n\nruntime = 0\nfor key, value in values.items():\n    print(f\"  {value['freq']:7.3f} Hz: \"\n          f\"{value['info']['it_mg']:2g}/{value['info']['it_ssl']:g} it; \"\n          f\"{value['info']['time']:4.0f} s; \"\n          f\"a: {value['alpha'][0]:.3f} / {value['alpha'][1]:.3f} ; \"\n          f\"nC: {value['nC']:8,.0f}; \"\n          f\"a: {value['dminmax'][0]:5.0f} / {value['dminmax'][1]:7.0f}\")\n    runtime += value['info']['time']\n\nprint(f\"\\n                **** TOTAL RUNTIME :: \"\n      f\"{runtime//60:.0f} min {runtime%60:.1f} s ****\\n\")"
      ]
    },
    {
      "cell_type": "markdown",
      "metadata": {},
      "source": [
        "Load data, interpolate at receiver location\n```````````````````````````````````````````\n\n"
      ]
    },
    {
      "cell_type": "code",
      "execution_count": null,
      "metadata": {
        "collapsed": false
      },
      "outputs": [],
      "source": [
        "# Initiate data with zeros.\ndata = np.zeros(Fourier.freq_calc.size, dtype=complex)\n\n# Loop over frequencies.\nfor fi, frq in enumerate(Fourier.freq_calc):\n    key = str(int(frq*1e6))\n    data[fi] = values[key]['data']"
      ]
    },
    {
      "cell_type": "markdown",
      "metadata": {},
      "source": [
        "1. Using FFTLog\n---------------\n\nInterpolate missing frequencies and compute analytical result\n`````````````````````````````````````````````````````````````\n\n"
      ]
    },
    {
      "cell_type": "code",
      "execution_count": null,
      "metadata": {
        "collapsed": false
      },
      "outputs": [],
      "source": [
        "data_int = Fourier.interpolate(data)\n\n# Compute analytical result using empymod (epm)\nepm_req = empymod.dipole(src, rec, depth, res, Fourier.freq_req, verb=1)\nepm_calc = empymod.dipole(src, rec, depth, res, Fourier.freq_calc, verb=1)\nepm_dense = empymod.dipole(src, rec, depth, res, freq_dense, verb=1)"
      ]
    },
    {
      "cell_type": "markdown",
      "metadata": {},
      "source": [
        "Plot frequency-domain result\n````````````````````````````\n\n"
      ]
    },
    {
      "cell_type": "code",
      "execution_count": null,
      "metadata": {
        "collapsed": false
      },
      "outputs": [],
      "source": [
        "plt.figure(figsize=(10, 7))\n\n# Real, log-lin\nax1 = plt.subplot(321)\nplt.title('(a) log-lin Real')\nplt.plot(freq_dense, 1e9*epm_dense.real, 'C1')\nplt.plot(Fourier.freq_req, 1e9*data_int.real, 'k.', label='interpolated')\nplt.plot(Fourier.freq_calc, 1e9*data.real, 'C0*')\nplt.ylabel('$E_x$ (nV/m)')\nplt.xscale('log')\n\n# Real, log-symlog\nax3 = plt.subplot(323, sharex=ax1)\nplt.title('(c) log-symlog Real')\nplt.plot(freq_dense, 1e9*epm_dense.real, 'C1')\nplt.plot(Fourier.freq_req, 1e9*data_int.real, 'k.')\nplt.plot(Fourier.freq_calc, 1e9*data.real, 'C0*')\nplt.ylabel('$E_x$ (nV/m)')\nplt.xscale('log')\nplt.yscale('symlog', linthreshy=1e-5)\n\n# Real, error\nax5 = plt.subplot(325, sharex=ax3)\nplt.title('(e) clipped 0.01-10')\n\n# Compute the error\nerr_int_r = np.clip(100*abs((data_int.real-epm_req.real) /\n                            epm_req.real), 0.01, 10)\nerr_cal_r = np.clip(100*abs((data.real-epm_calc.real) /\n                            epm_calc.real), 0.01, 10)\n\nplt.ylabel('Rel. error %')\nplt.plot(Fourier.freq_req, err_int_r, 'k.')\nplt.plot(Fourier.freq_calc, err_cal_r, 'C0*')\nplt.axhline(1, color='.4')\n\nplt.xscale('log')\nplt.yscale('log')\nplt.ylim([0.008, 12])\nplt.xlabel('Frequency (Hz)')\n\n# Imaginary, log-lin\nax2 = plt.subplot(322)\nplt.title('(b) log-lin Imag')\nplt.plot(freq_dense, 1e9*epm_dense.imag, 'C1')\nplt.plot(Fourier.freq_req, 1e9*data_int.imag, 'k.', label='interpolated')\nplt.plot(Fourier.freq_calc, 1e9*data.imag, 'C0*')\nplt.xscale('log')\n\n# Imaginary, log-symlog\nax4 = plt.subplot(324, sharex=ax2)\nplt.title('(d) log-symlog Imag')\nplt.plot(freq_dense, 1e9*epm_dense.imag, 'C1')\nplt.plot(Fourier.freq_req, 1e9*data_int.imag, 'k.')\nplt.plot(Fourier.freq_calc, 1e9*data.imag, 'C0*')\n\nplt.xscale('log')\nplt.yscale('symlog', linthreshy=1e-5)\n\n# Imaginary, error\nax6 = plt.subplot(326, sharex=ax2)\nplt.title('(f) clipped 0.01-10')\n\n# Compute error\nerr_int_i = np.clip(100*abs((data_int.imag-epm_req.imag) /\n                            epm_req.imag), 0.01, 10)\nerr_cal_i = np.clip(100*abs((data.imag-epm_calc.imag) /\n                            epm_calc.imag), 0.01, 10)\n\nplt.plot(Fourier.freq_req, err_int_i, 'k.')\nplt.plot(Fourier.freq_calc, err_cal_i, 'C0*')\nplt.axhline(1, color='.4')\n\nplt.xscale('log')\nplt.yscale('log')\nplt.ylim([0.008, 12])\nplt.xlabel('Frequency (Hz)')\n\nplt.tight_layout()\nplt.show()"
      ]
    },
    {
      "cell_type": "markdown",
      "metadata": {},
      "source": [
        "Fourier Transform\n`````````````````\n\nCarry-out Fourier transform, compute analytical result\n\n"
      ]
    },
    {
      "cell_type": "code",
      "execution_count": null,
      "metadata": {
        "collapsed": false
      },
      "outputs": [],
      "source": [
        "# Compute corresponding time-domain signal.\ndata_time = Fourier.freq2time(data, rec[0])\n\n# Analytical result\nepm_time_precise = empymod.dipole(src, rec, depth, res, time, signal=0, verb=1)\nepm_time = empymod.dipole(\n        src, rec, depth, res, time, signal=0,\n        ft=Fourier.ft, ftarg=Fourier.ftarg, verb=1)"
      ]
    },
    {
      "cell_type": "markdown",
      "metadata": {},
      "source": [
        "Plot time-domain result\n```````````````````````\n\n"
      ]
    },
    {
      "cell_type": "code",
      "execution_count": null,
      "metadata": {
        "collapsed": false
      },
      "outputs": [],
      "source": [
        "fig = plt.figure(figsize=(8, 6))\n\n# lin-lin\nplt.subplot(221)\nplt.title('(a) lin-lin')\nplt.plot(time, epm_time_precise*1e9, 'k', lw=2)\nplt.plot(time, epm_time*1e9, 'C1')\nplt.plot(time, data_time*1e9, 'C0')\nplt.ylabel('$E_x$ (nV/m)')\nplt.xlim([0, 2])\nplt.xlabel('Time (s)')\n\n# log-log\nax2 = plt.subplot(222)\nplt.title('(b) log-log')\nplt.plot(time, epm_time_precise*1e9, 'k', lw=2, label='empymod, analytical')\nplt.plot(time, epm_time*1e9, 'C1', label='empymod, same FT as emg3d')\nplt.plot(time, data_time*1e9, 'C0', label='emg3d, FFTLog')\nperr = 100*(max(data_time)-max(epm_time_precise))/max(epm_time_precise)\nplt.plot(-1, 1e9, 'k>', label=f\"Peak error: {perr:.2f} %\")\nplt.xlim([1.5e-2, 2e0])\nplt.ylim([1e-6, 1e0])\nplt.xscale('log')\nplt.yscale('log')\n\n# Error\nax4 = plt.subplot(224, sharex=ax2)\nplt.title('(c) clipped 0.01-10 %')\n\n# Compute error\nerr = np.clip(100*abs((data_time-epm_time_precise)/epm_time_precise), 0.01, 10)\nerr2 = np.clip(100*abs((epm_time-epm_time_precise)/epm_time_precise), 0.01, 10)\n\nplt.loglog(time, err2, 'C1.')\nplt.loglog(time, err, 'C0.')\nplt.hlines(1, 0, 100)\nplt.xlabel('Time (s)')\nplt.ylabel('Rel. error %')\nplt.ylim([0.008, 12])\n\nplt.tight_layout()\n\n# Plot peak error\nax2.legend(bbox_to_anchor=(-0.5, -0.5))\n\nplt.show()"
      ]
    },
    {
      "cell_type": "markdown",
      "metadata": {},
      "source": [
        "Further explanations to the results in the above figure:\n````````````````````````````````````````````````````````\n\n- The black line is the analytical fullspace solution in the time-domain.\n- The blue result was obtained with empymod, using the same Fourier-transform\n  parameters as used for ``emg3d``, hence FFTLog with 5 pts per decade.\n  However, in contrary to the red response, all frequencies are computed,\n  with a very high precision.\n- The red result is the result obtain with ``emg3d``.\n\n2. Using DLF\n------------\n\nWe use the same frequencies and computed data as in the FFTLog example, but\napply the digital-linear-filter method for the transformation.\n\nFourier Transform parameters for DLF\n````````````````````````````````````\n\n"
      ]
    },
    {
      "cell_type": "code",
      "execution_count": null,
      "metadata": {
        "collapsed": false
      },
      "outputs": [],
      "source": [
        "Fourier_dlf = emg3d.Fourier(\n    time=time,\n    fmin=0.05,\n    fmax=21,\n    ft='dlf',  # Fourier transform to use\n    ftarg={'pts_per_dec': -1},\n    freq_inp=Fourier.freq_req,  # Use same frequencies as in above example\n)\n\n\n# Dense frequencies for comparison reasons\nfreq_dense_dlf = np.logspace(\n        np.log10(Fourier_dlf.freq_req.min()),\n        np.log10(Fourier_dlf.freq_req.max()),\n        301)\n\n# Get data\ndata_int_dlf = Fourier_dlf.interpolate(data)\n\n# Compute analytical result using empymod (epm)\nepm_req_dlf = empymod.dipole(\n        src, rec, depth, res, Fourier_dlf.freq_req, verb=1)\nepm_calc_dlf = empymod.dipole(\n        src, rec, depth, res, Fourier_dlf.freq_calc, verb=1)\nepm_dense_dlf = empymod.dipole(src, rec, depth, res, freq_dense_dlf, verb=1)"
      ]
    },
    {
      "cell_type": "markdown",
      "metadata": {},
      "source": [
        "Interpolate missing frequencies and compute analytical result\n`````````````````````````````````````````````````````````````\n\n"
      ]
    },
    {
      "cell_type": "code",
      "execution_count": null,
      "metadata": {
        "collapsed": false
      },
      "outputs": [],
      "source": [
        "data_int_dlf = Fourier_dlf.interpolate(data)\n\n# Compute analytical result using empymod (epm)\nepm_req_dlf = empymod.dipole(\n        src, rec, depth, res, Fourier_dlf.freq_req, verb=1)\nepm_calc_dlf = empymod.dipole(\n        src, rec, depth, res, Fourier_dlf.freq_calc, verb=1)\nepm_dense_dlf = empymod.dipole(src, rec, depth, res, freq_dense_dlf, verb=1)"
      ]
    },
    {
      "cell_type": "markdown",
      "metadata": {},
      "source": [
        "Plot frequency-domain result\n````````````````````````````\n\n"
      ]
    },
    {
      "cell_type": "code",
      "execution_count": null,
      "metadata": {
        "collapsed": false
      },
      "outputs": [],
      "source": [
        "plt.figure(figsize=(10, 7))\n\n# Real, log-lin\nax1 = plt.subplot(321)\nplt.title('(a) log-lin Real')\nplt.plot(freq_dense_dlf, 1e9*epm_dense_dlf.real, 'C1')\nplt.plot(Fourier_dlf.freq_req, 1e9*data_int_dlf.real, 'k--',\n         label='interpolated')\nplt.plot(Fourier_dlf.freq_calc, 1e9*data.real, 'C0*')\nplt.ylabel('$E_x$ (nV/m)')\nplt.xscale('log')\n\n# Real, log-symlog\nax3 = plt.subplot(323, sharex=ax1)\nplt.title('(c) log-symlog Real')\nplt.plot(freq_dense_dlf, 1e9*epm_dense_dlf.real, 'C1')\nplt.plot(Fourier_dlf.freq_req, 1e9*data_int_dlf.real, 'k--')\nplt.plot(Fourier_dlf.freq_calc, 1e9*data.real, 'C0*')\nplt.ylabel('$E_x$ (nV/m)')\nplt.xscale('log')\nplt.yscale('symlog', linthreshy=1e-5)\n\n# Real, error\nax5 = plt.subplot(325, sharex=ax3)\nplt.title('(e) clipped 0.01-10')\n\n# Compute the error\nerr_int_r = np.clip(100*abs((data_int_dlf.real-epm_req_dlf.real) /\n                            epm_req_dlf.real), 0.01, 10)\nerr_cal_r = np.clip(100*abs((data.real-epm_calc_dlf.real) /\n                            epm_calc_dlf.real), 0.01, 10)\n\nplt.ylabel('Rel. error %')\nplt.plot(Fourier_dlf.freq_req, err_int_r, 'k.')\nplt.plot(Fourier_dlf.freq_calc, err_cal_r, 'C0*')\nplt.axhline(1, color='.4')\n\nplt.xscale('log')\nplt.yscale('log')\nplt.ylim([0.008, 12])\nplt.xlabel('Frequency (Hz)')\n\n# Imaginary, log-lin\nax2 = plt.subplot(322)\nplt.title('(b) log-lin Imag')\nplt.plot(freq_dense_dlf, 1e9*epm_dense_dlf.imag, 'C1')\nplt.plot(Fourier_dlf.freq_req, 1e9*data_int_dlf.imag, 'k--',\n         label='interpolated')\nplt.plot(Fourier_dlf.freq_calc, 1e9*data.imag, 'C0*')\nplt.xscale('log')\n\n# Imaginary, log-symlog\nax4 = plt.subplot(324, sharex=ax2)\nplt.title('(d) log-symlog Imag')\nplt.plot(freq_dense_dlf, 1e9*epm_dense_dlf.imag, 'C1')\nplt.plot(Fourier_dlf.freq_req, 1e9*data_int_dlf.imag, 'k--')\nplt.plot(Fourier_dlf.freq_calc, 1e9*data.imag, 'C0*')\n\nplt.xscale('log')\nplt.yscale('symlog', linthreshy=1e-5)\n\n# Imaginary, error\nax6 = plt.subplot(326, sharex=ax2)\nplt.title('(f) clipped 0.01-10')\n\n# Compute error\nerr_int_i = np.clip(100*abs((data_int_dlf.imag-epm_req_dlf.imag) /\n                            epm_req_dlf.imag), 0.01, 10)\nerr_cal_i = np.clip(100*abs((data.imag-epm_calc_dlf.imag) /\n                            epm_calc_dlf.imag), 0.01, 10)\n\nplt.plot(Fourier_dlf.freq_req, err_int_i, 'k.')\nplt.plot(Fourier_dlf.freq_calc, err_cal_i, 'C0*')\nplt.axhline(1, color='.4')\n\nplt.xscale('log')\nplt.yscale('log')\nplt.ylim([0.008, 12])\nplt.xlabel('Frequency (Hz)')\n\nplt.tight_layout()\nplt.show()"
      ]
    },
    {
      "cell_type": "markdown",
      "metadata": {},
      "source": [
        "Fourier Transform\n`````````````````\n\nCarry-out Fourier transform.\n\n"
      ]
    },
    {
      "cell_type": "code",
      "execution_count": null,
      "metadata": {
        "collapsed": false
      },
      "outputs": [],
      "source": [
        "# Compute corresponding time-domain signal.\ndata_time_dlf = Fourier_dlf.freq2time(data, rec[0])"
      ]
    },
    {
      "cell_type": "markdown",
      "metadata": {},
      "source": [
        "Plot time-domain result\n```````````````````````\n\n"
      ]
    },
    {
      "cell_type": "code",
      "execution_count": null,
      "metadata": {
        "collapsed": false
      },
      "outputs": [],
      "source": [
        "fig = plt.figure(figsize=(8, 6))\n\n# lin-lin\nplt.subplot(221)\nplt.title('(a) lin-lin')\nplt.plot(time, epm_time_precise*1e9, 'k', lw=2)\nplt.plot(time, epm_time*1e9, 'C1')\nplt.plot(time, data_time_dlf*1e9, 'C0')\nplt.ylabel('$E_x$ (nV/m)')\nplt.xlim([0, 2])\nplt.xlabel('Time (s)')\n\n# log-log\nax2 = plt.subplot(222)\nplt.title('(b) log-log')\nplt.plot(time, epm_time_precise*1e9, 'k', lw=2, label='empymod, analytical')\nplt.plot(time, epm_time*1e9, 'C1', label='empymod, same FT as emg3d')\nplt.plot(time, data_time_dlf*1e9, 'C0', label='emg3d, DLF')\nperr = 100*(max(data_time_dlf)-max(epm_time_precise))/max(epm_time_precise)\nplt.plot(-1, 1e9, 'k>', label=f\"Peak error: {perr:.2f} %\")\nplt.xlim([1.5e-2, 2e0])\nplt.ylim([1e-6, 1e0])\nplt.xscale('log')\nplt.yscale('log')\n\n# Error\nax4 = plt.subplot(224, sharex=ax2)\nplt.title('(c) clipped 0.01-10 %')\n\n# Compute error\nerr = np.clip(100*abs((data_time_dlf-epm_time_precise)/epm_time_precise),\n              0.01, 10)\nerr2 = np.clip(100*abs((epm_time-epm_time_precise)/epm_time_precise),\n               0.01, 10)\n\nplt.loglog(time, err2, 'C1.')\nplt.loglog(time, err, 'C0.')\nplt.hlines(1, 0, 100)\nplt.xlabel('Time (s)')\nplt.ylabel('Rel. error %')\nplt.ylim([0.008, 12])\n\nplt.tight_layout()\n\n# Plot peak error\nax2.legend(bbox_to_anchor=(-0.5, -0.5))\n\nplt.show()"
      ]
    },
    {
      "cell_type": "markdown",
      "metadata": {},
      "source": [
        "3. Results from Mulder et al., 2008, Geophysics\n-----------------------------------------------\n\nTotal computation time (CPU) is 13,632 s, which corresponds to\n3 h 47 min 12 s.\n\n.. figure:: ../../_static/images/Mulder2008_Figs_3-4_Tab_1.png\n   :scale: 66 %\n   :align: center\n   :alt: Results Mulder et al., 2008.\n   :name: Muld08_Fig3-4\n\n   Figures 3 and 4 and Table 1, page F5 of Mulder et al., 2008, Geophysics.\n\nThe published example took roughly **3.75 hours**, whereas here we need just\na **few minutes**. There are two main reasons for the speed gain:\n\n1. gridding and\n2. frequency selection.\n\nNote re first point, gridding: We implemented here an adaptive gridding with\nvarious number of cells. Our computation uses meshes between 36,864\n(64x24x24) and 102,400 (64x40x40) cells, whereas Mulder et al., 2008, used\n2,097,152 (128x128x128) for all frequencies.\n\nNote re second point, frequency selection: We only used 14 frequencies from\n0.05-20 Hz, whereas Mulder et al., 2008, used 26 frequencies from 0.01-100\nHz. Have a look at the example\n`sphx_glr_gallery_time_domain_freqselect.py`.\n\n"
      ]
    },
    {
      "cell_type": "code",
      "execution_count": null,
      "metadata": {
        "collapsed": false
      },
      "outputs": [],
      "source": [
        "emg3d.Report()"
      ]
    }
  ],
  "metadata": {
    "kernelspec": {
      "display_name": "Python 3",
      "language": "python",
      "name": "python3"
    },
    "language_info": {
      "codemirror_mode": {
        "name": "ipython",
        "version": 3
      },
      "file_extension": ".py",
      "mimetype": "text/x-python",
      "name": "python",
      "nbconvert_exporter": "python",
      "pygments_lexer": "ipython3",
      "version": "3.8.3"
    }
  },
  "nbformat": 4,
  "nbformat_minor": 0
}