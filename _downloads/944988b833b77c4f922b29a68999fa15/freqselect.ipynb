{
  "cells": [
    {
      "cell_type": "code",
      "execution_count": null,
      "metadata": {
        "collapsed": false
      },
      "outputs": [],
      "source": [
        "%matplotlib notebook"
      ]
    },
    {
      "cell_type": "markdown",
      "metadata": {},
      "source": [
        "\n3. Interactive frequency selection\n==================================\n\nThe time domain examples `sphx_glr_gallery_time_domain_fullspace.py` and\n`sphx_glr_gallery_time_domain_marine_1D.py` use a relatively small range\nof frequencies to go from the frequency domain to the time domain. The chosen\nfrequencies where designed in an interactive GUI, which you can find in the\nrepo `empymod/frequency-selection\n<https://github.com/empymod/frequency-selection>`_.\n\nThe repo contains a Python file ``freqselect.py``, which contains the routines,\nand two notebooks:\n\n1. ``AdaptiveFrequencySelection.ipynb``: Reproduces and improves a previously\n   published, adaptive frequency-selection scheme.\n2. ``InteractiveFrequencySelection.ipynb``: The interactive GUI that was used\n   to design the selected frequencies in the above mentioned examples.\n\n\nA screenshot of the GUI for the interactive frequency selection is shown in the\nfollowing figure:\n\n.. figure:: ../../_static/images/GUI-freqselect.png\n   :scale: 66 %\n   :align: center\n   :alt: Frequency-selection App\n   :name: freqselect\n\n\nThe GUI uses the 1D modeller ``empymod`` and a layered model, and internally\nthe ``Fourier`` class of the 3D modeller ``emg3d``. The following parameters\ncan be specified interactively:\n\n- points per decade\n- frequency range (min/max)\n- offset\n- Fourier transform (FFTLog or DLF with different filters)\n- signal (impulse or switch-on/-off)\n\nOther parameters have to be specified fix when initiating the widget.\n"
      ]
    },
    {
      "cell_type": "code",
      "execution_count": null,
      "metadata": {
        "collapsed": false
      },
      "outputs": [],
      "source": [
        "import emg3d"
      ]
    },
    {
      "cell_type": "code",
      "execution_count": null,
      "metadata": {
        "collapsed": false
      },
      "outputs": [],
      "source": [
        "emg3d.Report()"
      ]
    }
  ],
  "metadata": {
    "kernelspec": {
      "display_name": "Python 3",
      "language": "python",
      "name": "python3"
    },
    "language_info": {
      "codemirror_mode": {
        "name": "ipython",
        "version": 3
      },
      "file_extension": ".py",
      "mimetype": "text/x-python",
      "name": "python",
      "nbconvert_exporter": "python",
      "pygments_lexer": "ipython3",
      "version": "3.8.3"
    }
  },
  "nbformat": 4,
  "nbformat_minor": 0
}