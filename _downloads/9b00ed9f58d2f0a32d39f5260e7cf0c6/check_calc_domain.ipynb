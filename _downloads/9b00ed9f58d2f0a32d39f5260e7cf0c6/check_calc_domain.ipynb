{
  "cells": [
    {
      "cell_type": "code",
      "execution_count": null,
      "metadata": {
        "collapsed": false
      },
      "outputs": [],
      "source": [
        "%matplotlib notebook"
      ]
    },
    {
      "cell_type": "markdown",
      "metadata": {},
      "source": [
        "\n2. Ensure computation domain is big enough\n==========================================\n\nEnsure the boundary in $\\pm x$, $\\pm y$, and $+ z$ is big\nenough for $\\rho_\\text{air}$.\n\nThe air is very resistive, and EM waves propagate at the speed of light as a\nwave, not diffusive any longer. The whole concept of skin depth does therefore\nnot apply to the air layer. The only attenuation is caused by geometrical\nspreading. In order to not have any effects from the boundary one has to choose\nthe air layer appropriately.\n\nThe important bit is that the resistivity of air has to be taken into account\nalso for the horizontal directions, not only for positive $z$ (upwards\ninto the sky). This is an example to test boundaries on a simple marine model\n(air, water, subsurface) and compare them to the 1D result.\n"
      ]
    },
    {
      "cell_type": "code",
      "execution_count": null,
      "metadata": {
        "collapsed": false
      },
      "outputs": [],
      "source": [
        "import emg3d\nimport empymod\nimport numpy as np\nimport matplotlib.pyplot as plt\nfrom matplotlib.colors import LogNorm\nplt.style.use('ggplot')"
      ]
    },
    {
      "cell_type": "markdown",
      "metadata": {},
      "source": [
        "Model, Survey, and Analytical Solution\n--------------------------------------\n\n"
      ]
    },
    {
      "cell_type": "code",
      "execution_count": null,
      "metadata": {
        "collapsed": false
      },
      "outputs": [],
      "source": [
        "water_depth = 500                    # 500 m water depth\noff = np.linspace(2000, 7000, 501)   # Offsets\nsrc = [np.array([0]), np.array([0]),\n       np.array([-water_depth+50])]  # Source at origin, 50 m above seafloor\nrec = [off, off*0, -water_depth]     # Receivers on the seafloor\ndepth = [-water_depth, 0]            # Simple model\nres = [1, 0.3, 1e8]                  # Simple model\nfreq = 0.1                           # Frequency\n\n# Compute analytical solution\nepm = empymod.dipole(src, rec, depth, res, freq)"
      ]
    },
    {
      "cell_type": "markdown",
      "metadata": {},
      "source": [
        "3D Modelling\n------------\n\n"
      ]
    },
    {
      "cell_type": "code",
      "execution_count": null,
      "metadata": {
        "collapsed": false
      },
      "outputs": [],
      "source": [
        "# Parameter we keep the same for both grids\nx_inp = {'fixed': src[0], 'domain': [src[0][0]-500, off[-1]+500]}\ny_inp = {'fixed': src[1], 'domain': [src[1][0], src[1][0]]}\nz_inp = {'fixed': [0, -water_depth-100, 100], 'domain': [-600, 100]}\ninp = {'freq': freq, 'alpha': [1, 1.25, 0.01], 'min_width': 100}\n\n# Solver parameters\nsolver_inp = {\n        'verb': 3,\n        'sslsolver': True,\n        'semicoarsening': True,\n        'linerelaxation': True\n}"
      ]
    },
    {
      "cell_type": "markdown",
      "metadata": {},
      "source": [
        "1st grid, only considering air resistivity for +z\n-------------------------------------------------\n\nHere we are in the water, so the signal is attenuated before it enters the\nair. So we don't use the resistivity of air to compute the required\nboundary, but 100 Ohm.m instead. (100 is the result of a quick parameter test\nwith $\\rho=1e4, 1e3, 1e2, 1e1$, and the result was that after 100 there\nis not much improvement any longer.)\n\nAlso note that the function ``emg3d.meshes.get_hx_h0`` internally uses six\ntimes the skin depth for the boundary. For $\\rho$ = 100 Ohm.m and\n$f$ = 0.1 Hz, the skin depth $\\delta$ is roughly 16 km, which\ntherefore results in a boundary of roughly 96 km.\n\nSee the documentation of ``emg3d.meshes.get_hx_h0`` for more information on\nhow the grid is created.\n\n"
      ]
    },
    {
      "cell_type": "code",
      "execution_count": null,
      "metadata": {
        "collapsed": false
      },
      "outputs": [],
      "source": [
        "# Get cell widths and origin in each direction\nxx_1, x0_1 = emg3d.meshes.get_hx_h0(res=[res[1], res[0]], **x_inp, **inp)\nyy_1, y0_1 = emg3d.meshes.get_hx_h0(res=[res[1], res[0]], **y_inp, **inp)\nzz_1, z0_1 = emg3d.meshes.get_hx_h0(res=[res[1], res[0], 100], **z_inp, **inp)\n\n# Create grid and correpsoding model\ngrid_1 = emg3d.TensorMesh([xx_1, yy_1, zz_1], x0=np.array([x0_1, y0_1, z0_1]))\nres_1 = res[0]*np.ones(grid_1.nC)\nres_1[grid_1.gridCC[:, 2] > -water_depth] = res[1]\nres_1[grid_1.gridCC[:, 2] > 0] = res[2]\nmodel_1 = emg3d.Model(grid_1, property_x=res_1, mapping='Resistivity')\n\n# QC\ngrid_1.plot_3d_slicer(\n        np.log10(model_1.property_x), zlim=(-2000, 100), clim=[-1, 2])\n\n# Define source and solve the system\nsfield_1 = emg3d.get_source_field(\n        grid_1, [src[0], src[1], src[2], 0, 0], freq)\nefield_1 = emg3d.solve(grid_1, model_1, sfield_1, **solver_inp)"
      ]
    },
    {
      "cell_type": "markdown",
      "metadata": {},
      "source": [
        "2nd grid, considering air resistivity for +/- x, +/- y, and +z\n--------------------------------------------------------------\n\nSee comments below the heading of the 1st grid regarding boundary.\n\n"
      ]
    },
    {
      "cell_type": "code",
      "execution_count": null,
      "metadata": {
        "collapsed": false
      },
      "outputs": [],
      "source": [
        "# Get cell widths and origin in each direction\nxx_2, x0_2 = emg3d.meshes.get_hx_h0(res=[res[1], 100], **x_inp, **inp)\nyy_2, y0_2 = emg3d.meshes.get_hx_h0(res=[res[1], 100], **y_inp, **inp)\nzz_2, z0_2 = emg3d.meshes.get_hx_h0(res=[res[1], res[0], 100], **z_inp, **inp)\n\n# Create grid and correpsoding model\ngrid_2 = emg3d.TensorMesh([xx_2, yy_2, zz_2], x0=np.array([x0_2, y0_2, z0_2]))\nres_2 = res[0]*np.ones(grid_2.nC)\nres_2[grid_2.gridCC[:, 2] > -water_depth] = res[1]\nres_2[grid_2.gridCC[:, 2] > 0] = res[2]\nmodel_2 = emg3d.Model(grid_2, property_x=res_2, mapping='Resistivity')\n\n# QC\n# grid_2.plot_3d_slicer(\n#         np.log10(model_2.property_x), zlim=(-2000, 100), clim=[-1, 2])\n\n# Define source and solve the system\nsfield_2 = emg3d.get_source_field(\n        grid_2, [src[0], src[1], src[2], 0, 0], freq)\nefield_2 = emg3d.solve(grid_2, model_2, sfield_2, **solver_inp)"
      ]
    },
    {
      "cell_type": "markdown",
      "metadata": {},
      "source": [
        "Plot receiver responses\n-----------------------\n\n"
      ]
    },
    {
      "cell_type": "code",
      "execution_count": null,
      "metadata": {
        "collapsed": false
      },
      "outputs": [],
      "source": [
        "# Interpolate fields at receiver positions\nemg_1 = emg3d.get_receiver(\n        grid_1, efield_1.fx, (rec[0], rec[1], rec[2]))\nemg_2 = emg3d.get_receiver(\n        grid_2, efield_2.fx, (rec[0], rec[1], rec[2]))"
      ]
    },
    {
      "cell_type": "code",
      "execution_count": null,
      "metadata": {
        "collapsed": false
      },
      "outputs": [],
      "source": [
        "plt.figure(figsize=(10, 7))\n\n# Real, log-lin\nax1 = plt.subplot(321)\nplt.title('(a) lin-lin Real')\nplt.plot(off/1e3, epm.real, 'k', lw=2, label='analytical')\nplt.plot(off/1e3, emg_1.real, 'C0--', label='grid 1')\nplt.plot(off/1e3, emg_2.real, 'C1:', label='grid 2')\nplt.ylabel('$E_x$ (V/m)')\nplt.legend()\n\n# Real, log-symlog\nax3 = plt.subplot(323, sharex=ax1)\nplt.title('(c) lin-symlog Real')\nplt.plot(off/1e3, epm.real, 'k')\nplt.plot(off/1e3, emg_1.real, 'C0--')\nplt.plot(off/1e3, emg_2.real, 'C1:')\nplt.ylabel('$E_x$ (V/m)')\nplt.yscale('symlog', linthreshy=1e-15)\n\n# Real, error\nax5 = plt.subplot(325, sharex=ax3)\nplt.title('(e) clipped 0.01-10')\n\n# Compute the error\nerr_real_1 = np.clip(100*abs((epm.real-emg_1.real)/epm.real), 0.01, 10)\nerr_real_2 = np.clip(100*abs((epm.real-emg_2.real)/epm.real), 0.01, 10)\n\nplt.ylabel('Rel. error %')\nplt.plot(off/1e3, err_real_1, 'C0--')\nplt.plot(off/1e3, err_real_2, 'C1:')\nplt.axhline(1, color='.4')\n\nplt.yscale('log')\nplt.ylim([0.008, 12])\nplt.xlabel('Offset (km)')\n\n# Imaginary, log-lin\nax2 = plt.subplot(322)\nplt.title('(b) lin-lin Imag')\nplt.plot(off/1e3, epm.imag, 'k')\nplt.plot(off/1e3, emg_1.imag, 'C0--')\nplt.plot(off/1e3, emg_2.imag, 'C1:')\n\n# Imaginary, log-symlog\nax4 = plt.subplot(324, sharex=ax2)\nplt.title('(d) lin-symlog Imag')\nplt.plot(off/1e3, epm.imag, 'k')\nplt.plot(off/1e3, emg_1.imag, 'C0--')\nplt.plot(off/1e3, emg_2.imag, 'C1:')\n\nplt.yscale('symlog', linthreshy=1e-15)\n\n# Imaginary, error\nax6 = plt.subplot(326, sharex=ax2)\nplt.title('(f) clipped 0.01-10')\n\n# Compute error\nerr_imag_1 = np.clip(100*abs((epm.imag-emg_1.imag)/epm.imag), 0.01, 10)\nerr_imag_2 = np.clip(100*abs((epm.imag-emg_2.imag)/epm.imag), 0.01, 10)\n\nplt.plot(off/1e3, err_imag_1, 'C0--')\nplt.plot(off/1e3, err_imag_2, 'C1:')\nplt.axhline(1, color='.4')\n\nplt.yscale('log')\nplt.ylim([0.008, 12])\nplt.xlabel('Offset (km)')\n\nplt.tight_layout()\nplt.show()"
      ]
    },
    {
      "cell_type": "markdown",
      "metadata": {},
      "source": [
        "Plot entire fields to analyze and compare\n-----------------------------------------\n\n1st grid\n````````\n\nUpper plot shows the entire grid. One can see that the airwave attenuates to\namplitudes in the order of 1e-17 at the boundary, absolutely good enough.\nHowever, the amplitudes in the horizontal directions are very high even at\nthe boundaries $\\pm x$ and $\\pm y$.\n\n"
      ]
    },
    {
      "cell_type": "code",
      "execution_count": null,
      "metadata": {
        "collapsed": false
      },
      "outputs": [],
      "source": [
        "grid_1.plot_3d_slicer(\n    efield_1.fx.ravel('F'), view='abs', v_type='Ex', clim=[1e-17, 1e-9],\n    xslice=src[0], yslice=src[1], zslice=rec[2],\n    pcolor_opts={'norm': LogNorm()})\ngrid_1.plot_3d_slicer(\n    efield_1.fx.ravel('F'), view='abs', v_type='Ex', clim=[1e-17, 1e-9],\n    zlim=[-5000, 1000],\n    xslice=src[0], yslice=src[1], zslice=rec[2],\n    pcolor_opts={'norm': LogNorm()})"
      ]
    },
    {
      "cell_type": "markdown",
      "metadata": {},
      "source": [
        "2nd grid\n````````\n\nAgain, upper plot shows the entire grid. One can see that the field\nattenuated sufficiently in all directions. Lower plot shows the same cut-out\nas the lower plot for the first grid, our zone of interest.\n\n"
      ]
    },
    {
      "cell_type": "code",
      "execution_count": null,
      "metadata": {
        "collapsed": false
      },
      "outputs": [],
      "source": [
        "grid_2.plot_3d_slicer(\n    efield_2.fx.ravel('F'), view='abs', v_type='Ex', clim=[1e-17, 1e-9],\n    xslice=src[0], yslice=src[1], zslice=rec[2],\n    pcolor_opts={'norm': LogNorm()})\ngrid_2.plot_3d_slicer(\n    efield_2.fx.ravel('F'), view='abs', v_type='Ex', clim=[1e-17, 1e-9],\n    xlim=[grid_1.vectorNx[0], grid_1.vectorNx[-1]],  # Same square as grid_1\n    ylim=[grid_1.vectorNy[0], grid_1.vectorNy[-1]],  # Same square as grid_1\n    zlim=[-5000, 1000],\n    xslice=src[0], yslice=src[1], zslice=rec[2],\n    pcolor_opts={'norm': LogNorm()})"
      ]
    },
    {
      "cell_type": "code",
      "execution_count": null,
      "metadata": {
        "collapsed": false
      },
      "outputs": [],
      "source": [
        "emg3d.Report()"
      ]
    }
  ],
  "metadata": {
    "kernelspec": {
      "display_name": "Python 3",
      "language": "python",
      "name": "python3"
    },
    "language_info": {
      "codemirror_mode": {
        "name": "ipython",
        "version": 3
      },
      "file_extension": ".py",
      "mimetype": "text/x-python",
      "name": "python",
      "nbconvert_exporter": "python",
      "pygments_lexer": "ipython3",
      "version": "3.8.3"
    }
  },
  "nbformat": 4,
  "nbformat_minor": 0
}