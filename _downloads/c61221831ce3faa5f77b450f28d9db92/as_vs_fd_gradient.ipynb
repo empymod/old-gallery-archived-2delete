{
  "cells": [
    {
      "cell_type": "code",
      "execution_count": null,
      "metadata": {
        "collapsed": false
      },
      "outputs": [],
      "source": [
        "%matplotlib notebook"
      ]
    },
    {
      "cell_type": "markdown",
      "metadata": {},
      "source": [
        "\n4. Adjoint-state vs. FD gradient\n================================\n\nThe **gradient of the misfit function**, as implemented in `emg3d`, uses the\nadjoint-state method following [PlMu08]_ (see :func:`emg3d.optimize.gradient`).\nThe method has the advantage that it is very fast. However, it can be tricky to\nimplement and it is always good to verify the implementation against another\nmethod.\n\nWe compare in this example the adjoint-state gradient to a simple forward\nfinite-difference gradient. (See `sphx_glr_gallery_tutorials_gradient.py`\nfor more details regarding the adjoint-state gradient.)\n"
      ]
    },
    {
      "cell_type": "code",
      "execution_count": null,
      "metadata": {
        "collapsed": false
      },
      "outputs": [],
      "source": [
        "import emg3d\nimport itertools\nimport numpy as np\nimport matplotlib.pyplot as plt\nfrom matplotlib.patches import Rectangle\nfrom matplotlib.colors import LogNorm, SymLogNorm\nplt.style.use('ggplot')"
      ]
    },
    {
      "cell_type": "markdown",
      "metadata": {},
      "source": [
        "1. Create a survey and a simple model\n-------------------------------------\n\nCreate a simple block model and a survey for the comparison.\n\nSurvey\n''''''\nThe survey consists of one source, one receiver, both electric, x-directed\npoint-dipoles, where the receiver is on the seafloor and the source 50 m\nabove. Offset is 3.2 km, and acquisition frequency is 1 Hz.\n\n"
      ]
    },
    {
      "cell_type": "code",
      "execution_count": null,
      "metadata": {
        "collapsed": false
      },
      "outputs": [],
      "source": [
        "survey = emg3d.surveys.Survey(\n    name='Gradient Test-Survey',\n    sources=(-1600, 0, -1950, 0, 0),\n    receivers=(1600, 0, -2000, 0, 0),\n    frequencies=1.0,\n)"
      ]
    },
    {
      "cell_type": "markdown",
      "metadata": {},
      "source": [
        "Model\n'''''\n\nAs `emg3d` internally computes with conductivities we use conductivities to\ncompare the gradient in its purest implementation. Note that if we define our\nmodel in terms of resistivities or $\\log_{\\{e;10\\}}(\\{\\sigma;\\rho\\})$,\nthe gradient would look differently.\n\n"
      ]
    },
    {
      "cell_type": "code",
      "execution_count": null,
      "metadata": {
        "collapsed": false
      },
      "outputs": [],
      "source": [
        "# Create a simple block model.\nhx = np.array([1000, 1500, 1000, 1500, 1000])\nhy = np.array([1000, 1500, 1000, 1500, 1000])\nhz = np.array([1800., 200., 200., 200., 300., 300., 2000.,  500.])\nmodel_grid = emg3d.TensorMesh([hx, hy, hz], x0=np.array([-3000, -3000, -5000]))\n\n# Initiate model with conductivities of 1 S/m.\nmodel = emg3d.Model(model_grid, np.ones(model_grid.nC), mapping='Conductivity')\nmodel.property_x[:, :, -1] = 1e-8  # Add air layer.\nmodel.property_x[:, :, -2] = 3.33  # Add seawater layer.\nmodel_bg = model.copy()  # Make a copy for the background model.\n\n# Add three blocks.\nmodel.property_x[1, 1:3, 1:3] = 0.02\nmodel.property_x[3, 2:4, 2:4] = 0.01\nmodel.property_x[2, 1:4, 4] = 0.005"
      ]
    },
    {
      "cell_type": "markdown",
      "metadata": {},
      "source": [
        "QC\n''\n\n"
      ]
    },
    {
      "cell_type": "code",
      "execution_count": null,
      "metadata": {
        "collapsed": false
      },
      "outputs": [],
      "source": [
        "model_grid.plot_3d_slicer(model.property_x.ravel('F'), clim=[0.002, 3.5],\n                          pcolor_opts={'norm': LogNorm()}, zslice=-2900)\n\nplt.suptitle('Conductivity (S/m)')\naxs = plt.gcf().get_children()\naxs[1].plot(survey.rec_coords[0], survey.rec_coords[1], 'bv')\naxs[2].plot(survey.rec_coords[0], survey.rec_coords[2], 'bv')\naxs[3].plot(survey.rec_coords[2], survey.rec_coords[1], 'bv')\naxs[1].plot(survey.src_coords[0], survey.src_coords[1], 'r*')\naxs[2].plot(survey.src_coords[0], survey.src_coords[2], 'r*')\naxs[3].plot(survey.src_coords[2], survey.src_coords[1], 'r*')\nplt.show()"
      ]
    },
    {
      "cell_type": "markdown",
      "metadata": {},
      "source": [
        "Generate synthetic data\n-----------------------\n\nGenerate a computational grid to create synthetic data (note that in the\nfuture we can use the automatic gridding functionality, which should land in\nv0.13.0).\n\n"
      ]
    },
    {
      "cell_type": "code",
      "execution_count": null,
      "metadata": {
        "collapsed": false
      },
      "outputs": [],
      "source": [
        "# Get cell widths and origin in each direction.\ngridinput = {'min_width': 100, 'freq': survey.frequencies[0], 'verb': 0}\nxy, xy0 = emg3d.meshes.get_hx_h0(  # Same in x and y.\n    res=[0.3, 1], fixed=0, domain=[-2000, 2000], **gridinput)\nzz, z0 = emg3d.meshes.get_hx_h0(\n    res=[0.3, 1, 0.3], domain=[-3200, -2000], **gridinput, fixed=[-2000, 0])\n\n\ndata_grid = emg3d.TensorMesh([xy, xy, zz], x0=np.array([xy0, xy0, z0]))\n\n# Define a simulation for the data.\nsimulation_data = emg3d.simulations.Simulation(\n    name='Data for Gradient Test',\n    survey=survey,\n    grid=data_grid,\n    model=model.interpolate2grid(model_grid, data_grid),\n    gridding='same',  # Same grid as for input model.\n    max_workers=4,\n)\n\n# Simulate the data and store them as observed.\nsimulation_data.compute(observed=True)\n\n# Let's print the survey to check that the observed data are now set.\nsurvey"
      ]
    },
    {
      "cell_type": "markdown",
      "metadata": {},
      "source": [
        "Adjoint-state gradient\n----------------------\n\nFor the actual comparison we use a very coarse mesh. The reason is that we\nhave to compute an extra forward model for each cell for the forward\nfinite-difference approximation, so we try to keep that number low (even\nthough we only do a cross-section, not the entire cube).\n\n"
      ]
    },
    {
      "cell_type": "code",
      "execution_count": null,
      "metadata": {
        "collapsed": false
      },
      "outputs": [],
      "source": [
        "# Get cell widths and origin in each direction\ngridinput = {'min_width': 200, 'freq': survey.frequencies[0], 'verb': 0}\nxy, xy0 = emg3d.meshes.get_hx_h0(  # Same in x and y.\n    res=[0.3, 1], fixed=0, domain=[-2000, 2000], **gridinput)\nzz, z0 = emg3d.meshes.get_hx_h0(\n    res=[0.3, 1, 0.3], domain=[-3200, -2000], **gridinput, fixed=[-2000, 0])\n\ncomp_grid = emg3d.TensorMesh([xy, xy, zz], x0=np.array([xy0, xy0, z0]))\n\ncomp_grid"
      ]
    },
    {
      "cell_type": "markdown",
      "metadata": {},
      "source": [
        "Our computational grid has only 16,384 cells, which should be fast enough to\ncompute the FD gradient of a cross-section in a few minutes. A\ncross-section along the survey-line has $32 \\times 11 = 352$ cells, so\nwe need to compute an extra 352 forward models. (There are 16 cells in z, but\nonly 11 below the seafloor.)\n\n"
      ]
    },
    {
      "cell_type": "code",
      "execution_count": null,
      "metadata": {
        "collapsed": false
      },
      "outputs": [],
      "source": [
        "# Interpolate the background model onto the computational grid.\ncomp_model = model_bg.interpolate2grid(model_grid, comp_grid)\n\n# Switch-off all data weighting in order to compare the pure gradient.\ndata_weight_opts = {\n    'gamma_d': 0,\n    'beta_d': 0,\n    'beta_f': 0,\n    'min_off': 0,\n    'noise_floor': 0,\n}\n\n# AS gradient simulation.\nsimulation_as = emg3d.simulations.Simulation(\n    name='AS Gradient Test',\n    survey=survey,\n    grid=comp_grid,\n    model=comp_model,\n    gridding='same',  # Same grid as for input model.\n    max_workers=4,    # For parallel workers, adjust if you have more.\n    data_weight_opts=data_weight_opts,\n)\n\nsimulation_as"
      ]
    },
    {
      "cell_type": "code",
      "execution_count": null,
      "metadata": {
        "collapsed": false
      },
      "outputs": [],
      "source": [
        "# Get the misfit and the gradient of the misfit.\ndata_misfit = simulation_as.misfit\nas_grad = simulation_as.gradient\n\n# Set water and air gradient to NaN for the plots.\nas_grad[:, :, comp_grid.vectorCCz > -2000] = np.nan"
      ]
    },
    {
      "cell_type": "markdown",
      "metadata": {},
      "source": [
        "Finite-Difference gradient\n--------------------------\n\nTo test if the adjoint-state gradient indeed returns the gradient we can\ncompare it to a one-sided finite-difference approximated gradient as given by\n\n\\begin{align}\\left(\\nabla_p J \\left(\\textbf{p}\\right)\\right)_{FD} =\n        \\frac{J(\\textbf{p}+\\epsilon) - J(\\textbf{p})}{\\epsilon} \\ .\\end{align}\n\nDefine a fct to compute FD gradient for one voxel\n'''''''''''''''''''''''''''''''''''''''''''''''''\n\n"
      ]
    },
    {
      "cell_type": "code",
      "execution_count": null,
      "metadata": {
        "collapsed": false
      },
      "outputs": [],
      "source": [
        "# Define epsilon (some small conductivity value, S/m).\nepsilon = 0.0001\n\n# Define the cross-section.\niy = comp_grid.nCy//2\n\n\ndef comp_fd_grad(ixiz):\n    \"\"\"Compute forward-FD gradient for one voxel.\"\"\"\n\n    # Copy the computational model.\n    fd_model = comp_model.copy()\n\n    # Add conductivity-epsilon to this (ix, iy, iz) voxel.\n    fd_model.property_x[ixiz[0], iy, ixiz[1]] += epsilon\n\n    # Create a new simulation with this model\n    simulation_fd = emg3d.simulations.Simulation(\n        name='FD Gradient Test',\n        survey=survey, grid=comp_grid, model=fd_model, gridding='same',\n        max_workers=1, data_weight_opts=data_weight_opts,\n        solver_opts={'verb': 1})\n\n    # Switch-of progress bar in this case\n    simulation_fd._tqdm_opts['disable'] = True\n\n    # Get misfit\n    fd_data_misfit = simulation_fd.misfit\n\n    # Return gradient\n    return float((fd_data_misfit - data_misfit)/epsilon)"
      ]
    },
    {
      "cell_type": "markdown",
      "metadata": {},
      "source": [
        "Loop over all required voxels\n'''''''''''''''''''''''''''''\n\n"
      ]
    },
    {
      "cell_type": "code",
      "execution_count": null,
      "metadata": {
        "collapsed": false
      },
      "outputs": [],
      "source": [
        "# Initiate FD gradient.\nfd_grad = np.zeros_like(as_grad)\n\n# Get all ix-iz combinations (without air/water).\nixiz = list(itertools.product(\n    range(comp_grid.nCx),\n    range(len(comp_grid.vectorCCz[comp_grid.vectorCCz < -2000])))\n)\n\n# Wrap it asynchronously\nout = emg3d.simulations.process_map(\n        comp_fd_grad,\n        ixiz,\n        max_workers=4,  # Adjust max worker here!\n)\n\n# Collect result\nfor i, (ix, iz) in enumerate(ixiz):\n    fd_grad[ix, iy, iz] = out[i]"
      ]
    },
    {
      "cell_type": "markdown",
      "metadata": {},
      "source": [
        "Compare the two gradients\n'''''''''''''''''''''''''\n\n"
      ]
    },
    {
      "cell_type": "code",
      "execution_count": null,
      "metadata": {
        "collapsed": false
      },
      "outputs": [],
      "source": [
        "# Compute NRMSD between AS and FD (%).\nnrmsd = 200*abs(as_grad-fd_grad)/(abs(as_grad)+abs(fd_grad))\nnrmsd[fd_grad == 0] = np.nan\n\n# Compute sign.\ndiff_sign = np.sign(as_grad/fd_grad)\n\n\ndef plot_diff(ax, diff):\n    \"\"\"Helper routine to show voxels of big NRMSD or different sign.\"\"\"\n\n    for ix in range(comp_grid.hx.size):\n        for iz in range(comp_grid.hz.size):\n\n            if diff_sign[ix, iy, iz] < 0:\n                ax.add_patch(\n                        Rectangle(\n                            (comp_grid.vectorNx[ix], comp_grid.vectorNz[iz]),\n                            comp_grid.hx[ix], comp_grid.hz[iz], fill=False,\n                            color='k', lw=1))\n\n            if nrmsd[ix, iy, iz] >= diff:\n                ax.add_patch(\n                        Rectangle(\n                            (comp_grid.vectorNx[ix], comp_grid.vectorNz[iz]),\n                            comp_grid.hx[ix], comp_grid.hz[iz], fill=False,\n                            color='m', linestyle='--', lw=0.5))\n\n\ndef set_axis(axs, i):\n    \"\"\"Helper routine to adjust subplots.\"\"\"\n\n    # Show source and receiver.\n    axs[i].plot(survey.rec_coords[0], survey.rec_coords[2], 'bv')\n    axs[i].plot(survey.src_coords[0], survey.src_coords[2], 'r*')\n\n    # x-label.\n    axs[i].set_xlabel('Easting')\n\n    # y-label depending on column.\n    if i == 0:\n        axs[i].set_ylabel('Depth')\n    else:\n        axs[i].set_ylabel('')\n        axs[i].axes.yaxis.set_ticklabels([])\n\n    # Set limits.\n    axs[i].set_xlim(-3000, 3000)\n    axs[i].set_ylim(-4000, -1900)\n\n\n# Plotting options.\nvmin, vmax = 1e-31, 1e-26\npcolor_opts = {'cmap': 'RdBu_r', 'norm': SymLogNorm(linthresh=vmin, base=10)}\n\nfig, axs = plt.subplots(figsize=(9, 6), nrows=1, ncols=2)\n\n# Adjoint-State Gradient\nf0 = comp_grid.plotSlice(as_grad, normal='Y', ind=iy, ax=axs[0],\n                         clim=[-vmax, vmax], pcolor_opts=pcolor_opts)\naxs[0].set_title(\"Adjoint-State Gradient\")\nset_axis(axs, 0)\nplot_diff(axs[0], 10)\n\n# Finite-Difference Gradient\nf1 = comp_grid.plotSlice(fd_grad, normal='Y', ind=iy, ax=axs[1],\n                         clim=[-vmax, vmax], pcolor_opts=pcolor_opts)\naxs[1].set_title(\"Finite-Difference Gradient\")\nset_axis(axs, 1)\nplot_diff(axs[1], 10)\n\nplt.tight_layout()\nfig.colorbar(f0[0], ax=axs, orientation='horizontal', fraction=0.05)\nplt.show()"
      ]
    },
    {
      "cell_type": "markdown",
      "metadata": {},
      "source": [
        "Visually the two gradients are almost identical. This is amazing, given that\nthe adjoint-state gradient requires one (1) extra forward computation for the\nentire cube, whereas the finite-difference gradient requires one extra\nforward computation for each voxel, for this cross-section 352 (!).\n\nThere are differences, and they are highlighted:\n\n  - Voxels surrounded by a dashed, magenta line: NRMSD is bigger than 10 %.\n  - Voxels surrounded by a black line: The two gradients have different\n    signs.\n\nThese differences only happen in three distinct regions:\n\n  1. Close to the source and the receiver;\n  2. where the gradient rapidly changes (changes sign);\n  3. where the amplitude of the gradient is very small.\n\nThe first point is mainly because of the coarse meshing we used, using a more\nappropriate, finer mesh would decrease this difference. The second point\ncomes mainly from the fact that both, AS and FD, are approximations, and\nwhere the gradient changes rapidly this can lead to differences. Again, using\na finer mesh would most likely eliminate these errors. The last point is more\na difficulty in computing the error between two values which both go to zero,\nand not really related to the gradients.\n\n"
      ]
    },
    {
      "cell_type": "code",
      "execution_count": null,
      "metadata": {
        "collapsed": false
      },
      "outputs": [],
      "source": [
        "emg3d.Report()"
      ]
    }
  ],
  "metadata": {
    "kernelspec": {
      "display_name": "Python 3",
      "language": "python",
      "name": "python3"
    },
    "language_info": {
      "codemirror_mode": {
        "name": "ipython",
        "version": 3
      },
      "file_extension": ".py",
      "mimetype": "text/x-python",
      "name": "python",
      "nbconvert_exporter": "python",
      "pygments_lexer": "ipython3",
      "version": "3.8.3"
    }
  },
  "nbformat": 4,
  "nbformat_minor": 0
}