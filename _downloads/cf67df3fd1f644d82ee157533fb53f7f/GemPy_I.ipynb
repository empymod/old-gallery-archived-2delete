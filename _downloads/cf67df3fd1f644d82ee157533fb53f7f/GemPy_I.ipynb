{
  "cells": [
    {
      "cell_type": "code",
      "execution_count": null,
      "metadata": {
        "collapsed": false
      },
      "outputs": [],
      "source": [
        "%matplotlib notebook"
      ]
    },
    {
      "cell_type": "markdown",
      "metadata": {},
      "source": [
        "\n1. GemPy-I\n==========\n\nThis example uses `GemPy <https://www.gempy.org>`_ to create a geological model\nas input to emg3d, utilizing `discretize <http://discretize.simpeg.xyz>`_.\nHaving it in discretize allows us also to plot it with `PyVista\n<https://github.com/pyvista>`_.\n\nThe starting point is the *simple_fault_model* as used in `Chapter 1.1\n<https://docs.gempy.org/tutorials/ch1_fundamentals/ch1_1_basics.html>`_ of the\nGemPy documentation. It is a nice, made-up model of a folded structure with a\nfault. Here we slightly modify it (convert it into a shallow marine setting),\nand create a resisistivity model out of the lithological model.\n\nThe result is what is referred to in other examples as model `GemPy-I`, a\nsynthetic, shallow-marine resistivity model consisting of a folded structure\nwith a fault. It is one of a few models created to be used in other examples.\n\n**Note:** The original model (*simple_fault_model*) hosted on\nhttps://github.com/cgre-aachen/gempy_data is released under the `LGPL-3.0\nLicense <https://www.gnu.org/licenses/lgpl-3.0.en.html>`_.\n"
      ]
    },
    {
      "cell_type": "code",
      "execution_count": null,
      "metadata": {
        "collapsed": false
      },
      "outputs": [],
      "source": [
        "import emg3d\nimport pyvista\nimport numpy as np\nimport gempy as gempy\nimport matplotlib.pyplot as plt\nfrom matplotlib.colors import LogNorm\nplt.style.use('ggplot')"
      ]
    },
    {
      "cell_type": "markdown",
      "metadata": {},
      "source": [
        "Get and initiate the *simple_fault_model*\n-----------------------------------------\n\n**Changes made to the original model** (differences between the files\n`simple_fault_model_*.csv` and `simple_fault_model_*_geophy.csv`): Changed\nthe stratigraphic unit names, and moved the model 2 km down.\n\nInstead of reading a csv-file we could also initiate an empty instance and\nthen add points and orientations after that by, e.g., providing numpy arrays.\n\n"
      ]
    },
    {
      "cell_type": "code",
      "execution_count": null,
      "metadata": {
        "collapsed": false
      },
      "outputs": [],
      "source": [
        "# Initiate a model\ngeo_model = gempy.create_model('GemPy-I')\n\n# Location of data files.\ndata_url = 'https://raw.githubusercontent.com/cgre-aachen/gempy_data/'\ndata_url += 'master/data/input_data/tut_chapter1/'\n\n# Importing the data from CSV-files and setting extent and resolution\n# This is a regular grid, mainly for plotting purposes\ngempy.init_data(\n    geo_model,\n    [0, 2000., 0, 2000., -2000, 40.], [50, 50, 51],\n    path_o=data_url+\"simple_fault_model_orientations_geophy.csv\",\n    path_i=data_url+\"simple_fault_model_points_geophy.csv\",\n)"
      ]
    },
    {
      "cell_type": "markdown",
      "metadata": {},
      "source": [
        "Initiate the stratigraphies and faults, and add an air layer\n------------------------------------------------------------\n\n"
      ]
    },
    {
      "cell_type": "code",
      "execution_count": null,
      "metadata": {
        "collapsed": false
      },
      "outputs": [],
      "source": [
        "# Add an air-layer: Horizontal layer at z=0m\ngeo_model.add_surfaces('air')\ngeo_model.add_surface_points(0, 0, 0, 'air')\ngeo_model.add_surface_points(0, 0, 0, 'air')\ngeo_model.add_orientations(0, 0, 0, 'air', [0, 0, 1])\n\n# Add a Series for the air layer; this series will not be cut by the fault\ngeo_model.add_series('Air_Series')\ngeo_model.modify_order_series(2, 'Air_Series')\ngempy.map_series_to_surfaces(geo_model, {'Air_Series': 'air'})\n\n# Map the different series\ngempy.map_series_to_surfaces(\n    geo_model,\n    {\n        \"Fault_Series\": 'fault',\n        \"Air_Series\": ('air'),\n        \"Strat_Series\": ('seawater', 'overburden', 'target',\n                         'underburden', 'basement')\n    },\n    remove_unused_series=True\n)\n\ngeo_model.rename_series({'Main_Fault': 'Fault_Series'})\n\n# Set which series the fault series is cutting\ngeo_model.set_is_fault('Fault_Series')\ngeo_model.faults.faults_relations_df"
      ]
    },
    {
      "cell_type": "markdown",
      "metadata": {},
      "source": [
        "Compute the model with GemPy\n----------------------------\n\n"
      ]
    },
    {
      "cell_type": "code",
      "execution_count": null,
      "metadata": {
        "collapsed": false
      },
      "outputs": [],
      "source": [
        "# Set the interpolator.\ngempy.set_interpolator(\n    geo_model,\n    compile_theano=True,\n    theano_optimizer='fast_compile',\n    verbose=[]\n)\n\n# Compute it.\nsol = gempy.compute_model(geo_model, compute_mesh=True)\n\n# Plot lithologies (colour-code corresponds to lithologies)\n_ = gempy.plot_2d(geo_model, cell_number=25, direction='y', show_data=True)"
      ]
    },
    {
      "cell_type": "markdown",
      "metadata": {},
      "source": [
        "Get id's for a discretize mesh\n------------------------------\n\nWe could define the resistivities before, but currently it is difficult for\nGemPy to interpolate for something like resistivities with a very wide range\nof values (several orders of magnitudes). So we can simply map it here to the\n``id`` (Note: GemPy does not do interpolation for cells which lie in\ndifferent stratigraphies, so the id is always in integer).\n\n"
      ]
    },
    {
      "cell_type": "code",
      "execution_count": null,
      "metadata": {
        "collapsed": false
      },
      "outputs": [],
      "source": [
        "# First we create a detailed discretize-mesh to store the resistivity model and\n# use it in other examples as well.\nhxy = np.ones(100)*100\nhz = np.ones(100)*25\ngrid = emg3d.TensorMesh([hxy, hxy, hz], x0=(-4000, -4000, -2400))\ngrid\n\n# Get the solution at cell centers of our grid.\nsol = gempy.compute_model(geo_model, at=grid.gridCC)\n\n# Show the surfaces.\ngeo_model.surfaces"
      ]
    },
    {
      "cell_type": "markdown",
      "metadata": {},
      "source": [
        "Replace id's by resistivities\n-----------------------------\n\n"
      ]
    },
    {
      "cell_type": "code",
      "execution_count": null,
      "metadata": {
        "collapsed": false
      },
      "outputs": [],
      "source": [
        "# Now, we convert the id's to resistivities\nres = sol.custom[0][0, :grid.nC]\n\nres[res == 1] = 1e8  # air\n# id=2 is the fault\nres[np.round(res) == 3] = 0.3  # sea water\nres[np.round(res) == 4] = 1.0  # overburden\nres[np.round(res) == 5] = 50   # resistive layer\nres[np.round(res) == 6] = 1.5  # underburden\nres[np.round(res) == 7] = 200  # resistive basement\n\n# Create an emg3d-model.\nmodel = emg3d.Model(grid, property_x=res, mapping='Resistivity')\n\n# Store the grid and the model for use in other examples.\n# emg3d.save('./data/GemPy-I.h5', model=model, mesh=grid)"
      ]
    },
    {
      "cell_type": "markdown",
      "metadata": {},
      "source": [
        "Plot the model with PyVista\n---------------------------\n\n"
      ]
    },
    {
      "cell_type": "code",
      "execution_count": null,
      "metadata": {
        "collapsed": false
      },
      "outputs": [],
      "source": [
        "dataset = grid.toVTK({'res': np.log10(res)})\n\n# Create the rendering scene and add a grid axes\np = pyvista.Plotter(notebook=True)\np.show_grid(location='outer')\n\n# Add spatially referenced data to the scene\ndparams = {'rng': np.log10([0.3, 500]), 'cmap': 'viridis', 'show_edges': False}\nxyz = (1500, 500, -1500)\np.add_mesh(dataset.slice('x', xyz), name='x-slice', **dparams)\np.add_mesh(dataset.slice('y', xyz), name='y-slice', **dparams)\n\n# Add a layer as 3D\np.add_mesh(dataset.threshold([1.69, 1.7]), name='vol', **dparams)\n\n# Show the scene!\np.camera_position = [(-10000, 25000, 4000), (1000, 1000, -1000), (0, 0, 1)]\np.show()"
      ]
    },
    {
      "cell_type": "markdown",
      "metadata": {},
      "source": [
        "Create CSEM survey and corresponding computational grid/model\n-------------------------------------------------------------\n\n"
      ]
    },
    {
      "cell_type": "code",
      "execution_count": null,
      "metadata": {
        "collapsed": false
      },
      "outputs": [],
      "source": [
        "# Source location and frequency\nsrc = [1000, 1000, -500, 0, 0]  # x-directed el-source at (1000, 1000, -500)\nfreq = 1.0                      # Frequency\n\n# Get computation domain as a function of frequency (resp., skin depth)\nhx_min, xdomain = emg3d.meshes.get_domain(\n        x0=src[0], freq=freq, limits=[0, 2000], min_width=[5, 100])\nhz_min, zdomain = emg3d.meshes.get_domain(\n        freq=freq, limits=[-2000, 0], min_width=[5, 20], fact_pos=40)\n\n# Create stretched grid\nnx = 2**6\nhx = emg3d.meshes.get_stretched_h(hx_min, xdomain, nx, src[0])\nhy = emg3d.meshes.get_stretched_h(hx_min, xdomain, nx, src[1])\nhz = emg3d.meshes.get_stretched_h(hz_min, zdomain, nx*2, x0=src[2], x1=0)\ncomp_grid = emg3d.TensorMesh(\n        [hx, hy, hz], x0=(xdomain[0], xdomain[0], zdomain[0]))\n\ncomp_grid"
      ]
    },
    {
      "cell_type": "markdown",
      "metadata": {},
      "source": [
        "Compute the electric field\n--------------------------\n\n"
      ]
    },
    {
      "cell_type": "code",
      "execution_count": null,
      "metadata": {
        "collapsed": false
      },
      "outputs": [],
      "source": [
        "# Get the computational model\ncomp_model = model.interpolate2grid(grid, comp_grid)\n\n# Get the source field\nsfield = emg3d.get_source_field(comp_grid, src, freq, 0)\n\n# Compute the efield\nefield = emg3d.solve(comp_grid, comp_model, sfield, sslsolver=True, verb=3)"
      ]
    },
    {
      "cell_type": "code",
      "execution_count": null,
      "metadata": {
        "collapsed": false
      },
      "outputs": [],
      "source": [
        "comp_grid.plot_3d_slicer(\n    efield.fx.ravel('F'), zslice=-1000, zlim=(-2000, 50),\n    view='abs', v_type='Ex', clim=[1e-13, 1e-8],\n    pcolor_opts={'cmap': 'viridis', 'norm': LogNorm()})"
      ]
    },
    {
      "cell_type": "code",
      "execution_count": null,
      "metadata": {
        "collapsed": false
      },
      "outputs": [],
      "source": [
        "emg3d.Report([gempy, pyvista, 'pandas'])"
      ]
    }
  ],
  "metadata": {
    "kernelspec": {
      "display_name": "Python 3",
      "language": "python",
      "name": "python3"
    },
    "language_info": {
      "codemirror_mode": {
        "name": "ipython",
        "version": 3
      },
      "file_extension": ".py",
      "mimetype": "text/x-python",
      "name": "python",
      "nbconvert_exporter": "python",
      "pygments_lexer": "ipython3",
      "version": "3.8.3"
    }
  },
  "nbformat": 4,
  "nbformat_minor": 0
}