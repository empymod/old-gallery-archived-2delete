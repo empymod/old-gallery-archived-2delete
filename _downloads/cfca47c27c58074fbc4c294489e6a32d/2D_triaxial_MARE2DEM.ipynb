{
  "cells": [
    {
      "cell_type": "code",
      "execution_count": null,
      "metadata": {
        "collapsed": false
      },
      "outputs": [],
      "source": [
        "%matplotlib notebook"
      ]
    },
    {
      "cell_type": "markdown",
      "metadata": {},
      "source": [
        "\n2. MARE2DEM: 2D with tri-axial anisotropy\n=========================================\n\n``MARE2DEM`` is an open-source, finite element 2.5D code for controlled-source\nelectromagnetic (CSEM) and magnetotelluric (MT) data, see `mare2dem.ucsd.edu\n<https://mare2dem.ucsd.edu>`_.\n"
      ]
    },
    {
      "cell_type": "code",
      "execution_count": null,
      "metadata": {
        "collapsed": false
      },
      "outputs": [],
      "source": [
        "import emg3d\nimport numpy as np\nimport matplotlib.pyplot as plt\nfrom matplotlib.colors import LogNorm"
      ]
    },
    {
      "cell_type": "markdown",
      "metadata": {},
      "source": [
        "Load MARE2DEM result\n--------------------\n\n"
      ]
    },
    {
      "cell_type": "code",
      "execution_count": null,
      "metadata": {
        "collapsed": false
      },
      "outputs": [],
      "source": [
        "# Location of data files.\ndata_url = 'https://raw.githubusercontent.com/empymod/emg3d-gallery/'\ndata_url += 'master/examples/data/MARE2DEM/'\n\nmar_tg = np.loadtxt(data_url+'triaxial.0.resp', skiprows=93, usecols=6)\nmar_tg = mar_tg[::2] + 1j*mar_tg[1::2]\n\nmar_bg = np.loadtxt(data_url+'triaxial-BG.0.resp', skiprows=93, usecols=6)\nmar_bg = mar_bg[::2] + 1j*mar_bg[1::2]"
      ]
    },
    {
      "cell_type": "markdown",
      "metadata": {},
      "source": [
        "emg3d\n-----\n\n"
      ]
    },
    {
      "cell_type": "code",
      "execution_count": null,
      "metadata": {
        "collapsed": false
      },
      "outputs": [],
      "source": [
        "src = (50, 0, -1950, 0, 0)  # Source location [x, y, z, azimuth, dip]\nrec = (np.arange(80)*100+2050, 0, -1999.9)\nfreq = 0.5                  # Frequency (Hz)"
      ]
    },
    {
      "cell_type": "code",
      "execution_count": null,
      "metadata": {
        "collapsed": false
      },
      "outputs": [],
      "source": [
        "gridinput = {\n    'min_width': 50,\n    'verb': 0,\n    'freq': freq,\n    'max_domain': 50000,\n}\n\n# Get cell widths and origin in each direction\nxx, x0 = emg3d.meshes.get_hx_h0(\n    res=[0.3, 1e5], fixed=src[0], domain=[-100, 10100],\n    **gridinput)\nyy, y0 = emg3d.meshes.get_hx_h0(\n    res=[0.3, 1e5], fixed=src[1], domain=[400, 400], **gridinput)\nzz, z0 = emg3d.meshes.get_hx_h0(\n    res=[0.3, 1., 1e5], domain=[-4200, 0], **gridinput,\n    fixed=[-2000, 0, -4200])\n\n# Initiate mesh.\ngrid = emg3d.TensorMesh([xx, yy, zz], x0=np.array([x0, y0, z0]))\ngrid"
      ]
    },
    {
      "cell_type": "code",
      "execution_count": null,
      "metadata": {
        "collapsed": false
      },
      "outputs": [],
      "source": [
        "xx = (grid.gridCC[:, 0] > 0)*(grid.gridCC[:, 0] <= 6000)\nzz = (grid.gridCC[:, 2] > -4200)*(grid.gridCC[:, 2] < -4000)"
      ]
    },
    {
      "cell_type": "code",
      "execution_count": null,
      "metadata": {
        "collapsed": false
      },
      "outputs": [],
      "source": [
        "# Background\nres_x_full = 2*np.ones(grid.nC)\nres_y_full = 1*np.ones(grid.nC)\nres_z_full = 3*np.ones(grid.nC)\n\n# Water - isotropic\nres_x_full[grid.gridCC[:, 2] >= -2000] = 0.3\nres_y_full[grid.gridCC[:, 2] >= -2000] = 0.3\nres_z_full[grid.gridCC[:, 2] >= -2000] = 0.3\n\n# Air - isotropic\nres_x_full[grid.gridCC[:, 2] >= 0] = 1e10\nres_y_full[grid.gridCC[:, 2] >= 0] = 1e10\nres_z_full[grid.gridCC[:, 2] >= 0] = 1e10\n\n# Target\nres_x_full_tg = res_x_full.copy()\nres_y_full_tg = res_y_full.copy()\nres_z_full_tg = res_z_full.copy()\nres_x_full_tg[xx*zz] = 200\nres_y_full_tg[xx*zz] = 100\nres_z_full_tg[xx*zz] = 300\n\n# Collect models\nmodel_bg = emg3d.Model(\n        grid, property_x=res_x_full, property_y=res_y_full,\n        property_z=res_z_full, mapping='Resistivity')\nmodel_tg = emg3d.Model(\n        grid, property_x=res_x_full_tg, property_y=res_y_full_tg,\n        property_z=res_z_full_tg, mapping='Resistivity')\n\n# Create source field\nsfield = emg3d.get_source_field(grid, src, freq, 0)\n\n# Solver parameters\nsparams = {\n    'verb': 3,\n    'sslsolver': True,\n    'semicoarsening': True,\n    'linerelaxation': True\n}\n\n# QC model\ngrid.plot_3d_slicer(\n        model_tg.property_x, clim=[0.3, 300], zlim=[-6000, 500],\n        pcolor_opts={'norm': LogNorm()})"
      ]
    },
    {
      "cell_type": "markdown",
      "metadata": {},
      "source": [
        "Model background\n````````````````\n\n"
      ]
    },
    {
      "cell_type": "code",
      "execution_count": null,
      "metadata": {
        "collapsed": false
      },
      "outputs": [],
      "source": [
        "efield_bg = emg3d.solve(grid, model_bg, sfield, **sparams)\nem3_bg = emg3d.get_receiver(grid, efield_bg.fx, rec)"
      ]
    },
    {
      "cell_type": "markdown",
      "metadata": {},
      "source": [
        "Model target\n````````````\n\n"
      ]
    },
    {
      "cell_type": "code",
      "execution_count": null,
      "metadata": {
        "collapsed": false
      },
      "outputs": [],
      "source": [
        "efield_tg = emg3d.solve(grid, model_tg, sfield, **sparams)\nem3_tg = emg3d.get_receiver(grid, efield_tg.fx, rec)"
      ]
    },
    {
      "cell_type": "markdown",
      "metadata": {},
      "source": [
        "Plot\n----\n\n"
      ]
    },
    {
      "cell_type": "code",
      "execution_count": null,
      "metadata": {
        "collapsed": false
      },
      "outputs": [],
      "source": [
        "plt.figure(figsize=(9, 4))\n\n# REAL PART\nax1 = plt.subplot2grid((4, 2), (0, 0), rowspan=3)\nplt.title(r'|Real|')\n\nplt.plot(rec[0]/1e3, 1e12*np.abs(mar_tg.real), '-', label='MARE2DEM target')\nplt.plot(rec[0]/1e3, 1e12*np.abs(mar_bg.real), '-', label='MARE2DEM BG')\n\nplt.plot(rec[0]/1e3, 1e12*np.abs(em3_tg.real), 'k--')\nplt.plot(rec[0]/1e3, 1e12*np.abs(em3_bg.real), 'k-.')\n\nplt.ylabel('$E_x$ (pV/m)')\nax1.set_xticklabels([])\nplt.yscale('log')\nplt.legend(loc=4, ncol=2)\nplt.grid(axis='y', c='0.9')\n\n\n# NORMALIZED DIFFERENCE REAL\nax2 = plt.subplot2grid((4, 2), (3, 0))\n\nnd_bg_re = np.clip(200*abs(mar_bg.real-em3_bg.real) /\n                   (abs(mar_bg.real) + abs(em3_bg.real)), 0.1, 10)\nnd_tg_re = np.clip(200*abs(mar_tg.real-em3_tg.real) /\n                   (abs(mar_tg.real) + abs(em3_tg.real)), 0.1, 10)\n\nplt.semilogy(rec[0]/1e3, nd_tg_re, '.', label='target')\nplt.semilogy(rec[0]/1e3, nd_bg_re, '.', label='background')\n\nplt.ylabel('Norm. Diff (%)')\nplt.xlabel('Offset (km)')\nplt.yscale('log')\nplt.xlim(ax1.get_xlim())\nplt.ylim([8e-2, 12])\nplt.yticks([0.1, 1, 10], ('0.1', '1', '10'))\nplt.grid(axis='y', c='0.9')\n\n\n# IMAGINARY PART\nax3 = plt.subplot2grid((4, 2), (0, 1), rowspan=3, sharey=ax1)\nplt.title(r'|Imaginary|')\n\nplt.plot(rec[0]/1e3, 1e12*np.abs(mar_tg.imag), '-')\nplt.plot(rec[0]/1e3, 1e12*np.abs(mar_bg.imag), '-')\n\nplt.plot(rec[0]/1e3, 1e12*np.abs(em3_tg.imag), 'k--', label='emg3d target')\nplt.plot(rec[0]/1e3, 1e12*np.abs(em3_bg.imag), 'k-.', label='emg3d BG')\n\nplt.ylabel('$E_x$ (pV/m)')\nax3.set_xticklabels([])\nplt.legend(loc=3, ncol=2)\nax3.yaxis.tick_right()\nax3.yaxis.set_label_position(\"right\")\nplt.grid(axis='y', c='0.9')\n\n\n# NORMALIZED DIFFERENCE IMAG\nax4 = plt.subplot2grid((4, 2), (3, 1))\n\nnd_bg_im = np.clip(200*abs(mar_bg.imag-em3_bg.imag) /\n                   (abs(mar_bg.imag) + abs(em3_bg.imag)), 0.1, 10)\nnd_tg_im = np.clip(200*abs(mar_tg.imag-em3_tg.imag) /\n                   (abs(mar_tg.imag) + abs(em3_tg.imag)), 0.1, 10)\n\nplt.semilogy(rec[0]/1e3, nd_tg_im, 'C0.', label='Target')\nplt.semilogy(rec[0]/1e3, nd_bg_im, 'C1.', label='BGC')\n\nplt.xlabel('Offset (km)')\nplt.yscale('log')\nplt.xlim(ax1.get_xlim())\nplt.ylabel('Norm. diff. %')\nplt.ylim([8e-2, 12])\nplt.yticks([0.1, 1, 10], ('0.1', '1', '10'))\nax4.yaxis.tick_right()\nax4.yaxis.set_label_position(\"right\")\nplt.grid(axis='y', c='0.9')\n\n\n# SWITCH OFF SPINES\nax1.spines['top'].set_visible(False)\nax1.spines['right'].set_visible(False)\nax2.spines['top'].set_visible(False)\nax2.spines['right'].set_visible(False)\nax3.spines['top'].set_visible(False)\nax3.spines['left'].set_visible(False)\nax4.spines['top'].set_visible(False)\nax4.spines['left'].set_visible(False)\n\nplt.tight_layout()\nplt.show()"
      ]
    },
    {
      "cell_type": "code",
      "execution_count": null,
      "metadata": {
        "collapsed": false
      },
      "outputs": [],
      "source": [
        "emg3d.Report()"
      ]
    }
  ],
  "metadata": {
    "kernelspec": {
      "display_name": "Python 3",
      "language": "python",
      "name": "python3"
    },
    "language_info": {
      "codemirror_mode": {
        "name": "ipython",
        "version": 3
      },
      "file_extension": ".py",
      "mimetype": "text/x-python",
      "name": "python",
      "nbconvert_exporter": "python",
      "pygments_lexer": "ipython3",
      "version": "3.8.3"
    }
  },
  "nbformat": 4,
  "nbformat_minor": 0
}