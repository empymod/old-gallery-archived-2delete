{
  "cells": [
    {
      "cell_type": "code",
      "execution_count": null,
      "metadata": {
        "collapsed": false
      },
      "outputs": [],
      "source": [
        "%matplotlib notebook"
      ]
    },
    {
      "cell_type": "markdown",
      "metadata": {},
      "source": [
        "\n1. Magnetic field due to an el. source\n======================================\n\nThe solver ``emg3d`` returns the electric field in x-, y-, and z-direction.\nUsing Farady's law of induction we can obtain the magnetic field from it.\nFaraday's law of induction in the frequency domain can be written as, in its\ndifferential form,\n\n\\begin{align}:label: faraday\n\n    \\nabla \\times \\mathbf{E} = \\rm{i}\\omega \\mathbf{B} =\n    \\rm{i}\\omega\\mu\\mathbf{H}\\, .\\end{align}\n\nWe do exactly this in this example, for a rotated finite length bipole in a\nhomogeneous VTI fullspace, and compare it to the semi-analytical solution of\n``empymod``. (The code ``empymod`` is an open-source code which can model CSEM\nresponses for a layered medium including VTI electrical anisotropy, see\n`empymod.github.io <https://empymod.github.io>`_.)\n\nThis is an adapted version of\n`sphx_glr_gallery_comparisons_1D_VTI_empymod.py`. Consult that example to\nsee the result for the electric field.\n"
      ]
    },
    {
      "cell_type": "code",
      "execution_count": null,
      "metadata": {
        "collapsed": false
      },
      "outputs": [],
      "source": [
        "import emg3d\nimport empymod\nimport numpy as np\nimport matplotlib.pyplot as plt\nfrom scipy import interpolate as sint\nfrom matplotlib.colors import SymLogNorm\nplt.style.use('ggplot')"
      ]
    },
    {
      "cell_type": "code",
      "execution_count": null,
      "metadata": {
        "collapsed": false
      },
      "outputs": [],
      "source": [
        "def plot_data_rel(ax, name, data, x, vmin=-15., vmax=-7., mode=\"log\"):\n    \"\"\"Plot function.\"\"\"\n\n    ax.set_title(name)\n    ax.set_xlim(min(x)/1000, max(x)/1000)\n    ax.set_ylim(min(x)/1000, max(x)/1000)\n    ax.axis(\"equal\")\n\n    if isinstance(mode, str):\n        if mode == \"abs\":\n            cf = ax.pcolormesh(\n                    x/1000, x/1000, np.log10(np.abs(data)), linewidth=0,\n                    rasterized=True, cmap=\"viridis\", vmin=vmin, vmax=vmax)\n        else:\n            cf = ax.pcolormesh(\n                    x/1000, x/1000, data, linewidth=0, rasterized=True,\n                    cmap=\"PuOr_r\",\n                    norm=SymLogNorm(linthresh=10**vmin,\n                                    vmin=-10**vmax, vmax=10**vmax))\n    else:\n        cf = ax.pcolormesh(\n                x/1000, x/1000, np.log10(data), vmin=vmin, vmax=vmax,\n                linewidth=0, rasterized=True,\n                cmap=plt.cm.get_cmap(\"RdBu_r\", 8))\n\n    return cf"
      ]
    },
    {
      "cell_type": "code",
      "execution_count": null,
      "metadata": {
        "collapsed": false
      },
      "outputs": [],
      "source": [
        "def plot_result_rel(depm, de3d, x, title, vmin=-15., vmax=-7., mode=\"log\"):\n    fig, axs = plt.subplots(figsize=(18, 10), nrows=2, ncols=3)\n\n    if mode == \"log\":\n        case = \"\"\n    else:\n        case = \"|\"\n\n    # Plot Re(data)\n    cf0 = plot_data_rel(axs[0, 0], r\"(a) \"+case+\"Re(empymod)\"+case,\n                        depm.real, x, vmin, vmax, mode)\n    plot_data_rel(axs[0, 1], r\"(b) \"+case+\"Re(emg3d)\"+case,\n                  de3d.real, x, vmin, vmax, mode)\n    cf2 = plot_data_rel(axs[0, 2], r\"(c) Error real part\",\n                        np.abs((depm.real-de3d.real)/depm.real)*100, x,\n                        vmin=-2, vmax=2, mode=True)\n\n    # Plot Im(data)\n    plot_data_rel(axs[1, 0], r\"(d) \"+case+\"Im(empymod)\"+case,\n                  depm.imag, x, vmin, vmax, mode)\n    plot_data_rel(axs[1, 1], r\"(e) \"+case+\"Im(emg3d)\"+case,\n                  de3d.imag, x, vmin, vmax, mode)\n    plot_data_rel(axs[1, 2], r\"(f) Error imaginary part\",\n                  np.abs((depm.imag-de3d.imag)/depm.imag)*100,\n                  x, vmin=-2, vmax=2, mode=True)\n\n    # Colorbars\n    fig.colorbar(cf0, ax=axs[0, :], label=r\"$\\log_{10}$ Amplitude (A/m)\")\n    cbar = fig.colorbar(cf2, ax=axs[1, :], label=r\"Relative Error\")\n    cbar.set_ticks([-2, -1, 0, 1, 2])\n    cbar.ax.set_yticklabels([r\"$0.01\\,\\%$\", r\"$0.1\\,\\%$\", r\"$1\\,\\%$\",\n                             r\"$10\\,\\%$\", r\"$100\\,\\%$\"])\n\n    # Axis label\n    fig.text(0.4, 0.05, \"Inline Offset (km)\", fontsize=14)\n    fig.text(0.08, 0.6, \"Crossline Offset (km)\", rotation=90, fontsize=14)\n\n    # Title\n    fig.suptitle(title, y=1, fontsize=20)\n    plt.show()"
      ]
    },
    {
      "cell_type": "code",
      "execution_count": null,
      "metadata": {
        "collapsed": false
      },
      "outputs": [],
      "source": [
        "def plot_lineplot_ex(x, y, data, epm_fs, grid):\n    xi = x.size//2\n    yi = y.size//2\n\n    fn = sint.interp1d(x, data[:, xi], bounds_error=False)\n    x1 = fn(grid.vectorNx)\n\n    fn = sint.interp1d(y, data[yi, :], bounds_error=False)\n    y1 = fn(grid.vectorNx)\n\n    plt.figure(figsize=(15, 8))\n\n    plt.plot(x/1e3, np.abs(epm_fs[:, xi]), 'C0', lw=3, label='Inline empymod')\n    plt.plot(x/1e3, np.abs(data[:, xi]), 'k--', label='Inline emg3d')\n    plt.plot(grid.vectorNx/1e3, np.abs(x1), 'k*')\n\n    plt.plot(y/1e3, np.abs(epm_fs[yi, :]), 'C1', lw=3,\n             label='Crossline empymod')\n    plt.plot(y/1e3, np.abs(data[yi, :]), 'k:', label='Crossline emg3d')\n    plt.plot(grid.vectorNx/1e3, np.abs(y1), 'k*', label='Grid points emg3d')\n\n    plt.yscale('log')\n    plt.title(r'Inline and crossline $H_x$', fontsize=20)\n    plt.xlabel('Offset (km)', fontsize=14)\n    plt.ylabel(r'|Amplitude (A/m)|', fontsize=14)\n    plt.legend()\n    plt.show()"
      ]
    },
    {
      "cell_type": "markdown",
      "metadata": {},
      "source": [
        "Full-space model for a finite length, finite strength, rotated bipole\n---------------------------------------------------------------------\n\nempymod\n```````\n\n"
      ]
    },
    {
      "cell_type": "code",
      "execution_count": null,
      "metadata": {
        "collapsed": false
      },
      "outputs": [],
      "source": [
        "# Survey parameters\nx = (np.arange(1025))*5-2560\nrx = np.repeat([x, ], np.size(x), axis=0)\nry = rx.transpose()\n\n# Model parameters\nresh = 1.              # Horizontal resistivity\naniso = np.sqrt(2.)    # Anisotropy\nresv = resh*aniso**2   # Vertical resistivity\nsrc = [-50, 50, -30, 30, -320., -280.]  # Source: [x1, x2, y1, y2, z1, z2]\nsrc_c = np.mean(np.array(src).reshape(3, 2), 1).ravel()  # Center pts of source\nzrec = -400.           # Receiver depth\nfreq = 0.77            # Frequency\nstrength = np.pi       # Source strength\n\n# Input for empymod\nmodel = {\n    'src': src,\n    'depth': [],\n    'res': resh,\n    'aniso': aniso,\n    'strength': strength,\n    'srcpts': 5,\n    'freqtime': freq,\n    'htarg': {'pts_per_dec': -1},\n}"
      ]
    },
    {
      "cell_type": "code",
      "execution_count": null,
      "metadata": {
        "collapsed": false
      },
      "outputs": [],
      "source": [
        "epm_fs_hx = -empymod.bipole(rec=[rx.ravel(), ry.ravel(), zrec, 0, 0],\n                            mrec=True, verb=3, **model).reshape(np.shape(rx))\nepm_fs_hy = -empymod.bipole(rec=[rx.ravel(), ry.ravel(), zrec, 90, 0],\n                            mrec=True, verb=1, **model).reshape(np.shape(rx))\nepm_fs_hz = -empymod.bipole(rec=[rx.ravel(), ry.ravel(), zrec, 0, 90],\n                            mrec=True, verb=1, **model).reshape(np.shape(rx))"
      ]
    },
    {
      "cell_type": "markdown",
      "metadata": {},
      "source": [
        "emg3d\n`````\n\n"
      ]
    },
    {
      "cell_type": "code",
      "execution_count": null,
      "metadata": {
        "collapsed": false
      },
      "outputs": [],
      "source": [
        "# Get computation domain as a function of frequency (resp., skin depth)\nhx_min, xdomain = emg3d.meshes.get_domain(x0=src[0], freq=0.1, min_width=20)\nhz_min, zdomain = emg3d.meshes.get_domain(x0=src[2], freq=0.1, min_width=20)\n\n# Create stretched grid\nnx = 2**7\nhx = emg3d.meshes.get_stretched_h(hx_min, xdomain, nx, src_c[0])\nhy = emg3d.meshes.get_stretched_h(hx_min, xdomain, nx, src_c[1])\nhz = emg3d.meshes.get_stretched_h(hz_min, zdomain, nx, src_c[2])\npgrid = emg3d.TensorMesh([hx, hy, hz], x0=(xdomain[0], xdomain[0], zdomain[0]))\npgrid"
      ]
    },
    {
      "cell_type": "code",
      "execution_count": null,
      "metadata": {
        "collapsed": false
      },
      "outputs": [],
      "source": [
        "# Get the model\npmodel = emg3d.Model(pgrid, property_x=resh, property_z=resv,\n                     mapping='Resistivity')\n\n# Get the source field\nsfield = emg3d.get_source_field(pgrid, src, freq, strength)\n\n# Compute the electric field\npfield = emg3d.solve(pgrid, pmodel, sfield, verb=3)"
      ]
    },
    {
      "cell_type": "markdown",
      "metadata": {},
      "source": [
        "Compute magnetic field $H$ from the electric field\n--------------------------------------------------------\n\n"
      ]
    },
    {
      "cell_type": "code",
      "execution_count": null,
      "metadata": {
        "collapsed": false
      },
      "outputs": [],
      "source": [
        "hfield = emg3d.get_h_field(pgrid, pmodel, pfield)"
      ]
    },
    {
      "cell_type": "markdown",
      "metadata": {},
      "source": [
        "Plot\n````\n\n"
      ]
    },
    {
      "cell_type": "code",
      "execution_count": null,
      "metadata": {
        "collapsed": false
      },
      "outputs": [],
      "source": [
        "e3d_fs_hx = emg3d.get_receiver(pgrid, hfield.fx, (rx, ry, zrec))\nplot_result_rel(epm_fs_hx, e3d_fs_hx, x, r'Diffusive Fullspace $H_x$',\n                vmin=-8, vmax=-4, mode='abs')"
      ]
    },
    {
      "cell_type": "code",
      "execution_count": null,
      "metadata": {
        "collapsed": false
      },
      "outputs": [],
      "source": [
        "e3d_fs_hy = emg3d.get_receiver(pgrid, hfield.fy, (rx, ry, zrec))\nplot_result_rel(epm_fs_hy, e3d_fs_hy, x, r'Diffusive Fullspace $H_y$',\n                vmin=-8, vmax=-4, mode='abs')"
      ]
    },
    {
      "cell_type": "code",
      "execution_count": null,
      "metadata": {
        "collapsed": false
      },
      "outputs": [],
      "source": [
        "e3d_fs_hz = emg3d.get_receiver(pgrid, hfield.fz, (rx, ry, zrec))\nplot_result_rel(epm_fs_hz, e3d_fs_hz, x, r'Diffusive Fullspace $H_z$',\n                vmin=-8, vmax=-4, mode='abs')"
      ]
    },
    {
      "cell_type": "code",
      "execution_count": null,
      "metadata": {
        "collapsed": false
      },
      "outputs": [],
      "source": [
        "plot_lineplot_ex(x, x, e3d_fs_hx.real, epm_fs_hx.real, pgrid)"
      ]
    },
    {
      "cell_type": "code",
      "execution_count": null,
      "metadata": {
        "collapsed": false
      },
      "outputs": [],
      "source": [
        "emg3d.Report()"
      ]
    }
  ],
  "metadata": {
    "kernelspec": {
      "display_name": "Python 3",
      "language": "python",
      "name": "python3"
    },
    "language_info": {
      "codemirror_mode": {
        "name": "ipython",
        "version": 3
      },
      "file_extension": ".py",
      "mimetype": "text/x-python",
      "name": "python",
      "nbconvert_exporter": "python",
      "pygments_lexer": "ipython3",
      "version": "3.8.3"
    }
  },
  "nbformat": 4,
  "nbformat_minor": 0
}