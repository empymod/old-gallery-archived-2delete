{
  "cells": [
    {
      "cell_type": "code",
      "execution_count": null,
      "metadata": {
        "collapsed": false
      },
      "outputs": [],
      "source": [
        "%matplotlib notebook"
      ]
    },
    {
      "cell_type": "markdown",
      "metadata": {},
      "source": [
        "\n3. SimPEG: 3D with tri-axial anisotropy\n=======================================\n\n`SimPEG <https://simpeg.xyz>`_ is an open source python package for simulation\nand gradient based parameter estimation in geophysical applications. Here we\ncompare ``emg3d`` with ``SimPEG`` using the forward solver ``Pardiso``.\n\nNote, in order to use the ``Pardiso``-solver ``pymatsolver`` has to be\ninstalled via ``conda``, not via ``pip``!\n"
      ]
    },
    {
      "cell_type": "code",
      "execution_count": null,
      "metadata": {
        "collapsed": false
      },
      "outputs": [],
      "source": [
        "import emg3d\nimport SimPEG\nimport discretize\nimport numpy as np\nimport pymatsolver\nimport SimPEG.electromagnetics.frequency_domain as FDEM\nimport matplotlib.pyplot as plt\nplt.style.use('ggplot')"
      ]
    },
    {
      "cell_type": "markdown",
      "metadata": {},
      "source": [
        "Model and survey parameters\n---------------------------\n\n"
      ]
    },
    {
      "cell_type": "code",
      "execution_count": null,
      "metadata": {
        "collapsed": false
      },
      "outputs": [],
      "source": [
        "# Depths (0 is sea-surface)\nwater_depth = 1000\ntarget_x = np.r_[-500, 500]\ntarget_y = target_x\ntarget_z = -water_depth + np.r_[-400, -100]\n\n# Resistivities\nres_air = 2e8\nres_sea = 0.33\nres_back = [1., 2., 3.]  # Background in x-, y-, and z-directions\nres_target = 100.\n\nfreq = 1.0\n\nsrc = [-100, 100, 0, 0, -900, -900]"
      ]
    },
    {
      "cell_type": "markdown",
      "metadata": {},
      "source": [
        "Mesh and source-field\n---------------------\n\n"
      ]
    },
    {
      "cell_type": "code",
      "execution_count": null,
      "metadata": {
        "collapsed": false
      },
      "outputs": [],
      "source": [
        "# skin depth\nskin_depth = 503*np.sqrt(res_back[0]/freq)\nprint(f\"\\nThe skin_depth is {skin_depth} m.\\n\")\n\ncs = 100    # 100 m min_width of cells\n\npf = 1.15   # Padding factor x- and y-directions\npfz = 1.35  # .              z-direction\nnpadx = 12  # Nr of padding in x- and y-directions\nnpadz = 9   # .                z-direction\n\ndomain_x = 4000            # x- and y-domain\ndomain_z = - target_z[0]   # z-domain\n\n# Create mesh\nmesh = discretize.TensorMesh(\n    [[(cs, npadx, -pf), (cs, int(domain_x/cs)), (cs, npadx, pf)],\n     [(cs, npadx, -pf), (cs, int(domain_x/cs)), (cs, npadx, pf)],\n     [(cs, npadz, -pfz), (cs, int(domain_z/cs)), (cs, npadz, pfz)]],\n)\n\n# Center mesh\nmesh.x0 = np.r_[-mesh.hx.sum()/2, -mesh.hy.sum()/2, -mesh.hz[:-npadz].sum()]\n\n# Create the source field for this mesh and given frequency\nsfield = emg3d.get_source_field(mesh, src, freq, strength=0)\n\n# We take the receiver locations at the actual CCx-locations\nrec_x = mesh.vectorCCx[12:-12]\nprint(f\"Receiver locations:\\n{rec_x}\\n\")\n\nmesh"
      ]
    },
    {
      "cell_type": "markdown",
      "metadata": {},
      "source": [
        "Create model\n------------\n\n"
      ]
    },
    {
      "cell_type": "code",
      "execution_count": null,
      "metadata": {
        "collapsed": false
      },
      "outputs": [],
      "source": [
        "# Layered_background\nres_x = res_air*np.ones(mesh.nC)\nres_x[mesh.gridCC[:, 2] <= 0] = res_sea\n\nres_y = res_x.copy()\nres_z = res_x.copy()\n\nres_x[mesh.gridCC[:, 2] <= -water_depth] = res_back[0]\nres_y[mesh.gridCC[:, 2] <= -water_depth] = res_back[1]\nres_z[mesh.gridCC[:, 2] <= -water_depth] = res_back[2]\n\nres_x_bg = res_x.copy()\nres_y_bg = res_y.copy()\nres_z_bg = res_z.copy()\n\n# Include the target\ntarget_inds = (\n    (mesh.gridCC[:, 0] >= target_x[0]) & (mesh.gridCC[:, 0] <= target_x[1]) &\n    (mesh.gridCC[:, 1] >= target_y[0]) & (mesh.gridCC[:, 1] <= target_y[1]) &\n    (mesh.gridCC[:, 2] >= target_z[0]) & (mesh.gridCC[:, 2] <= target_z[1])\n)\nres_x[target_inds] = res_target\nres_y[target_inds] = res_target\nres_z[target_inds] = res_target\n\n# Create emg3d-models for given frequency\npmodel = emg3d.Model(\n        mesh, property_x=res_x, property_y=res_y,\n        property_z=res_z, mapping='Resistivity')\npmodel_bg = emg3d.Model(\n        mesh, property_x=res_x_bg, property_y=res_y_bg,\n        property_z=res_z_bg, mapping='Resistivity')\n\n# Plot a slice\nmesh.plot_3d_slicer(pmodel.property_x, zslice=-1100, clim=[0, 2],\n                    xlim=(-4000, 4000), ylim=(-4000, 4000), zlim=(-2000, 500))"
      ]
    },
    {
      "cell_type": "markdown",
      "metadata": {},
      "source": [
        "Compute ``emg3d``\n-------------------\n\n"
      ]
    },
    {
      "cell_type": "code",
      "execution_count": null,
      "metadata": {
        "collapsed": false
      },
      "outputs": [],
      "source": [
        "em3_tg = emg3d.solve(mesh, pmodel, sfield, verb=3, nu_pre=0,\n                     semicoarsening=True)"
      ]
    },
    {
      "cell_type": "code",
      "execution_count": null,
      "metadata": {
        "collapsed": false
      },
      "outputs": [],
      "source": [
        "em3_bg = emg3d.solve(mesh, pmodel_bg, sfield, verb=3, nu_pre=0,\n                     semicoarsening=True)"
      ]
    },
    {
      "cell_type": "markdown",
      "metadata": {},
      "source": [
        "Compute ``SimPEG``\n--------------------\n\n"
      ]
    },
    {
      "cell_type": "code",
      "execution_count": null,
      "metadata": {
        "collapsed": false
      },
      "outputs": [],
      "source": [
        "# Set up the receivers\nrx_locs = discretize.utils.ndgrid([rec_x, np.r_[0], np.r_[-water_depth]])\nrx_list = [\n    FDEM.receivers.Point_e(\n        orientation='x', component=\"real\", locations=rx_locs),\n    FDEM.receivers.Point_e(\n        orientation='x', component=\"imag\", locations=rx_locs)\n]\n\n# We use the emg3d-source-vector, to ensure we use the same in both cases\nsrc_sp = FDEM.sources.RawVec_e(rx_list, s_e=sfield.vector, freq=freq)\nsrc_list = [src_sp]\nsurvey = FDEM.Survey(src_list)\n\n# Define the Simulation\nsim = FDEM.simulation.Simulation3DElectricField(\n        mesh,\n        survey=survey,\n        sigmaMap=SimPEG.maps.IdentityMap(mesh),\n        Solver=pymatsolver.Pardiso,\n)"
      ]
    },
    {
      "cell_type": "code",
      "execution_count": null,
      "metadata": {
        "collapsed": false
      },
      "outputs": [],
      "source": [
        "spg_tg_dobs = sim.dpred(np.vstack([1./res_x, 1./res_y, 1./res_z]).T)\nspg_tg = SimPEG.survey.Data(survey, dobs=spg_tg_dobs)"
      ]
    },
    {
      "cell_type": "code",
      "execution_count": null,
      "metadata": {
        "collapsed": false
      },
      "outputs": [],
      "source": [
        "spg_bg_dobs = sim.dpred(\n        np.vstack([1./res_x_bg, 1./res_y_bg, 1./res_z_bg]).T)\nspg_bg = SimPEG.survey.Data(survey, dobs=spg_bg_dobs)"
      ]
    },
    {
      "cell_type": "markdown",
      "metadata": {},
      "source": [
        "Plot result\n-----------\n\n"
      ]
    },
    {
      "cell_type": "code",
      "execution_count": null,
      "metadata": {
        "collapsed": false
      },
      "outputs": [],
      "source": [
        "ix1, ix2 = 12, 12\niy = 32\niz = 13\n\nplt.figure(figsize=(9, 6))\n\nplt.subplot(221)\nplt.title('|Real(response)|')\nplt.semilogy(rec_x/1e3, np.abs(em3_bg.fx[ix1:-ix2, iy, iz].real))\nplt.semilogy(rec_x/1e3, np.abs(em3_tg.fx[ix1:-ix2, iy, iz].real))\nplt.semilogy(rec_x/1e3, np.abs(spg_bg[src_sp, rx_list[0]]), 'C4--')\nplt.semilogy(rec_x/1e3, np.abs(spg_tg[src_sp, rx_list[0]]), 'C5--')\nplt.xlabel('Offset (km)')\nplt.ylabel('$E_x$ (V/m)')\n\nplt.subplot(223)\nplt.title('|Imag(response)|')\nplt.semilogy(rec_x/1e3, np.abs(em3_bg.fx[ix1:-ix2, iy, iz].imag),\n             label='emg3d BG')\nplt.semilogy(rec_x/1e3, np.abs(em3_tg.fx[ix1:-ix2, iy, iz].imag),\n             label='emg3d target')\nplt.semilogy(rec_x/1e3, np.abs(spg_bg[src_sp, rx_list[1]]), 'C4--',\n             label='SimPEG BG')\nplt.semilogy(rec_x/1e3, np.abs(spg_tg[src_sp, rx_list[1]]), 'C5--',\n             label='SimPEG target')\nplt.xlabel('Offset (km)')\nplt.ylabel('$E_x$ (V/m)')\nplt.legend()\n\nplt.subplot(222)\nplt.title('Difference Real')\n\nnrmsd_bg = 200*(abs(spg_bg[src_sp, rx_list[0]] -\n                    em3_bg.fx[ix1:-ix2, iy, iz].real) /\n                (abs(em3_bg.fx[ix1:-ix2, iy, iz].real) +\n                 abs(spg_bg[src_sp, rx_list[0]])))\nnrmsd_tg = 200*(abs(spg_tg[src_sp, rx_list[0]] -\n                    em3_tg.fx[ix1:-ix2, iy, iz].real) /\n                (abs(em3_tg.fx[ix1:-ix2, iy, iz].real) +\n                 abs(spg_tg[src_sp, rx_list[0]])))\n\nplt.semilogy(rec_x/1e3, nrmsd_bg, label='BG')\nplt.semilogy(rec_x/1e3, nrmsd_tg, label='target')\n\nplt.xlabel('Offset (km)')\nplt.ylabel('NRMSD (%)')\nplt.legend()\n\nplt.subplot(224)\nplt.title('Difference Imag')\n\nnrmsd_bg = 200*(abs(spg_bg[src_sp, rx_list[1]] -\n                    em3_bg.fx[ix1:-ix2, iy, iz].imag) /\n                (abs(em3_bg.fx[ix1:-ix2, iy, iz].imag) +\n                 abs(spg_bg[src_sp, rx_list[1]])))\nnrmsd_tg = 200*(abs(spg_tg[src_sp, rx_list[1]] -\n                    em3_tg.fx[ix1:-ix2, iy, iz].imag) /\n                (abs(em3_tg.fx[ix1:-ix2, iy, iz].imag) +\n                 abs(spg_tg[src_sp, rx_list[1]])))\n\nplt.semilogy(rec_x/1e3, nrmsd_bg, label='BG')\nplt.semilogy(rec_x/1e3, nrmsd_tg, label='target')\n\nplt.xlabel('Offset (km)')\nplt.ylabel('NRMSD (%)')\nplt.legend()\n\nplt.tight_layout()\nplt.show()"
      ]
    },
    {
      "cell_type": "code",
      "execution_count": null,
      "metadata": {
        "collapsed": false
      },
      "outputs": [],
      "source": [
        "emg3d.Report([SimPEG, pymatsolver])"
      ]
    }
  ],
  "metadata": {
    "kernelspec": {
      "display_name": "Python 3",
      "language": "python",
      "name": "python3"
    },
    "language_info": {
      "codemirror_mode": {
        "name": "ipython",
        "version": 3
      },
      "file_extension": ".py",
      "mimetype": "text/x-python",
      "name": "python",
      "nbconvert_exporter": "python",
      "pygments_lexer": "ipython3",
      "version": "3.8.3"
    }
  },
  "nbformat": 4,
  "nbformat_minor": 0
}