{
  "cells": [
    {
      "cell_type": "code",
      "execution_count": null,
      "metadata": {
        "collapsed": false
      },
      "outputs": [],
      "source": [
        "%matplotlib notebook"
      ]
    },
    {
      "cell_type": "markdown",
      "metadata": {},
      "source": [
        "\n1. empymod: 1D VTI resistivity\n==============================\n\nThe code ``empymod`` is an open-source code which can model CSEM responses for\na layered medium including VTI electrical anisotropy, see `empymod.github.io\n<https://empymod.github.io>`_.\n\nContent:\n\n1. Full-space VTI model for a finite length, finite strength, rotated bipole.\n\n  a. Regular VTI case\n  b. Tri-axial anisotropy check: Swap ``x`` and ``z`` in ``emg3d``; compare\n     ``yz``-slice\n  c. Tri-axial anisotropy check: Swap ``y`` and ``z`` in ``emg3d``; compare\n     ``xz``-slice\n\n2. Layered model for a deep water model with a point dipole source.\n"
      ]
    },
    {
      "cell_type": "code",
      "execution_count": null,
      "metadata": {
        "collapsed": false
      },
      "outputs": [],
      "source": [
        "import emg3d\nimport empymod\nimport numpy as np\nimport matplotlib.pyplot as plt\nfrom scipy import interpolate as sint\nfrom matplotlib.colors import LogNorm, SymLogNorm\nplt.style.use('ggplot')"
      ]
    },
    {
      "cell_type": "code",
      "execution_count": null,
      "metadata": {
        "collapsed": false
      },
      "outputs": [],
      "source": [
        "def plot_data_rel(ax, name, data, x, vmin=-15., vmax=-7., mode=\"log\"):\n    \"\"\"Plot function.\"\"\"\n\n    ax.set_title(name)\n    ax.set_xlim(min(x)/1000, max(x)/1000)\n    ax.set_ylim(min(x)/1000, max(x)/1000)\n    ax.axis(\"equal\")\n\n    if isinstance(mode, str):\n        if mode == \"abs\":\n            cf = ax.pcolormesh(\n                    x/1000, x/1000, np.log10(np.abs(data)), linewidth=0,\n                    rasterized=True, cmap=\"viridis\", vmin=vmin, vmax=vmax)\n        else:\n            cf = ax.pcolormesh(\n                    x/1000, x/1000, data, linewidth=0, rasterized=True,\n                    cmap=\"PuOr_r\",\n                    norm=SymLogNorm(linthresh=10**vmin,\n                                    vmin=-10**vmax, vmax=10**vmax))\n    else:\n        cf = ax.pcolormesh(\n                x/1000, x/1000, np.log10(data), vmin=vmin, vmax=vmax,\n                linewidth=0, rasterized=True,\n                cmap=plt.cm.get_cmap(\"RdBu_r\", 8))\n\n    return cf"
      ]
    },
    {
      "cell_type": "code",
      "execution_count": null,
      "metadata": {
        "collapsed": false
      },
      "outputs": [],
      "source": [
        "def plot_result_rel(depm, de3d, x, title, vmin=-15., vmax=-7., mode=\"log\"):\n    fig, axs = plt.subplots(figsize=(18, 10), nrows=2, ncols=3)\n\n    if mode == \"log\":\n        case = \"\"\n    else:\n        case = \"|\"\n\n    # Plot Re(data)\n    cf0 = plot_data_rel(axs[0, 0], r\"(a) \"+case+\"Re(empymod)\"+case,\n                        depm.real, x, vmin, vmax, mode)\n    plot_data_rel(axs[0, 1], r\"(b) \"+case+\"Re(emg3d)\"+case,\n                  de3d.real, x, vmin, vmax, mode)\n    cf2 = plot_data_rel(axs[0, 2], r\"(c) Error real part\",\n                        np.abs((depm.real-de3d.real)/depm.real)*100, x,\n                        vmin=-2, vmax=2, mode=True)\n\n    # Plot Im(data)\n    plot_data_rel(axs[1, 0], r\"(d) \"+case+\"Im(empymod)\"+case,\n                  depm.imag, x, vmin, vmax, mode)\n    plot_data_rel(axs[1, 1], r\"(e) \"+case+\"Im(emg3d)\"+case,\n                  de3d.imag, x, vmin, vmax, mode)\n    plot_data_rel(axs[1, 2], r\"(f) Error imaginary part\",\n                  np.abs((depm.imag-de3d.imag)/depm.imag)*100,\n                  x, vmin=-2, vmax=2, mode=True)\n\n    # Colorbars\n    fig.colorbar(cf0, ax=axs[0, :], label=r\"$\\log_{10}$ Amplitude (V/m)\")\n    cbar = fig.colorbar(cf2, ax=axs[1, :], label=r\"Relative Error\")\n    cbar.set_ticks([-2, -1, 0, 1, 2])\n    cbar.ax.set_yticklabels([r\"$0.01\\,\\%$\", r\"$0.1\\,\\%$\", r\"$1\\,\\%$\",\n                             r\"$10\\,\\%$\", r\"$100\\,\\%$\"])\n\n    # Axis label\n    fig.text(0.4, 0.05, \"Inline Offset (km)\", fontsize=14)\n    fig.text(0.08, 0.6, \"Crossline Offset (km)\", rotation=90, fontsize=14)\n\n    # Title\n    fig.suptitle(title, y=1, fontsize=20)\n    plt.show()"
      ]
    },
    {
      "cell_type": "code",
      "execution_count": null,
      "metadata": {
        "collapsed": false
      },
      "outputs": [],
      "source": [
        "def plot_lineplot_ex(x, y, data, epm_fs, grid):\n    xi = x.size//2\n    yi = y.size//2\n\n    fn = sint.interp1d(x, data[:, xi], bounds_error=False)\n    x1 = fn(grid.vectorNx)\n\n    fn = sint.interp1d(y, data[yi, :], bounds_error=False)\n    y1 = fn(grid.vectorNx)\n\n    plt.figure(figsize=(15, 8))\n\n    plt.plot(x/1e3, np.abs(epm_fs[:, xi]), 'C0', lw=3, label='Inline empymod')\n    plt.plot(x/1e3, np.abs(data[:, xi]), 'k--', label='Inline emg3d')\n    plt.plot(grid.vectorNx/1e3, np.abs(x1), 'k*')\n\n    plt.plot(y/1e3, np.abs(epm_fs[yi, :]), 'C1', lw=3,\n             label='Crossline empymod')\n    plt.plot(y/1e3, np.abs(data[yi, :]), 'k:', label='Crossline emg3d')\n    plt.plot(grid.vectorNx/1e3, np.abs(y1), 'k*', label='Grid points emg3d')\n\n    plt.yscale('log')\n    plt.title(r'Inline and crossline $E_x$', fontsize=20)\n    plt.xlabel('Offset (km)', fontsize=14)\n    plt.ylabel(r'|Amplitude (V/m)|', fontsize=14)\n    plt.legend()\n    plt.show()"
      ]
    },
    {
      "cell_type": "markdown",
      "metadata": {},
      "source": [
        "1. Full-space VTI model for a finite length, finite strength, rotated bipole\n----------------------------------------------------------------------------\n\n1.a Regular VTI case\n````````````````````\n\nempymod\n```````\n\n"
      ]
    },
    {
      "cell_type": "code",
      "execution_count": null,
      "metadata": {
        "collapsed": false
      },
      "outputs": [],
      "source": [
        "# Survey parameters\nx = (np.arange(1025))*5-2560\nrx = np.repeat([x, ], np.size(x), axis=0)\nry = rx.transpose()\n\n# Model parameters\nresh = 1.              # Horizontal resistivity\naniso = np.sqrt(2.)    # Anisotropy\nresv = resh*aniso**2   # Vertical resistivity\nsrc = [-50, 50, -30, 30, -320., -280.]  # Source: [x1, x2, y1, y2, z1, z2]\nsrc_c = np.mean(np.array(src).reshape(3, 2), 1).ravel()  # Center pts of source\nzrec = -400.           # Receiver depth\nfreq = 0.77            # Frequency\nstrength = np.pi       # Source strength\n\n# Input for empymod\nmodel = {\n    'src': src,\n    'depth': [],\n    'res': resh,\n    'aniso': aniso,\n    'strength': strength,\n    'srcpts': 5,\n    'freqtime': freq,\n    'xdirect': True,  # Use analytical fullspace solution\n    'htarg': {'pts_per_dec': -1},\n}"
      ]
    },
    {
      "cell_type": "code",
      "execution_count": null,
      "metadata": {
        "collapsed": false
      },
      "outputs": [],
      "source": [
        "epm_fs_x = empymod.bipole(rec=[rx.ravel(), ry.ravel(), zrec, 0, 0], verb=3,\n                          **model).reshape(np.shape(rx))\nepm_fs_y = empymod.bipole(rec=[rx.ravel(), ry.ravel(), zrec, 90, 0], verb=1,\n                          **model).reshape(np.shape(rx))\nepm_fs_z = empymod.bipole(rec=[rx.ravel(), ry.ravel(), zrec, 0, 90], verb=1,\n                          **model).reshape(np.shape(rx))"
      ]
    },
    {
      "cell_type": "markdown",
      "metadata": {},
      "source": [
        "emg3d\n`````\n\n"
      ]
    },
    {
      "cell_type": "code",
      "execution_count": null,
      "metadata": {
        "collapsed": false
      },
      "outputs": [],
      "source": [
        "# Get computation domain as a function of frequency (resp., skin depth)\nhx_min, xdomain = emg3d.meshes.get_domain(x0=src_c[0], freq=0.1, min_width=20)\nhz_min, zdomain = emg3d.meshes.get_domain(x0=src_c[2], freq=0.1, min_width=20)\n\n# Create stretched grid\nnx = 2**7\nhx = emg3d.meshes.get_stretched_h(hx_min, xdomain, nx, src_c[0])\nhy = emg3d.meshes.get_stretched_h(hx_min, xdomain, nx, src_c[1])\nhz = emg3d.meshes.get_stretched_h(hz_min, zdomain, nx, src_c[2])\npgrid = emg3d.TensorMesh([hx, hy, hz], x0=(xdomain[0], xdomain[0], zdomain[0]))\npgrid"
      ]
    },
    {
      "cell_type": "code",
      "execution_count": null,
      "metadata": {
        "collapsed": false
      },
      "outputs": [],
      "source": [
        "# Get the model\npmodel = emg3d.Model(\n        pgrid, property_x=resh, property_z=resv, mapping='Resistivity')\n\n# Get the source field\nsfield = emg3d.get_source_field(pgrid, src, freq, strength)\n\n# Compute the electric field\npfield = emg3d.solve(pgrid, pmodel, sfield, verb=3)"
      ]
    },
    {
      "cell_type": "markdown",
      "metadata": {},
      "source": [
        "Plot\n````\n\n"
      ]
    },
    {
      "cell_type": "code",
      "execution_count": null,
      "metadata": {
        "collapsed": false
      },
      "outputs": [],
      "source": [
        "e3d_fs_x = emg3d.get_receiver(pgrid, pfield.fx, (rx, ry, zrec))\nplot_result_rel(epm_fs_x, e3d_fs_x, x, r'Diffusive Fullspace $E_x$',\n                vmin=-12, vmax=-6, mode='abs')"
      ]
    },
    {
      "cell_type": "code",
      "execution_count": null,
      "metadata": {
        "collapsed": false
      },
      "outputs": [],
      "source": [
        "e3d_fs_y = emg3d.get_receiver(pgrid, pfield.fy, (rx, ry, zrec))\nplot_result_rel(epm_fs_y, e3d_fs_y, x, r'Diffusive Fullspace $E_y$',\n                vmin=-12, vmax=-6, mode='abs')"
      ]
    },
    {
      "cell_type": "code",
      "execution_count": null,
      "metadata": {
        "collapsed": false
      },
      "outputs": [],
      "source": [
        "e3d_fs_z = emg3d.get_receiver(pgrid, pfield.fz, (rx, ry, zrec))\nplot_result_rel(epm_fs_z, e3d_fs_z, x, r'Diffusive Fullspace $E_z$',\n                vmin=-12, vmax=-6, mode='abs')"
      ]
    },
    {
      "cell_type": "code",
      "execution_count": null,
      "metadata": {
        "collapsed": false
      },
      "outputs": [],
      "source": [
        "plot_lineplot_ex(x, x, e3d_fs_x.real, epm_fs_x.real, pgrid)"
      ]
    },
    {
      "cell_type": "markdown",
      "metadata": {},
      "source": [
        "1.b Tri-axial anisotropy check\n``````````````````````````````\n\nSwap ``x`` and ``z`` in ``emg3d``; compare ``yz``-slice\n\n``empymod`` can handle VTI, but not tri-axial anisotropy. To verify tri-axial\nanisotropy in ``emg3d``, we swap the ``x`` and ``z`` axes, and compare the\n``xy``-``empymod`` result to the ``zy``-``emg3d`` result.\n\n"
      ]
    },
    {
      "cell_type": "code",
      "execution_count": null,
      "metadata": {
        "collapsed": false
      },
      "outputs": [],
      "source": [
        "# ===> Swap hy and hz; ydomain and zdomain <===\npgrid = emg3d.TensorMesh([hx, hz, hy], x0=(xdomain[0], zdomain[0], xdomain[0]))\n\n# ===> Swap y- and z-resistivities <===\npmodel = emg3d.Model(\n        pgrid, property_x=resh, property_y=resv, mapping='Resistivity')\n\n# ===> Swap src_y and src_z <===\nsrc_new = [src[0], src[1], src[4], src[5], src[2], src[3]]\n\nsfield = emg3d.get_source_field(pgrid, src_new, freq, strength)\npfield = emg3d.solve(pgrid, pmodel, sfield, verb=3)\n\n# ===> Swap ry and zrec <===\ne3d_fs_x = emg3d.get_receiver(pgrid, pfield.fx, (rx, zrec, ry))\nplot_result_rel(epm_fs_x, e3d_fs_x, x, r'Diffusive Fullspace $E_x$',\n                vmin=-12, vmax=-6, mode='abs')\n\n# ===> Swap ry and zrec; 'y'->'z' <===\ne3d_fs_y = emg3d.get_receiver(pgrid, pfield.fz, (rx, zrec, ry))\nplot_result_rel(epm_fs_y, e3d_fs_y, x, r'Diffusive Fullspace $E_y$',\n                vmin=-12, vmax=-6, mode='abs')\n\n# ===> Swap ry and zrec; 'z'->'y' <===\ne3d_fs_z = emg3d.get_receiver(pgrid, pfield.fy, (rx, zrec, ry))\nplot_result_rel(epm_fs_z, e3d_fs_z, x, r'Diffusive Fullspace $E_z$',\n                vmin=-12, vmax=-6, mode='abs')"
      ]
    },
    {
      "cell_type": "markdown",
      "metadata": {},
      "source": [
        "1.c Tri-axial anisotropy check\n``````````````````````````````\n\nSwap ``y`` and ``z`` in ``emg3d``; compare ``xz``-slice\n\n``empymod`` can handle VTI, but not tri-axial anisotropy. To verify tri-axial\nanisotropy in ``emg3d``, we swap the ``y`` and ``z`` axes, and compare the\n``xy``-``empymod`` result to the ``xz``-``emg3d`` result.\n\n"
      ]
    },
    {
      "cell_type": "code",
      "execution_count": null,
      "metadata": {
        "collapsed": false
      },
      "outputs": [],
      "source": [
        "# ===> Swap hx and hz; xdomain and zdomain <===\npgrid = emg3d.TensorMesh([hz, hy, hx], x0=(zdomain[0], xdomain[0], xdomain[0]))\n\n# ===> Swap x- and z-resistivities <===\npmodel = emg3d.Model(\n        pgrid, property_x=resv, property_y=resh, property_z=resh,\n        mapping='Resistivity')\n\n# ===> Swap src_x and src_z <===\nsrc_new = [src[4], src[5], src[2], src[3], src[0], src[1]]\n\nsfield = emg3d.get_source_field(pgrid, src_new, freq, strength)\npfield = emg3d.solve(pgrid, pmodel, sfield, verb=3)\n\n# ===> Swap rx and zrec; 'x'->'z' <===\ne3d_fs_x = emg3d.get_receiver(pgrid, pfield.fz, (zrec, ry, rx))\nplot_result_rel(epm_fs_x, e3d_fs_x, x, r'Diffusive Fullspace $E_x$',\n                vmin=-12, vmax=-6, mode='abs')\n\n# ===> Swap rx and zrec <===\ne3d_fs_y = emg3d.get_receiver(pgrid, pfield.fy, (zrec, ry, rx))\nplot_result_rel(epm_fs_y, e3d_fs_y, x, r'Diffusive Fullspace $E_y$',\n                vmin=-12, vmax=-6, mode='abs')\n\n# ===> Swap rx and zrec; 'z'->'x' <===\ne3d_fs_z = emg3d.get_receiver(pgrid, pfield.fx, (zrec, ry, rx))\nplot_result_rel(epm_fs_z, e3d_fs_z, x, r'Diffusive Fullspace $E_z$',\n                vmin=-12, vmax=-6, mode='abs')"
      ]
    },
    {
      "cell_type": "markdown",
      "metadata": {},
      "source": [
        "2. Layered model for a deep water model with a point dipole source\n------------------------------------------------------------------\n\nempymod\n```````\n\n"
      ]
    },
    {
      "cell_type": "code",
      "execution_count": null,
      "metadata": {
        "collapsed": false
      },
      "outputs": [],
      "source": [
        "# Survey parameters\nx = (np.arange(1025))*5-2560\nrx = np.repeat([x, ], np.size(x), axis=0)\nry = rx.transpose()\n\n# Model parameters\nresh = [1, 50, 1, 0.3, 1e12]      # Horizontal resistivity\naniso = np.sqrt([2, 2, 2, 1, 1])  # Anisotropy\nresv = resh*aniso**2              # Vertical resistivity\nsrc = [0, 0, -900, 0, 0]          # Source: [x, y, z, azimuth, dip]\nzrec = -950.                      # Receiver depth\nfreq = 1                          # Frequency\ndepth = np.array([-2200, -2000, -1000, 0])  # Layer boundaries\n\nmodel = {\n    'src': src,\n    'depth': depth,\n    'res': resh,\n    'aniso': aniso,\n    'freqtime': freq,\n    'htarg': {'pts_per_dec': -1},\n}"
      ]
    },
    {
      "cell_type": "code",
      "execution_count": null,
      "metadata": {
        "collapsed": false
      },
      "outputs": [],
      "source": [
        "epm_deep_x = empymod.bipole(rec=[rx.ravel(), ry.ravel(), zrec, 0, 0],\n                            verb=3, **model).reshape(np.shape(rx))\nepm_deep_y = empymod.bipole(rec=[rx.ravel(), ry.ravel(), zrec, 90, 0],\n                            verb=1, **model).reshape(np.shape(rx))\nepm_deep_z = empymod.bipole(rec=[rx.ravel(), ry.ravel(), zrec, 0, 90],\n                            verb=1, **model).reshape(np.shape(rx))"
      ]
    },
    {
      "cell_type": "markdown",
      "metadata": {},
      "source": [
        "emg3d\n`````\n\n"
      ]
    },
    {
      "cell_type": "code",
      "execution_count": null,
      "metadata": {
        "collapsed": false
      },
      "outputs": [],
      "source": [
        "# Get computation domain as a function of frequency (resp., skin depth)\nhx_min, xdomain = emg3d.meshes.get_domain(\n        x0=src[0], freq=0.1, min_width=20, fact_neg=10)\nhz_min, zdomain = emg3d.meshes.get_domain(\n        x0=src[2], freq=0.1, min_width=20, fact_pos=10)\n\n# Create stretched grid\nnx = 2**7\nhx = emg3d.meshes.get_stretched_h(hx_min, xdomain, nx, src[0])\nhy = emg3d.meshes.get_stretched_h(hx_min, xdomain, nx, src[1])\nhz = emg3d.meshes.get_stretched_h(hz_min, zdomain, nx*2, x0=depth[0], x1=0)\npgrid = emg3d.TensorMesh([hx, hy, hz], x0=(xdomain[0], xdomain[0], zdomain[0]))\npgrid"
      ]
    },
    {
      "cell_type": "code",
      "execution_count": null,
      "metadata": {
        "collapsed": false
      },
      "outputs": [],
      "source": [
        "# Create the model: horizontal resistivity\nres_x_full = resh[0]*np.ones(pgrid.nC)  # Background\nres_x_full[pgrid.gridCC[:, 2] >= depth[0]] = resh[1]  # Target\nres_x_full[pgrid.gridCC[:, 2] >= depth[1]] = resh[2]  # Overburden\nres_x_full[pgrid.gridCC[:, 2] >= depth[2]] = resh[3]  # Water\nres_x_full[pgrid.gridCC[:, 2] >= depth[3]] = resh[4]  # Air\n\n# Create the model: vertical resistivity\nres_z_full = resv[0]*np.ones(pgrid.nC)  # Background\nres_z_full[pgrid.gridCC[:, 2] >= depth[0]] = resv[1]\nres_z_full[pgrid.gridCC[:, 2] >= depth[1]] = resv[2]\nres_z_full[pgrid.gridCC[:, 2] >= depth[2]] = resv[3]\nres_z_full[pgrid.gridCC[:, 2] >= depth[3]] = resv[4]\n\n# Get the model\npmodel = emg3d.Model(\n        pgrid, property_x=res_x_full, property_z=res_z_full,\n        mapping='Resistivity')\n\n# Plot it\npgrid.plot_3d_slicer(pmodel.property_x, zslice=-2000, clim=[0.3, 50],\n                     zlim=(-5000, 50), pcolor_opts={'norm': LogNorm()})"
      ]
    },
    {
      "cell_type": "code",
      "execution_count": null,
      "metadata": {
        "collapsed": false
      },
      "outputs": [],
      "source": [
        "# Get the source field\nsfield = emg3d.get_source_field(pgrid, src, freq, 0)\n\n# Compute the electric field\npfield = emg3d.solve(pgrid, pmodel, sfield, verb=3)"
      ]
    },
    {
      "cell_type": "markdown",
      "metadata": {},
      "source": [
        "Plot\n````\n\n"
      ]
    },
    {
      "cell_type": "code",
      "execution_count": null,
      "metadata": {
        "collapsed": false
      },
      "outputs": [],
      "source": [
        "e3d_deep_x = emg3d.get_receiver(pgrid, pfield.fx, (rx, ry, zrec))\nplot_result_rel(epm_deep_x, e3d_deep_x, x, r'Deep water point dipole $E_x$',\n                vmin=-14, vmax=-8, mode='abs')"
      ]
    },
    {
      "cell_type": "code",
      "execution_count": null,
      "metadata": {
        "collapsed": false
      },
      "outputs": [],
      "source": [
        "e3d_deep_y = emg3d.get_receiver(pgrid, pfield.fy, (rx, ry, zrec))\nplot_result_rel(epm_deep_y, e3d_deep_y, x, r'Deep water point dipole $E_y$',\n                vmin=-14, vmax=-8, mode='abs')"
      ]
    },
    {
      "cell_type": "code",
      "execution_count": null,
      "metadata": {
        "collapsed": false
      },
      "outputs": [],
      "source": [
        "e3d_deep_z = emg3d.get_receiver(pgrid, pfield.fz, (rx, ry, zrec))\nplot_result_rel(epm_deep_z, e3d_deep_z, x, r'Deep water point dipole $E_z$',\n                vmin=-14, vmax=-8, mode='abs')"
      ]
    },
    {
      "cell_type": "code",
      "execution_count": null,
      "metadata": {
        "collapsed": false
      },
      "outputs": [],
      "source": [
        "plot_lineplot_ex(x, x, e3d_deep_x.real, epm_deep_x.real, pgrid)"
      ]
    },
    {
      "cell_type": "code",
      "execution_count": null,
      "metadata": {
        "collapsed": false
      },
      "outputs": [],
      "source": [
        "emg3d.Report()"
      ]
    }
  ],
  "metadata": {
    "kernelspec": {
      "display_name": "Python 3",
      "language": "python",
      "name": "python3"
    },
    "language_info": {
      "codemirror_mode": {
        "name": "ipython",
        "version": 3
      },
      "file_extension": ".py",
      "mimetype": "text/x-python",
      "name": "python",
      "nbconvert_exporter": "python",
      "pygments_lexer": "ipython3",
      "version": "3.8.3"
    }
  },
  "nbformat": 4,
  "nbformat_minor": 0
}